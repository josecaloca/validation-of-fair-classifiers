{
 "cells": [
  {
   "attachments": {},
   "cell_type": "markdown",
   "metadata": {},
   "source": [
    "Author: Jose Caloca\n",
    "\n",
    "\n",
    "Date: 13/10/2023"
   ]
  },
  {
   "cell_type": "markdown",
   "metadata": {},
   "source": [
    "# Load Packages"
   ]
  },
  {
   "cell_type": "code",
   "execution_count": 1,
   "metadata": {},
   "outputs": [],
   "source": [
    "import pandas as pd #To work with dataset\n",
    "import numpy as np #Math library\n",
    "import seaborn as sns\n",
    "import matplotlib.pyplot as plt #to plot some parameters in seaborn\n",
    "import plotly.express as px\n",
    "import plotly.graph_objects as go\n",
    "from plotly.subplots import make_subplots\n",
    "from plotly.figure_factory import create_distplot\n",
    "import plotly.io as pio\n",
    "import warnings"
   ]
  },
  {
   "cell_type": "code",
   "execution_count": 2,
   "metadata": {},
   "outputs": [],
   "source": [
    "warnings.filterwarnings(\"ignore\")"
   ]
  },
  {
   "cell_type": "markdown",
   "metadata": {},
   "source": [
    "# Load Data"
   ]
  },
  {
   "cell_type": "code",
   "execution_count": 3,
   "metadata": {},
   "outputs": [],
   "source": [
    "df_credit = pd.read_csv(\"./data/german_credit_data.csv\", index_col=\"Unnamed: 0\")"
   ]
  },
  {
   "cell_type": "markdown",
   "metadata": {},
   "source": [
    "- Age (numeric)\n",
    "- Sex (text: male, female)\n",
    "- Job (numeric: 0 - unskilled and non-resident, 1 - unskilled and resident, 2 - skilled, 3 - highly skilled)\n",
    "- Housing (text: own, rent, or free)\n",
    "- Saving accounts (text - little, moderate, quite rich, rich)\n",
    "- Checking account (numeric, in DM - Deutsch Mark)\n",
    "- Credit amount (numeric, in DM)\n",
    "- Duration (numeric, in month)\n",
    "- Purpose(text: car, furniture/equipment, radio/TV, domestic appliances, repairs, education, business, vacation/others\n",
    "- Risk (Value target - Good or Bad Risk)"
   ]
  },
  {
   "cell_type": "code",
   "execution_count": 4,
   "metadata": {},
   "outputs": [
    {
     "data": {
      "text/html": [
       "<div>\n",
       "<style scoped>\n",
       "    .dataframe tbody tr th:only-of-type {\n",
       "        vertical-align: middle;\n",
       "    }\n",
       "\n",
       "    .dataframe tbody tr th {\n",
       "        vertical-align: top;\n",
       "    }\n",
       "\n",
       "    .dataframe thead th {\n",
       "        text-align: right;\n",
       "    }\n",
       "</style>\n",
       "<table border=\"1\" class=\"dataframe\">\n",
       "  <thead>\n",
       "    <tr style=\"text-align: right;\">\n",
       "      <th></th>\n",
       "      <th>Age</th>\n",
       "      <th>Sex</th>\n",
       "      <th>Job</th>\n",
       "      <th>Housing</th>\n",
       "      <th>Saving accounts</th>\n",
       "      <th>Checking account</th>\n",
       "      <th>Credit amount</th>\n",
       "      <th>Duration</th>\n",
       "      <th>Purpose</th>\n",
       "      <th>Risk</th>\n",
       "    </tr>\n",
       "  </thead>\n",
       "  <tbody>\n",
       "    <tr>\n",
       "      <th>0</th>\n",
       "      <td>67</td>\n",
       "      <td>male</td>\n",
       "      <td>2</td>\n",
       "      <td>own</td>\n",
       "      <td>NaN</td>\n",
       "      <td>little</td>\n",
       "      <td>1169</td>\n",
       "      <td>6</td>\n",
       "      <td>radio/TV</td>\n",
       "      <td>good</td>\n",
       "    </tr>\n",
       "    <tr>\n",
       "      <th>1</th>\n",
       "      <td>22</td>\n",
       "      <td>female</td>\n",
       "      <td>2</td>\n",
       "      <td>own</td>\n",
       "      <td>little</td>\n",
       "      <td>moderate</td>\n",
       "      <td>5951</td>\n",
       "      <td>48</td>\n",
       "      <td>radio/TV</td>\n",
       "      <td>bad</td>\n",
       "    </tr>\n",
       "    <tr>\n",
       "      <th>2</th>\n",
       "      <td>49</td>\n",
       "      <td>male</td>\n",
       "      <td>1</td>\n",
       "      <td>own</td>\n",
       "      <td>little</td>\n",
       "      <td>NaN</td>\n",
       "      <td>2096</td>\n",
       "      <td>12</td>\n",
       "      <td>education</td>\n",
       "      <td>good</td>\n",
       "    </tr>\n",
       "    <tr>\n",
       "      <th>3</th>\n",
       "      <td>45</td>\n",
       "      <td>male</td>\n",
       "      <td>2</td>\n",
       "      <td>free</td>\n",
       "      <td>little</td>\n",
       "      <td>little</td>\n",
       "      <td>7882</td>\n",
       "      <td>42</td>\n",
       "      <td>furniture/equipment</td>\n",
       "      <td>good</td>\n",
       "    </tr>\n",
       "    <tr>\n",
       "      <th>4</th>\n",
       "      <td>53</td>\n",
       "      <td>male</td>\n",
       "      <td>2</td>\n",
       "      <td>free</td>\n",
       "      <td>little</td>\n",
       "      <td>little</td>\n",
       "      <td>4870</td>\n",
       "      <td>24</td>\n",
       "      <td>car</td>\n",
       "      <td>bad</td>\n",
       "    </tr>\n",
       "  </tbody>\n",
       "</table>\n",
       "</div>"
      ],
      "text/plain": [
       "   Age     Sex  Job Housing Saving accounts Checking account  Credit amount  \\\n",
       "0   67    male    2     own             NaN           little           1169   \n",
       "1   22  female    2     own          little         moderate           5951   \n",
       "2   49    male    1     own          little              NaN           2096   \n",
       "3   45    male    2    free          little           little           7882   \n",
       "4   53    male    2    free          little           little           4870   \n",
       "\n",
       "   Duration              Purpose  Risk  \n",
       "0         6             radio/TV  good  \n",
       "1        48             radio/TV   bad  \n",
       "2        12            education  good  \n",
       "3        42  furniture/equipment  good  \n",
       "4        24                  car   bad  "
      ]
     },
     "execution_count": 4,
     "metadata": {},
     "output_type": "execute_result"
    }
   ],
   "source": [
    "df_credit.head()"
   ]
  },
  {
   "cell_type": "code",
   "execution_count": 5,
   "metadata": {},
   "outputs": [
    {
     "name": "stdout",
     "output_type": "stream",
     "text": [
      "Age                  53\n",
      "Sex                   2\n",
      "Job                   4\n",
      "Housing               3\n",
      "Saving accounts       4\n",
      "Checking account      3\n",
      "Credit amount       921\n",
      "Duration             33\n",
      "Purpose               8\n",
      "Risk                  2\n",
      "dtype: int64\n"
     ]
    }
   ],
   "source": [
    "#Looking unique values\n",
    "print(df_credit.nunique())"
   ]
  },
  {
   "cell_type": "markdown",
   "metadata": {},
   "source": [
    "# Data Visualisation"
   ]
  },
  {
   "cell_type": "code",
   "execution_count": 6,
   "metadata": {},
   "outputs": [
    {
     "data": {
      "application/vnd.plotly.v1+json": {
       "config": {
        "plotlyServerURL": "https://plot.ly"
       },
       "data": [
        {
         "marker": {
          "color": "blue"
         },
         "name": "Good credit",
         "type": "bar",
         "x": [
          "good"
         ],
         "y": [
          700
         ]
        },
        {
         "marker": {
          "color": "red"
         },
         "name": "Bad credit",
         "type": "bar",
         "x": [
          "bad"
         ],
         "y": [
          300
         ]
        }
       ],
       "layout": {
        "margin": {
         "b": 50,
         "l": 50,
         "pad": 4,
         "r": 50,
         "t": 50
        },
        "template": {
         "data": {
          "bar": [
           {
            "error_x": {
             "color": "rgb(36,36,36)"
            },
            "error_y": {
             "color": "rgb(36,36,36)"
            },
            "marker": {
             "line": {
              "color": "white",
              "width": 0.5
             },
             "pattern": {
              "fillmode": "overlay",
              "size": 10,
              "solidity": 0.2
             }
            },
            "type": "bar"
           }
          ],
          "barpolar": [
           {
            "marker": {
             "line": {
              "color": "white",
              "width": 0.5
             },
             "pattern": {
              "fillmode": "overlay",
              "size": 10,
              "solidity": 0.2
             }
            },
            "type": "barpolar"
           }
          ],
          "carpet": [
           {
            "aaxis": {
             "endlinecolor": "rgb(36,36,36)",
             "gridcolor": "white",
             "linecolor": "white",
             "minorgridcolor": "white",
             "startlinecolor": "rgb(36,36,36)"
            },
            "baxis": {
             "endlinecolor": "rgb(36,36,36)",
             "gridcolor": "white",
             "linecolor": "white",
             "minorgridcolor": "white",
             "startlinecolor": "rgb(36,36,36)"
            },
            "type": "carpet"
           }
          ],
          "choropleth": [
           {
            "colorbar": {
             "outlinewidth": 1,
             "tickcolor": "rgb(36,36,36)",
             "ticks": "outside"
            },
            "type": "choropleth"
           }
          ],
          "contour": [
           {
            "colorbar": {
             "outlinewidth": 1,
             "tickcolor": "rgb(36,36,36)",
             "ticks": "outside"
            },
            "colorscale": [
             [
              0,
              "#440154"
             ],
             [
              0.1111111111111111,
              "#482878"
             ],
             [
              0.2222222222222222,
              "#3e4989"
             ],
             [
              0.3333333333333333,
              "#31688e"
             ],
             [
              0.4444444444444444,
              "#26828e"
             ],
             [
              0.5555555555555556,
              "#1f9e89"
             ],
             [
              0.6666666666666666,
              "#35b779"
             ],
             [
              0.7777777777777778,
              "#6ece58"
             ],
             [
              0.8888888888888888,
              "#b5de2b"
             ],
             [
              1,
              "#fde725"
             ]
            ],
            "type": "contour"
           }
          ],
          "contourcarpet": [
           {
            "colorbar": {
             "outlinewidth": 1,
             "tickcolor": "rgb(36,36,36)",
             "ticks": "outside"
            },
            "type": "contourcarpet"
           }
          ],
          "heatmap": [
           {
            "colorbar": {
             "outlinewidth": 1,
             "tickcolor": "rgb(36,36,36)",
             "ticks": "outside"
            },
            "colorscale": [
             [
              0,
              "#440154"
             ],
             [
              0.1111111111111111,
              "#482878"
             ],
             [
              0.2222222222222222,
              "#3e4989"
             ],
             [
              0.3333333333333333,
              "#31688e"
             ],
             [
              0.4444444444444444,
              "#26828e"
             ],
             [
              0.5555555555555556,
              "#1f9e89"
             ],
             [
              0.6666666666666666,
              "#35b779"
             ],
             [
              0.7777777777777778,
              "#6ece58"
             ],
             [
              0.8888888888888888,
              "#b5de2b"
             ],
             [
              1,
              "#fde725"
             ]
            ],
            "type": "heatmap"
           }
          ],
          "heatmapgl": [
           {
            "colorbar": {
             "outlinewidth": 1,
             "tickcolor": "rgb(36,36,36)",
             "ticks": "outside"
            },
            "colorscale": [
             [
              0,
              "#440154"
             ],
             [
              0.1111111111111111,
              "#482878"
             ],
             [
              0.2222222222222222,
              "#3e4989"
             ],
             [
              0.3333333333333333,
              "#31688e"
             ],
             [
              0.4444444444444444,
              "#26828e"
             ],
             [
              0.5555555555555556,
              "#1f9e89"
             ],
             [
              0.6666666666666666,
              "#35b779"
             ],
             [
              0.7777777777777778,
              "#6ece58"
             ],
             [
              0.8888888888888888,
              "#b5de2b"
             ],
             [
              1,
              "#fde725"
             ]
            ],
            "type": "heatmapgl"
           }
          ],
          "histogram": [
           {
            "marker": {
             "line": {
              "color": "white",
              "width": 0.6
             }
            },
            "type": "histogram"
           }
          ],
          "histogram2d": [
           {
            "colorbar": {
             "outlinewidth": 1,
             "tickcolor": "rgb(36,36,36)",
             "ticks": "outside"
            },
            "colorscale": [
             [
              0,
              "#440154"
             ],
             [
              0.1111111111111111,
              "#482878"
             ],
             [
              0.2222222222222222,
              "#3e4989"
             ],
             [
              0.3333333333333333,
              "#31688e"
             ],
             [
              0.4444444444444444,
              "#26828e"
             ],
             [
              0.5555555555555556,
              "#1f9e89"
             ],
             [
              0.6666666666666666,
              "#35b779"
             ],
             [
              0.7777777777777778,
              "#6ece58"
             ],
             [
              0.8888888888888888,
              "#b5de2b"
             ],
             [
              1,
              "#fde725"
             ]
            ],
            "type": "histogram2d"
           }
          ],
          "histogram2dcontour": [
           {
            "colorbar": {
             "outlinewidth": 1,
             "tickcolor": "rgb(36,36,36)",
             "ticks": "outside"
            },
            "colorscale": [
             [
              0,
              "#440154"
             ],
             [
              0.1111111111111111,
              "#482878"
             ],
             [
              0.2222222222222222,
              "#3e4989"
             ],
             [
              0.3333333333333333,
              "#31688e"
             ],
             [
              0.4444444444444444,
              "#26828e"
             ],
             [
              0.5555555555555556,
              "#1f9e89"
             ],
             [
              0.6666666666666666,
              "#35b779"
             ],
             [
              0.7777777777777778,
              "#6ece58"
             ],
             [
              0.8888888888888888,
              "#b5de2b"
             ],
             [
              1,
              "#fde725"
             ]
            ],
            "type": "histogram2dcontour"
           }
          ],
          "mesh3d": [
           {
            "colorbar": {
             "outlinewidth": 1,
             "tickcolor": "rgb(36,36,36)",
             "ticks": "outside"
            },
            "type": "mesh3d"
           }
          ],
          "parcoords": [
           {
            "line": {
             "colorbar": {
              "outlinewidth": 1,
              "tickcolor": "rgb(36,36,36)",
              "ticks": "outside"
             }
            },
            "type": "parcoords"
           }
          ],
          "pie": [
           {
            "automargin": true,
            "type": "pie"
           }
          ],
          "scatter": [
           {
            "fillpattern": {
             "fillmode": "overlay",
             "size": 10,
             "solidity": 0.2
            },
            "type": "scatter"
           }
          ],
          "scatter3d": [
           {
            "line": {
             "colorbar": {
              "outlinewidth": 1,
              "tickcolor": "rgb(36,36,36)",
              "ticks": "outside"
             }
            },
            "marker": {
             "colorbar": {
              "outlinewidth": 1,
              "tickcolor": "rgb(36,36,36)",
              "ticks": "outside"
             }
            },
            "type": "scatter3d"
           }
          ],
          "scattercarpet": [
           {
            "marker": {
             "colorbar": {
              "outlinewidth": 1,
              "tickcolor": "rgb(36,36,36)",
              "ticks": "outside"
             }
            },
            "type": "scattercarpet"
           }
          ],
          "scattergeo": [
           {
            "marker": {
             "colorbar": {
              "outlinewidth": 1,
              "tickcolor": "rgb(36,36,36)",
              "ticks": "outside"
             }
            },
            "type": "scattergeo"
           }
          ],
          "scattergl": [
           {
            "marker": {
             "colorbar": {
              "outlinewidth": 1,
              "tickcolor": "rgb(36,36,36)",
              "ticks": "outside"
             }
            },
            "type": "scattergl"
           }
          ],
          "scattermapbox": [
           {
            "marker": {
             "colorbar": {
              "outlinewidth": 1,
              "tickcolor": "rgb(36,36,36)",
              "ticks": "outside"
             }
            },
            "type": "scattermapbox"
           }
          ],
          "scatterpolar": [
           {
            "marker": {
             "colorbar": {
              "outlinewidth": 1,
              "tickcolor": "rgb(36,36,36)",
              "ticks": "outside"
             }
            },
            "type": "scatterpolar"
           }
          ],
          "scatterpolargl": [
           {
            "marker": {
             "colorbar": {
              "outlinewidth": 1,
              "tickcolor": "rgb(36,36,36)",
              "ticks": "outside"
             }
            },
            "type": "scatterpolargl"
           }
          ],
          "scatterternary": [
           {
            "marker": {
             "colorbar": {
              "outlinewidth": 1,
              "tickcolor": "rgb(36,36,36)",
              "ticks": "outside"
             }
            },
            "type": "scatterternary"
           }
          ],
          "surface": [
           {
            "colorbar": {
             "outlinewidth": 1,
             "tickcolor": "rgb(36,36,36)",
             "ticks": "outside"
            },
            "colorscale": [
             [
              0,
              "#440154"
             ],
             [
              0.1111111111111111,
              "#482878"
             ],
             [
              0.2222222222222222,
              "#3e4989"
             ],
             [
              0.3333333333333333,
              "#31688e"
             ],
             [
              0.4444444444444444,
              "#26828e"
             ],
             [
              0.5555555555555556,
              "#1f9e89"
             ],
             [
              0.6666666666666666,
              "#35b779"
             ],
             [
              0.7777777777777778,
              "#6ece58"
             ],
             [
              0.8888888888888888,
              "#b5de2b"
             ],
             [
              1,
              "#fde725"
             ]
            ],
            "type": "surface"
           }
          ],
          "table": [
           {
            "cells": {
             "fill": {
              "color": "rgb(237,237,237)"
             },
             "line": {
              "color": "white"
             }
            },
            "header": {
             "fill": {
              "color": "rgb(217,217,217)"
             },
             "line": {
              "color": "white"
             }
            },
            "type": "table"
           }
          ]
         },
         "layout": {
          "annotationdefaults": {
           "arrowhead": 0,
           "arrowwidth": 1
          },
          "autotypenumbers": "strict",
          "coloraxis": {
           "colorbar": {
            "outlinewidth": 1,
            "tickcolor": "rgb(36,36,36)",
            "ticks": "outside"
           }
          },
          "colorscale": {
           "diverging": [
            [
             0,
             "rgb(103,0,31)"
            ],
            [
             0.1,
             "rgb(178,24,43)"
            ],
            [
             0.2,
             "rgb(214,96,77)"
            ],
            [
             0.3,
             "rgb(244,165,130)"
            ],
            [
             0.4,
             "rgb(253,219,199)"
            ],
            [
             0.5,
             "rgb(247,247,247)"
            ],
            [
             0.6,
             "rgb(209,229,240)"
            ],
            [
             0.7,
             "rgb(146,197,222)"
            ],
            [
             0.8,
             "rgb(67,147,195)"
            ],
            [
             0.9,
             "rgb(33,102,172)"
            ],
            [
             1,
             "rgb(5,48,97)"
            ]
           ],
           "sequential": [
            [
             0,
             "#440154"
            ],
            [
             0.1111111111111111,
             "#482878"
            ],
            [
             0.2222222222222222,
             "#3e4989"
            ],
            [
             0.3333333333333333,
             "#31688e"
            ],
            [
             0.4444444444444444,
             "#26828e"
            ],
            [
             0.5555555555555556,
             "#1f9e89"
            ],
            [
             0.6666666666666666,
             "#35b779"
            ],
            [
             0.7777777777777778,
             "#6ece58"
            ],
            [
             0.8888888888888888,
             "#b5de2b"
            ],
            [
             1,
             "#fde725"
            ]
           ],
           "sequentialminus": [
            [
             0,
             "#440154"
            ],
            [
             0.1111111111111111,
             "#482878"
            ],
            [
             0.2222222222222222,
             "#3e4989"
            ],
            [
             0.3333333333333333,
             "#31688e"
            ],
            [
             0.4444444444444444,
             "#26828e"
            ],
            [
             0.5555555555555556,
             "#1f9e89"
            ],
            [
             0.6666666666666666,
             "#35b779"
            ],
            [
             0.7777777777777778,
             "#6ece58"
            ],
            [
             0.8888888888888888,
             "#b5de2b"
            ],
            [
             1,
             "#fde725"
            ]
           ]
          },
          "colorway": [
           "#1F77B4",
           "#FF7F0E",
           "#2CA02C",
           "#D62728",
           "#9467BD",
           "#8C564B",
           "#E377C2",
           "#7F7F7F",
           "#BCBD22",
           "#17BECF"
          ],
          "font": {
           "color": "rgb(36,36,36)"
          },
          "geo": {
           "bgcolor": "white",
           "lakecolor": "white",
           "landcolor": "white",
           "showlakes": true,
           "showland": true,
           "subunitcolor": "white"
          },
          "hoverlabel": {
           "align": "left"
          },
          "hovermode": "closest",
          "mapbox": {
           "style": "light"
          },
          "paper_bgcolor": "white",
          "plot_bgcolor": "white",
          "polar": {
           "angularaxis": {
            "gridcolor": "rgb(232,232,232)",
            "linecolor": "rgb(36,36,36)",
            "showgrid": false,
            "showline": true,
            "ticks": "outside"
           },
           "bgcolor": "white",
           "radialaxis": {
            "gridcolor": "rgb(232,232,232)",
            "linecolor": "rgb(36,36,36)",
            "showgrid": false,
            "showline": true,
            "ticks": "outside"
           }
          },
          "scene": {
           "xaxis": {
            "backgroundcolor": "white",
            "gridcolor": "rgb(232,232,232)",
            "gridwidth": 2,
            "linecolor": "rgb(36,36,36)",
            "showbackground": true,
            "showgrid": false,
            "showline": true,
            "ticks": "outside",
            "zeroline": false,
            "zerolinecolor": "rgb(36,36,36)"
           },
           "yaxis": {
            "backgroundcolor": "white",
            "gridcolor": "rgb(232,232,232)",
            "gridwidth": 2,
            "linecolor": "rgb(36,36,36)",
            "showbackground": true,
            "showgrid": false,
            "showline": true,
            "ticks": "outside",
            "zeroline": false,
            "zerolinecolor": "rgb(36,36,36)"
           },
           "zaxis": {
            "backgroundcolor": "white",
            "gridcolor": "rgb(232,232,232)",
            "gridwidth": 2,
            "linecolor": "rgb(36,36,36)",
            "showbackground": true,
            "showgrid": false,
            "showline": true,
            "ticks": "outside",
            "zeroline": false,
            "zerolinecolor": "rgb(36,36,36)"
           }
          },
          "shapedefaults": {
           "fillcolor": "black",
           "line": {
            "width": 0
           },
           "opacity": 0.3
          },
          "ternary": {
           "aaxis": {
            "gridcolor": "rgb(232,232,232)",
            "linecolor": "rgb(36,36,36)",
            "showgrid": false,
            "showline": true,
            "ticks": "outside"
           },
           "baxis": {
            "gridcolor": "rgb(232,232,232)",
            "linecolor": "rgb(36,36,36)",
            "showgrid": false,
            "showline": true,
            "ticks": "outside"
           },
           "bgcolor": "white",
           "caxis": {
            "gridcolor": "rgb(232,232,232)",
            "linecolor": "rgb(36,36,36)",
            "showgrid": false,
            "showline": true,
            "ticks": "outside"
           }
          },
          "title": {
           "x": 0.05
          },
          "xaxis": {
           "automargin": true,
           "gridcolor": "rgb(232,232,232)",
           "linecolor": "rgb(36,36,36)",
           "showgrid": false,
           "showline": true,
           "ticks": "outside",
           "title": {
            "standoff": 15
           },
           "zeroline": false,
           "zerolinecolor": "rgb(36,36,36)"
          },
          "yaxis": {
           "automargin": true,
           "gridcolor": "rgb(232,232,232)",
           "linecolor": "rgb(36,36,36)",
           "showgrid": false,
           "showline": true,
           "ticks": "outside",
           "title": {
            "standoff": 15
           },
           "zeroline": false,
           "zerolinecolor": "rgb(36,36,36)"
          }
         }
        },
        "title": {
         "text": "Target Variable Distribution"
        },
        "width": 600,
        "xaxis": {
         "title": {
          "text": "Risk Variable"
         }
        },
        "yaxis": {
         "title": {
          "text": "Count"
         }
        }
       }
      }
     },
     "metadata": {},
     "output_type": "display_data"
    }
   ],
   "source": [
    "trace0 = go.Bar(\n",
    "    x = df_credit[df_credit[\"Risk\"]== 'good'][\"Risk\"].value_counts().index.values,\n",
    "    y = df_credit[df_credit[\"Risk\"]== 'good'][\"Risk\"].value_counts().values,\n",
    "    name='Good credit',\n",
    "    marker=dict(color='blue')\n",
    ")\n",
    "\n",
    "trace1 = go.Bar(\n",
    "    x = df_credit[df_credit[\"Risk\"]== 'bad'][\"Risk\"].value_counts().index.values,\n",
    "    y = df_credit[df_credit[\"Risk\"]== 'bad'][\"Risk\"].value_counts().values,\n",
    "    name='Bad credit',\n",
    "    marker=dict(color='red')\n",
    ")\n",
    "\n",
    "data = [trace0, trace1]\n",
    "\n",
    "layout = go.Layout(\n",
    "    title='Target Variable Distribution',\n",
    "    width=600,\n",
    "    margin=dict(l=50, r=50, b=50, t=50, pad=4),\n",
    "    yaxis=dict(title='Count'),\n",
    "    xaxis=dict(title='Risk Variable'),\n",
    "    template=\"simple_white\"\n",
    ")\n",
    "\n",
    "fig = go.Figure(data=data, layout=layout)\n",
    "fig.show()\n"
   ]
  },
  {
   "cell_type": "code",
   "execution_count": 7,
   "metadata": {},
   "outputs": [
    {
     "data": {
      "application/vnd.plotly.v1+json": {
       "config": {
        "plotlyServerURL": "https://plot.ly"
       },
       "data": [
        {
         "histnorm": "probability",
         "marker": {
          "color": "blue"
         },
         "name": "Good Credit",
         "type": "histogram",
         "x": [
          67,
          49,
          45,
          35,
          53,
          35,
          61,
          22,
          28,
          53,
          25,
          31,
          48,
          44,
          48,
          44,
          26,
          36,
          39,
          42,
          34,
          36,
          27,
          30,
          57,
          33,
          31,
          37,
          24,
          30,
          26,
          44,
          24,
          35,
          39,
          23,
          39,
          28,
          29,
          30,
          25,
          31,
          26,
          31,
          23,
          27,
          50,
          26,
          48,
          29,
          22,
          25,
          30,
          46,
          51,
          41,
          66,
          51,
          39,
          22,
          47,
          24,
          58,
          52,
          29,
          27,
          30,
          56,
          54,
          20,
          54,
          61,
          34,
          36,
          36,
          41,
          24,
          24,
          35,
          26,
          32,
          30,
          35,
          31,
          23,
          28,
          35,
          47,
          27,
          36,
          41,
          24,
          63,
          30,
          40,
          34,
          24,
          27,
          47,
          21,
          38,
          27,
          35,
          44,
          27,
          30,
          27,
          23,
          30,
          39,
          51,
          28,
          46,
          42,
          38,
          24,
          29,
          36,
          48,
          45,
          38,
          34,
          36,
          30,
          36,
          70,
          36,
          32,
          20,
          25,
          26,
          33,
          42,
          52,
          31,
          65,
          50,
          31,
          68,
          33,
          29,
          28,
          36,
          52,
          27,
          26,
          38,
          38,
          43,
          26,
          21,
          55,
          33,
          45,
          51,
          39,
          31,
          23,
          24,
          64,
          26,
          23,
          30,
          32,
          30,
          27,
          22,
          51,
          35,
          25,
          42,
          35,
          39,
          51,
          27,
          35,
          25,
          52,
          35,
          26,
          39,
          46,
          35,
          24,
          27,
          35,
          23,
          57,
          27,
          55,
          36,
          57,
          32,
          36,
          38,
          25,
          32,
          37,
          36,
          32,
          26,
          49,
          29,
          23,
          50,
          49,
          63,
          37,
          35,
          26,
          31,
          49,
          26,
          44,
          56,
          46,
          20,
          45,
          43,
          32,
          54,
          49,
          33,
          24,
          22,
          40,
          25,
          26,
          29,
          38,
          48,
          32,
          27,
          34,
          28,
          36,
          39,
          49,
          34,
          31,
          28,
          75,
          23,
          28,
          31,
          24,
          26,
          25,
          33,
          37,
          43,
          23,
          23,
          34,
          23,
          38,
          46,
          49,
          28,
          61,
          37,
          36,
          21,
          36,
          27,
          22,
          40,
          36,
          33,
          23,
          63,
          34,
          36,
          52,
          39,
          25,
          26,
          26,
          25,
          21,
          40,
          27,
          27,
          30,
          19,
          39,
          31,
          31,
          32,
          55,
          46,
          43,
          39,
          28,
          27,
          43,
          43,
          27,
          26,
          20,
          35,
          40,
          35,
          23,
          31,
          20,
          30,
          47,
          34,
          21,
          29,
          46,
          20,
          74,
          36,
          33,
          25,
          23,
          37,
          65,
          39,
          30,
          29,
          41,
          35,
          55,
          30,
          29,
          34,
          35,
          29,
          36,
          27,
          32,
          37,
          36,
          34,
          38,
          34,
          63,
          32,
          26,
          35,
          36,
          24,
          25,
          39,
          44,
          23,
          26,
          57,
          30,
          44,
          52,
          62,
          35,
          26,
          26,
          27,
          38,
          39,
          40,
          32,
          28,
          42,
          49,
          36,
          28,
          45,
          32,
          26,
          20,
          54,
          37,
          40,
          43,
          36,
          44,
          23,
          26,
          30,
          31,
          42,
          41,
          32,
          41,
          26,
          25,
          75,
          37,
          45,
          60,
          61,
          37,
          32,
          35,
          23,
          45,
          27,
          67,
          49,
          29,
          37,
          23,
          34,
          41,
          38,
          26,
          22,
          27,
          24,
          27,
          33,
          27,
          49,
          26,
          52,
          36,
          21,
          58,
          42,
          36,
          32,
          45,
          23,
          22,
          74,
          33,
          45,
          29,
          22,
          48,
          27,
          37,
          49,
          27,
          22,
          35,
          41,
          36,
          64,
          28,
          23,
          47,
          28,
          21,
          34,
          38,
          33,
          32,
          32,
          50,
          35,
          22,
          37,
          28,
          41,
          23,
          50,
          35,
          50,
          27,
          34,
          27,
          47,
          27,
          31,
          42,
          24,
          26,
          33,
          64,
          26,
          56,
          37,
          33,
          47,
          31,
          34,
          27,
          30,
          35,
          31,
          25,
          25,
          29,
          44,
          28,
          50,
          29,
          38,
          24,
          40,
          47,
          41,
          32,
          35,
          25,
          37,
          32,
          46,
          25,
          63,
          40,
          32,
          31,
          31,
          66,
          41,
          47,
          36,
          33,
          44,
          28,
          37,
          29,
          35,
          45,
          32,
          23,
          41,
          22,
          30,
          28,
          23,
          26,
          33,
          49,
          23,
          25,
          74,
          31,
          59,
          24,
          27,
          40,
          31,
          28,
          63,
          26,
          36,
          52,
          66,
          37,
          25,
          38,
          67,
          60,
          31,
          60,
          35,
          40,
          38,
          41,
          27,
          51,
          32,
          22,
          22,
          54,
          35,
          54,
          48,
          24,
          35,
          24,
          26,
          65,
          55,
          26,
          28,
          54,
          62,
          24,
          43,
          27,
          24,
          47,
          35,
          30,
          38,
          44,
          42,
          21,
          23,
          63,
          46,
          28,
          50,
          47,
          35,
          28,
          59,
          43,
          35,
          45,
          33,
          40,
          28,
          26,
          27,
          32,
          20,
          27,
          42,
          37,
          24,
          40,
          46,
          26,
          24,
          29,
          40,
          36,
          28,
          36,
          38,
          48,
          36,
          65,
          34,
          34,
          40,
          43,
          46,
          38,
          34,
          29,
          31,
          28,
          35,
          33,
          44,
          42,
          40,
          36,
          20,
          24,
          27,
          46,
          33,
          34,
          25,
          28,
          32,
          28,
          37,
          30,
          21,
          58,
          43,
          24,
          30,
          42,
          23,
          30,
          46,
          45,
          31,
          31,
          42,
          46,
          30,
          38,
          40,
          29,
          57,
          49,
          37,
          30,
          30,
          47,
          29,
          22,
          26,
          54,
          29,
          40,
          22,
          43,
          33,
          57,
          64,
          42,
          28,
          30,
          25,
          33,
          64,
          29,
          48,
          37,
          34,
          23,
          30,
          50,
          31,
          40,
          38,
          27
         ],
         "xaxis": "x",
         "yaxis": "y"
        },
        {
         "histnorm": "probability",
         "marker": {
          "color": "red"
         },
         "name": "Bad Credit",
         "type": "histogram",
         "x": [
          22,
          53,
          28,
          25,
          24,
          60,
          32,
          44,
          63,
          25,
          37,
          58,
          57,
          52,
          23,
          61,
          25,
          37,
          40,
          34,
          44,
          47,
          28,
          33,
          58,
          39,
          39,
          25,
          30,
          23,
          25,
          27,
          30,
          29,
          29,
          66,
          22,
          20,
          33,
          31,
          33,
          34,
          26,
          53,
          28,
          30,
          40,
          36,
          74,
          20,
          54,
          34,
          36,
          21,
          34,
          27,
          40,
          21,
          50,
          66,
          27,
          53,
          22,
          26,
          30,
          23,
          61,
          29,
          24,
          22,
          24,
          29,
          37,
          45,
          28,
          34,
          32,
          48,
          28,
          26,
          42,
          37,
          44,
          33,
          24,
          25,
          31,
          28,
          32,
          30,
          24,
          24,
          23,
          44,
          24,
          32,
          29,
          28,
          23,
          26,
          23,
          25,
          42,
          60,
          37,
          57,
          38,
          46,
          27,
          22,
          28,
          42,
          35,
          33,
          33,
          25,
          55,
          29,
          25,
          26,
          41,
          30,
          34,
          61,
          31,
          35,
          29,
          22,
          23,
          28,
          33,
          26,
          47,
          42,
          20,
          29,
          27,
          38,
          24,
          27,
          34,
          26,
          23,
          24,
          53,
          31,
          28,
          33,
          42,
          23,
          31,
          34,
          43,
          24,
          34,
          22,
          28,
          29,
          27,
          31,
          24,
          37,
          36,
          31,
          23,
          27,
          30,
          33,
          20,
          47,
          60,
          20,
          40,
          32,
          23,
          36,
          31,
          30,
          34,
          28,
          50,
          22,
          48,
          22,
          21,
          32,
          38,
          65,
          29,
          44,
          19,
          25,
          26,
          27,
          40,
          27,
          26,
          38,
          40,
          37,
          45,
          42,
          41,
          23,
          43,
          41,
          24,
          29,
          46,
          24,
          25,
          35,
          27,
          34,
          24,
          24,
          21,
          25,
          59,
          21,
          23,
          26,
          37,
          23,
          55,
          32,
          39,
          35,
          24,
          30,
          31,
          25,
          25,
          25,
          23,
          50,
          27,
          39,
          51,
          24,
          26,
          24,
          54,
          46,
          26,
          41,
          33,
          36,
          47,
          23,
          29,
          25,
          48,
          29,
          23,
          68,
          57,
          33,
          32,
          29,
          28,
          35,
          25,
          27,
          43,
          53,
          23,
          42,
          43,
          25,
          31,
          32,
          68,
          33,
          39,
          22,
          55,
          46,
          39,
          22,
          30,
          28,
          42,
          30,
          43,
          31,
          24,
          28,
          26,
          45,
          35,
          23,
          29,
          36,
          47,
          25,
          49,
          33,
          26,
          23
         ],
         "xaxis": "x2",
         "yaxis": "y2"
        },
        {
         "histnorm": "probability",
         "marker": {
          "color": "gray"
         },
         "name": "Overall Age",
         "type": "histogram",
         "x": [
          67,
          22,
          49,
          45,
          53,
          35,
          53,
          35,
          61,
          28,
          25,
          24,
          22,
          60,
          28,
          32,
          53,
          25,
          44,
          31,
          48,
          44,
          48,
          44,
          26,
          36,
          39,
          42,
          34,
          63,
          36,
          27,
          30,
          57,
          33,
          25,
          31,
          37,
          37,
          24,
          30,
          26,
          44,
          24,
          58,
          35,
          39,
          23,
          39,
          28,
          29,
          30,
          25,
          31,
          57,
          26,
          52,
          31,
          23,
          23,
          27,
          50,
          61,
          25,
          26,
          48,
          29,
          22,
          37,
          25,
          30,
          46,
          51,
          41,
          40,
          66,
          34,
          51,
          39,
          22,
          44,
          47,
          24,
          58,
          52,
          29,
          27,
          47,
          30,
          28,
          56,
          54,
          33,
          20,
          54,
          58,
          61,
          34,
          36,
          36,
          41,
          24,
          24,
          35,
          26,
          39,
          39,
          32,
          30,
          35,
          31,
          23,
          28,
          25,
          35,
          47,
          30,
          27,
          23,
          36,
          25,
          41,
          24,
          63,
          27,
          30,
          40,
          30,
          34,
          29,
          24,
          29,
          27,
          47,
          21,
          38,
          27,
          66,
          35,
          44,
          27,
          30,
          27,
          22,
          23,
          30,
          39,
          51,
          28,
          46,
          42,
          38,
          24,
          29,
          36,
          20,
          48,
          45,
          38,
          34,
          36,
          30,
          36,
          70,
          36,
          32,
          33,
          20,
          25,
          31,
          33,
          26,
          34,
          33,
          26,
          53,
          42,
          52,
          31,
          65,
          28,
          30,
          40,
          50,
          36,
          31,
          74,
          68,
          20,
          33,
          54,
          34,
          36,
          29,
          21,
          34,
          28,
          27,
          36,
          40,
          52,
          27,
          26,
          21,
          38,
          38,
          43,
          26,
          21,
          55,
          33,
          45,
          50,
          66,
          51,
          39,
          31,
          23,
          24,
          64,
          26,
          23,
          30,
          32,
          30,
          27,
          27,
          53,
          22,
          22,
          26,
          51,
          35,
          25,
          42,
          30,
          23,
          61,
          35,
          39,
          29,
          51,
          24,
          27,
          35,
          25,
          52,
          35,
          26,
          22,
          39,
          46,
          24,
          35,
          24,
          27,
          35,
          29,
          23,
          57,
          27,
          55,
          36,
          57,
          32,
          37,
          36,
          38,
          45,
          25,
          32,
          37,
          36,
          28,
          34,
          32,
          26,
          49,
          32,
          29,
          23,
          50,
          49,
          63,
          37,
          35,
          26,
          31,
          49,
          48,
          26,
          28,
          44,
          56,
          46,
          26,
          20,
          45,
          43,
          32,
          54,
          42,
          37,
          49,
          44,
          33,
          24,
          33,
          24,
          22,
          40,
          25,
          26,
          25,
          29,
          31,
          38,
          48,
          32,
          27,
          28,
          32,
          34,
          28,
          36,
          39,
          49,
          34,
          31,
          28,
          75,
          30,
          24,
          24,
          23,
          44,
          23,
          24,
          28,
          31,
          24,
          26,
          25,
          33,
          37,
          43,
          23,
          23,
          34,
          32,
          23,
          29,
          38,
          28,
          46,
          23,
          49,
          26,
          28,
          23,
          61,
          37,
          36,
          21,
          25,
          36,
          27,
          22,
          42,
          40,
          36,
          33,
          23,
          63,
          60,
          37,
          34,
          36,
          57,
          52,
          39,
          38,
          25,
          26,
          26,
          25,
          21,
          40,
          27,
          27,
          30,
          19,
          39,
          31,
          31,
          32,
          55,
          46,
          46,
          43,
          39,
          28,
          27,
          27,
          43,
          22,
          43,
          27,
          26,
          28,
          20,
          35,
          42,
          40,
          35,
          35,
          33,
          23,
          31,
          33,
          20,
          30,
          47,
          34,
          25,
          21,
          29,
          46,
          20,
          55,
          74,
          29,
          36,
          33,
          25,
          25,
          23,
          37,
          65,
          26,
          39,
          30,
          29,
          41,
          30,
          41,
          34,
          35,
          55,
          61,
          30,
          29,
          34,
          35,
          31,
          29,
          36,
          35,
          27,
          32,
          37,
          36,
          34,
          38,
          34,
          63,
          29,
          32,
          26,
          35,
          22,
          23,
          28,
          36,
          33,
          26,
          24,
          25,
          39,
          44,
          23,
          26,
          57,
          30,
          44,
          47,
          52,
          62,
          35,
          26,
          26,
          42,
          27,
          38,
          39,
          20,
          29,
          40,
          32,
          28,
          27,
          42,
          49,
          38,
          24,
          27,
          36,
          34,
          28,
          45,
          26,
          32,
          26,
          20,
          54,
          37,
          40,
          23,
          43,
          36,
          44,
          24,
          53,
          23,
          26,
          30,
          31,
          42,
          31,
          41,
          32,
          28,
          41,
          26,
          25,
          33,
          75,
          37,
          42,
          45,
          23,
          60,
          31,
          34,
          61,
          43,
          37,
          32,
          24,
          35,
          23,
          45,
          34,
          27,
          67,
          22,
          28,
          29,
          27,
          31,
          49,
          24,
          29,
          37,
          37,
          23,
          36,
          34,
          41,
          31,
          23,
          38,
          26,
          22,
          27,
          24,
          27,
          33,
          27,
          27,
          30,
          49,
          26,
          33,
          52,
          20,
          36,
          21,
          47,
          60,
          58,
          42,
          36,
          20,
          40,
          32,
          23,
          36,
          31,
          32,
          45,
          30,
          34,
          28,
          23,
          22,
          74,
          50,
          33,
          45,
          22,
          48,
          29,
          22,
          22,
          48,
          27,
          37,
          21,
          49,
          27,
          32,
          38,
          22,
          65,
          35,
          41,
          29,
          36,
          64,
          28,
          44,
          23,
          19,
          25,
          47,
          28,
          21,
          34,
          26,
          27,
          38,
          40,
          33,
          32,
          27,
          32,
          26,
          38,
          40,
          50,
          37,
          45,
          42,
          35,
          22,
          41,
          37,
          28,
          41,
          23,
          23,
          50,
          35,
          50,
          27,
          34,
          27,
          43,
          47,
          27,
          31,
          42,
          24,
          41,
          26,
          33,
          24,
          64,
          26,
          56,
          37,
          33,
          47,
          31,
          34,
          27,
          30,
          35,
          31,
          25,
          25,
          29,
          44,
          28,
          50,
          29,
          38,
          24,
          40,
          29,
          46,
          47,
          41,
          32,
          35,
          24,
          25,
          25,
          37,
          32,
          35,
          46,
          25,
          27,
          63,
          40,
          32,
          31,
          31,
          34,
          24,
          24,
          66,
          21,
          41,
          47,
          25,
          59,
          36,
          33,
          21,
          44,
          28,
          37,
          29,
          23,
          35,
          45,
          26,
          32,
          23,
          41,
          22,
          30,
          28,
          23,
          37,
          26,
          33,
          49,
          23,
          23,
          25,
          55,
          32,
          74,
          39,
          31,
          35,
          59,
          24,
          24,
          30,
          27,
          40,
          31,
          31,
          28,
          63,
          26,
          25,
          36,
          52,
          66,
          25,
          37,
          25,
          38,
          67,
          25,
          60,
          31,
          23,
          60,
          35,
          40,
          38,
          50,
          27,
          39,
          41,
          27,
          51,
          32,
          22,
          51,
          22,
          54,
          35,
          54,
          48,
          24,
          35,
          24,
          24,
          26,
          65,
          55,
          26,
          26,
          28,
          24,
          54,
          46,
          54,
          62,
          24,
          43,
          26,
          27,
          24,
          41,
          47,
          35,
          30,
          33,
          36,
          47,
          38,
          44,
          23,
          29,
          42,
          25,
          48,
          21,
          23,
          63,
          46,
          29,
          28,
          23,
          50,
          47,
          35,
          68,
          28,
          59,
          57,
          33,
          43,
          35,
          32,
          45,
          33,
          40,
          28,
          29,
          26,
          27,
          28,
          35,
          32,
          25,
          20,
          27,
          42,
          37,
          24,
          40,
          46,
          26,
          24,
          29,
          40,
          36,
          28,
          27,
          36,
          38,
          48,
          36,
          65,
          43,
          53,
          34,
          23,
          34,
          40,
          43,
          46,
          38,
          34,
          29,
          31,
          28,
          35,
          33,
          42,
          43,
          44,
          42,
          40,
          36,
          20,
          24,
          27,
          46,
          33,
          34,
          25,
          25,
          28,
          31,
          32,
          32,
          68,
          33,
          39,
          28,
          37,
          22,
          30,
          55,
          46,
          21,
          39,
          58,
          43,
          24,
          22,
          30,
          42,
          23,
          30,
          28,
          30,
          42,
          46,
          45,
          31,
          31,
          42,
          46,
          30,
          30,
          38,
          43,
          31,
          40,
          24,
          28,
          26,
          29,
          57,
          49,
          37,
          45,
          30,
          30,
          47,
          29,
          35,
          22,
          26,
          23,
          54,
          29,
          40,
          22,
          43,
          29,
          36,
          33,
          57,
          64,
          42,
          47,
          25,
          49,
          33,
          28,
          26,
          30,
          25,
          33,
          64,
          29,
          48,
          37,
          34,
          23,
          30,
          50,
          31,
          40,
          38,
          23,
          27
         ],
         "xaxis": "x3",
         "yaxis": "y3"
        }
       ],
       "layout": {
        "annotations": [
         {
          "font": {
           "size": 16
          },
          "showarrow": false,
          "text": "Good",
          "x": 0.225,
          "xanchor": "center",
          "xref": "paper",
          "y": 1,
          "yanchor": "bottom",
          "yref": "paper"
         },
         {
          "font": {
           "size": 16
          },
          "showarrow": false,
          "text": "Bad",
          "x": 0.775,
          "xanchor": "center",
          "xref": "paper",
          "y": 1,
          "yanchor": "bottom",
          "yref": "paper"
         },
         {
          "font": {
           "size": 16
          },
          "showarrow": false,
          "text": "General Distribuition",
          "x": 0.5,
          "xanchor": "center",
          "xref": "paper",
          "y": 0.375,
          "yanchor": "bottom",
          "yref": "paper"
         }
        ],
        "bargap": 0.05,
        "height": 600,
        "margin": {
         "b": 80,
         "l": 50,
         "r": 50,
         "t": 80
        },
        "showlegend": true,
        "template": {
         "data": {
          "bar": [
           {
            "error_x": {
             "color": "rgb(36,36,36)"
            },
            "error_y": {
             "color": "rgb(36,36,36)"
            },
            "marker": {
             "line": {
              "color": "white",
              "width": 0.5
             },
             "pattern": {
              "fillmode": "overlay",
              "size": 10,
              "solidity": 0.2
             }
            },
            "type": "bar"
           }
          ],
          "barpolar": [
           {
            "marker": {
             "line": {
              "color": "white",
              "width": 0.5
             },
             "pattern": {
              "fillmode": "overlay",
              "size": 10,
              "solidity": 0.2
             }
            },
            "type": "barpolar"
           }
          ],
          "carpet": [
           {
            "aaxis": {
             "endlinecolor": "rgb(36,36,36)",
             "gridcolor": "white",
             "linecolor": "white",
             "minorgridcolor": "white",
             "startlinecolor": "rgb(36,36,36)"
            },
            "baxis": {
             "endlinecolor": "rgb(36,36,36)",
             "gridcolor": "white",
             "linecolor": "white",
             "minorgridcolor": "white",
             "startlinecolor": "rgb(36,36,36)"
            },
            "type": "carpet"
           }
          ],
          "choropleth": [
           {
            "colorbar": {
             "outlinewidth": 1,
             "tickcolor": "rgb(36,36,36)",
             "ticks": "outside"
            },
            "type": "choropleth"
           }
          ],
          "contour": [
           {
            "colorbar": {
             "outlinewidth": 1,
             "tickcolor": "rgb(36,36,36)",
             "ticks": "outside"
            },
            "colorscale": [
             [
              0,
              "#440154"
             ],
             [
              0.1111111111111111,
              "#482878"
             ],
             [
              0.2222222222222222,
              "#3e4989"
             ],
             [
              0.3333333333333333,
              "#31688e"
             ],
             [
              0.4444444444444444,
              "#26828e"
             ],
             [
              0.5555555555555556,
              "#1f9e89"
             ],
             [
              0.6666666666666666,
              "#35b779"
             ],
             [
              0.7777777777777778,
              "#6ece58"
             ],
             [
              0.8888888888888888,
              "#b5de2b"
             ],
             [
              1,
              "#fde725"
             ]
            ],
            "type": "contour"
           }
          ],
          "contourcarpet": [
           {
            "colorbar": {
             "outlinewidth": 1,
             "tickcolor": "rgb(36,36,36)",
             "ticks": "outside"
            },
            "type": "contourcarpet"
           }
          ],
          "heatmap": [
           {
            "colorbar": {
             "outlinewidth": 1,
             "tickcolor": "rgb(36,36,36)",
             "ticks": "outside"
            },
            "colorscale": [
             [
              0,
              "#440154"
             ],
             [
              0.1111111111111111,
              "#482878"
             ],
             [
              0.2222222222222222,
              "#3e4989"
             ],
             [
              0.3333333333333333,
              "#31688e"
             ],
             [
              0.4444444444444444,
              "#26828e"
             ],
             [
              0.5555555555555556,
              "#1f9e89"
             ],
             [
              0.6666666666666666,
              "#35b779"
             ],
             [
              0.7777777777777778,
              "#6ece58"
             ],
             [
              0.8888888888888888,
              "#b5de2b"
             ],
             [
              1,
              "#fde725"
             ]
            ],
            "type": "heatmap"
           }
          ],
          "heatmapgl": [
           {
            "colorbar": {
             "outlinewidth": 1,
             "tickcolor": "rgb(36,36,36)",
             "ticks": "outside"
            },
            "colorscale": [
             [
              0,
              "#440154"
             ],
             [
              0.1111111111111111,
              "#482878"
             ],
             [
              0.2222222222222222,
              "#3e4989"
             ],
             [
              0.3333333333333333,
              "#31688e"
             ],
             [
              0.4444444444444444,
              "#26828e"
             ],
             [
              0.5555555555555556,
              "#1f9e89"
             ],
             [
              0.6666666666666666,
              "#35b779"
             ],
             [
              0.7777777777777778,
              "#6ece58"
             ],
             [
              0.8888888888888888,
              "#b5de2b"
             ],
             [
              1,
              "#fde725"
             ]
            ],
            "type": "heatmapgl"
           }
          ],
          "histogram": [
           {
            "marker": {
             "line": {
              "color": "white",
              "width": 0.6
             }
            },
            "type": "histogram"
           }
          ],
          "histogram2d": [
           {
            "colorbar": {
             "outlinewidth": 1,
             "tickcolor": "rgb(36,36,36)",
             "ticks": "outside"
            },
            "colorscale": [
             [
              0,
              "#440154"
             ],
             [
              0.1111111111111111,
              "#482878"
             ],
             [
              0.2222222222222222,
              "#3e4989"
             ],
             [
              0.3333333333333333,
              "#31688e"
             ],
             [
              0.4444444444444444,
              "#26828e"
             ],
             [
              0.5555555555555556,
              "#1f9e89"
             ],
             [
              0.6666666666666666,
              "#35b779"
             ],
             [
              0.7777777777777778,
              "#6ece58"
             ],
             [
              0.8888888888888888,
              "#b5de2b"
             ],
             [
              1,
              "#fde725"
             ]
            ],
            "type": "histogram2d"
           }
          ],
          "histogram2dcontour": [
           {
            "colorbar": {
             "outlinewidth": 1,
             "tickcolor": "rgb(36,36,36)",
             "ticks": "outside"
            },
            "colorscale": [
             [
              0,
              "#440154"
             ],
             [
              0.1111111111111111,
              "#482878"
             ],
             [
              0.2222222222222222,
              "#3e4989"
             ],
             [
              0.3333333333333333,
              "#31688e"
             ],
             [
              0.4444444444444444,
              "#26828e"
             ],
             [
              0.5555555555555556,
              "#1f9e89"
             ],
             [
              0.6666666666666666,
              "#35b779"
             ],
             [
              0.7777777777777778,
              "#6ece58"
             ],
             [
              0.8888888888888888,
              "#b5de2b"
             ],
             [
              1,
              "#fde725"
             ]
            ],
            "type": "histogram2dcontour"
           }
          ],
          "mesh3d": [
           {
            "colorbar": {
             "outlinewidth": 1,
             "tickcolor": "rgb(36,36,36)",
             "ticks": "outside"
            },
            "type": "mesh3d"
           }
          ],
          "parcoords": [
           {
            "line": {
             "colorbar": {
              "outlinewidth": 1,
              "tickcolor": "rgb(36,36,36)",
              "ticks": "outside"
             }
            },
            "type": "parcoords"
           }
          ],
          "pie": [
           {
            "automargin": true,
            "type": "pie"
           }
          ],
          "scatter": [
           {
            "fillpattern": {
             "fillmode": "overlay",
             "size": 10,
             "solidity": 0.2
            },
            "type": "scatter"
           }
          ],
          "scatter3d": [
           {
            "line": {
             "colorbar": {
              "outlinewidth": 1,
              "tickcolor": "rgb(36,36,36)",
              "ticks": "outside"
             }
            },
            "marker": {
             "colorbar": {
              "outlinewidth": 1,
              "tickcolor": "rgb(36,36,36)",
              "ticks": "outside"
             }
            },
            "type": "scatter3d"
           }
          ],
          "scattercarpet": [
           {
            "marker": {
             "colorbar": {
              "outlinewidth": 1,
              "tickcolor": "rgb(36,36,36)",
              "ticks": "outside"
             }
            },
            "type": "scattercarpet"
           }
          ],
          "scattergeo": [
           {
            "marker": {
             "colorbar": {
              "outlinewidth": 1,
              "tickcolor": "rgb(36,36,36)",
              "ticks": "outside"
             }
            },
            "type": "scattergeo"
           }
          ],
          "scattergl": [
           {
            "marker": {
             "colorbar": {
              "outlinewidth": 1,
              "tickcolor": "rgb(36,36,36)",
              "ticks": "outside"
             }
            },
            "type": "scattergl"
           }
          ],
          "scattermapbox": [
           {
            "marker": {
             "colorbar": {
              "outlinewidth": 1,
              "tickcolor": "rgb(36,36,36)",
              "ticks": "outside"
             }
            },
            "type": "scattermapbox"
           }
          ],
          "scatterpolar": [
           {
            "marker": {
             "colorbar": {
              "outlinewidth": 1,
              "tickcolor": "rgb(36,36,36)",
              "ticks": "outside"
             }
            },
            "type": "scatterpolar"
           }
          ],
          "scatterpolargl": [
           {
            "marker": {
             "colorbar": {
              "outlinewidth": 1,
              "tickcolor": "rgb(36,36,36)",
              "ticks": "outside"
             }
            },
            "type": "scatterpolargl"
           }
          ],
          "scatterternary": [
           {
            "marker": {
             "colorbar": {
              "outlinewidth": 1,
              "tickcolor": "rgb(36,36,36)",
              "ticks": "outside"
             }
            },
            "type": "scatterternary"
           }
          ],
          "surface": [
           {
            "colorbar": {
             "outlinewidth": 1,
             "tickcolor": "rgb(36,36,36)",
             "ticks": "outside"
            },
            "colorscale": [
             [
              0,
              "#440154"
             ],
             [
              0.1111111111111111,
              "#482878"
             ],
             [
              0.2222222222222222,
              "#3e4989"
             ],
             [
              0.3333333333333333,
              "#31688e"
             ],
             [
              0.4444444444444444,
              "#26828e"
             ],
             [
              0.5555555555555556,
              "#1f9e89"
             ],
             [
              0.6666666666666666,
              "#35b779"
             ],
             [
              0.7777777777777778,
              "#6ece58"
             ],
             [
              0.8888888888888888,
              "#b5de2b"
             ],
             [
              1,
              "#fde725"
             ]
            ],
            "type": "surface"
           }
          ],
          "table": [
           {
            "cells": {
             "fill": {
              "color": "rgb(237,237,237)"
             },
             "line": {
              "color": "white"
             }
            },
            "header": {
             "fill": {
              "color": "rgb(217,217,217)"
             },
             "line": {
              "color": "white"
             }
            },
            "type": "table"
           }
          ]
         },
         "layout": {
          "annotationdefaults": {
           "arrowhead": 0,
           "arrowwidth": 1
          },
          "autotypenumbers": "strict",
          "coloraxis": {
           "colorbar": {
            "outlinewidth": 1,
            "tickcolor": "rgb(36,36,36)",
            "ticks": "outside"
           }
          },
          "colorscale": {
           "diverging": [
            [
             0,
             "rgb(103,0,31)"
            ],
            [
             0.1,
             "rgb(178,24,43)"
            ],
            [
             0.2,
             "rgb(214,96,77)"
            ],
            [
             0.3,
             "rgb(244,165,130)"
            ],
            [
             0.4,
             "rgb(253,219,199)"
            ],
            [
             0.5,
             "rgb(247,247,247)"
            ],
            [
             0.6,
             "rgb(209,229,240)"
            ],
            [
             0.7,
             "rgb(146,197,222)"
            ],
            [
             0.8,
             "rgb(67,147,195)"
            ],
            [
             0.9,
             "rgb(33,102,172)"
            ],
            [
             1,
             "rgb(5,48,97)"
            ]
           ],
           "sequential": [
            [
             0,
             "#440154"
            ],
            [
             0.1111111111111111,
             "#482878"
            ],
            [
             0.2222222222222222,
             "#3e4989"
            ],
            [
             0.3333333333333333,
             "#31688e"
            ],
            [
             0.4444444444444444,
             "#26828e"
            ],
            [
             0.5555555555555556,
             "#1f9e89"
            ],
            [
             0.6666666666666666,
             "#35b779"
            ],
            [
             0.7777777777777778,
             "#6ece58"
            ],
            [
             0.8888888888888888,
             "#b5de2b"
            ],
            [
             1,
             "#fde725"
            ]
           ],
           "sequentialminus": [
            [
             0,
             "#440154"
            ],
            [
             0.1111111111111111,
             "#482878"
            ],
            [
             0.2222222222222222,
             "#3e4989"
            ],
            [
             0.3333333333333333,
             "#31688e"
            ],
            [
             0.4444444444444444,
             "#26828e"
            ],
            [
             0.5555555555555556,
             "#1f9e89"
            ],
            [
             0.6666666666666666,
             "#35b779"
            ],
            [
             0.7777777777777778,
             "#6ece58"
            ],
            [
             0.8888888888888888,
             "#b5de2b"
            ],
            [
             1,
             "#fde725"
            ]
           ]
          },
          "colorway": [
           "#1F77B4",
           "#FF7F0E",
           "#2CA02C",
           "#D62728",
           "#9467BD",
           "#8C564B",
           "#E377C2",
           "#7F7F7F",
           "#BCBD22",
           "#17BECF"
          ],
          "font": {
           "color": "rgb(36,36,36)"
          },
          "geo": {
           "bgcolor": "white",
           "lakecolor": "white",
           "landcolor": "white",
           "showlakes": true,
           "showland": true,
           "subunitcolor": "white"
          },
          "hoverlabel": {
           "align": "left"
          },
          "hovermode": "closest",
          "mapbox": {
           "style": "light"
          },
          "paper_bgcolor": "white",
          "plot_bgcolor": "white",
          "polar": {
           "angularaxis": {
            "gridcolor": "rgb(232,232,232)",
            "linecolor": "rgb(36,36,36)",
            "showgrid": false,
            "showline": true,
            "ticks": "outside"
           },
           "bgcolor": "white",
           "radialaxis": {
            "gridcolor": "rgb(232,232,232)",
            "linecolor": "rgb(36,36,36)",
            "showgrid": false,
            "showline": true,
            "ticks": "outside"
           }
          },
          "scene": {
           "xaxis": {
            "backgroundcolor": "white",
            "gridcolor": "rgb(232,232,232)",
            "gridwidth": 2,
            "linecolor": "rgb(36,36,36)",
            "showbackground": true,
            "showgrid": false,
            "showline": true,
            "ticks": "outside",
            "zeroline": false,
            "zerolinecolor": "rgb(36,36,36)"
           },
           "yaxis": {
            "backgroundcolor": "white",
            "gridcolor": "rgb(232,232,232)",
            "gridwidth": 2,
            "linecolor": "rgb(36,36,36)",
            "showbackground": true,
            "showgrid": false,
            "showline": true,
            "ticks": "outside",
            "zeroline": false,
            "zerolinecolor": "rgb(36,36,36)"
           },
           "zaxis": {
            "backgroundcolor": "white",
            "gridcolor": "rgb(232,232,232)",
            "gridwidth": 2,
            "linecolor": "rgb(36,36,36)",
            "showbackground": true,
            "showgrid": false,
            "showline": true,
            "ticks": "outside",
            "zeroline": false,
            "zerolinecolor": "rgb(36,36,36)"
           }
          },
          "shapedefaults": {
           "fillcolor": "black",
           "line": {
            "width": 0
           },
           "opacity": 0.3
          },
          "ternary": {
           "aaxis": {
            "gridcolor": "rgb(232,232,232)",
            "linecolor": "rgb(36,36,36)",
            "showgrid": false,
            "showline": true,
            "ticks": "outside"
           },
           "baxis": {
            "gridcolor": "rgb(232,232,232)",
            "linecolor": "rgb(36,36,36)",
            "showgrid": false,
            "showline": true,
            "ticks": "outside"
           },
           "bgcolor": "white",
           "caxis": {
            "gridcolor": "rgb(232,232,232)",
            "linecolor": "rgb(36,36,36)",
            "showgrid": false,
            "showline": true,
            "ticks": "outside"
           }
          },
          "title": {
           "x": 0.05
          },
          "xaxis": {
           "automargin": true,
           "gridcolor": "rgb(232,232,232)",
           "linecolor": "rgb(36,36,36)",
           "showgrid": false,
           "showline": true,
           "ticks": "outside",
           "title": {
            "standoff": 15
           },
           "zeroline": false,
           "zerolinecolor": "rgb(36,36,36)"
          },
          "yaxis": {
           "automargin": true,
           "gridcolor": "rgb(232,232,232)",
           "linecolor": "rgb(36,36,36)",
           "showgrid": false,
           "showline": true,
           "ticks": "outside",
           "title": {
            "standoff": 15
           },
           "zeroline": false,
           "zerolinecolor": "rgb(36,36,36)"
          }
         }
        },
        "title": {
         "text": "Age Distribution"
        },
        "width": 1000,
        "xaxis": {
         "anchor": "y",
         "domain": [
          0,
          0.45
         ],
         "title": {
          "text": "Age"
         }
        },
        "xaxis2": {
         "anchor": "y2",
         "domain": [
          0.55,
          1
         ]
        },
        "xaxis3": {
         "anchor": "y3",
         "domain": [
          0,
          1
         ]
        },
        "yaxis": {
         "anchor": "x",
         "domain": [
          0.625,
          1
         ],
         "title": {
          "text": "Probability"
         }
        },
        "yaxis2": {
         "anchor": "x2",
         "domain": [
          0.625,
          1
         ]
        },
        "yaxis3": {
         "anchor": "x3",
         "domain": [
          0,
          0.375
         ]
        }
       }
      }
     },
     "metadata": {},
     "output_type": "display_data"
    }
   ],
   "source": [
    "df_good = df_credit.loc[df_credit[\"Risk\"] == 'good']['Age'].values.tolist()\n",
    "df_bad = df_credit.loc[df_credit[\"Risk\"] == 'bad']['Age'].values.tolist()\n",
    "df_age = df_credit['Age'].values.tolist()\n",
    "\n",
    "#First plot\n",
    "trace0 = go.Histogram(\n",
    "    x=df_good,\n",
    "    histnorm='probability',\n",
    "    name=\"Good Credit\",\n",
    "    marker=dict(color='blue')\n",
    ")\n",
    "#Second plot\n",
    "trace1 = go.Histogram(\n",
    "    x=df_bad,\n",
    "    histnorm='probability',\n",
    "    name=\"Bad Credit\",\n",
    "    marker=dict(color='red')\n",
    ")\n",
    "#Third plot\n",
    "trace2 = go.Histogram(\n",
    "    x=df_age,\n",
    "    histnorm='probability',\n",
    "    name=\"Overall Age\",\n",
    "    marker=dict(color='gray')\n",
    ")\n",
    "\n",
    "#Creating the grid\n",
    "fig = make_subplots(rows=2, cols=2, specs=[[{}, {}], [{'colspan': 2}, None]],\n",
    "                          subplot_titles=('Good','Bad', 'General Distribuition'))\n",
    "\n",
    "#setting the figs\n",
    "fig.append_trace(trace0, 1, 1)\n",
    "fig.append_trace(trace1, 1, 2)\n",
    "fig.append_trace(trace2, 2, 1)\n",
    "\n",
    "fig.update_layout(\n",
    "    title='Age Distribution',\n",
    "    template=\"simple_white\",\n",
    "    width=1000,\n",
    "    height=600,\n",
    "    margin=dict(l=50, r=50, t=80, b=80),\n",
    "    showlegend=True,\n",
    "    bargap=0.05,\n",
    "    xaxis=dict(title='Age'),\n",
    "    yaxis=dict(title='Probability')\n",
    ")\n",
    "\n",
    "fig.show()\n"
   ]
  },
  {
   "cell_type": "markdown",
   "metadata": {},
   "source": [
    "### Creating an categorical variable to handle with the Age variable"
   ]
  },
  {
   "cell_type": "code",
   "execution_count": 8,
   "metadata": {},
   "outputs": [],
   "source": [
    "#Let's look the Credit Amount column\n",
    "interval = (18, 35, 60, 120)\n",
    "\n",
    "cats = ['Young', 'Adult', 'Senior']\n",
    "df_credit[\"Age_cat\"] = pd.cut(df_credit['Age'], interval, labels=cats)\n",
    "\n",
    "\n",
    "df_good = df_credit[df_credit[\"Risk\"] == 'good']\n",
    "df_bad = df_credit[df_credit[\"Risk\"] == 'bad']"
   ]
  },
  {
   "cell_type": "code",
   "execution_count": 9,
   "metadata": {},
   "outputs": [
    {
     "data": {
      "application/vnd.plotly.v1+json": {
       "config": {
        "plotlyServerURL": "https://plot.ly"
       },
       "data": [
        {
         "marker": {
          "color": "blue"
         },
         "name": "Good credit",
         "type": "box",
         "x": [
          "Senior",
          "Adult",
          "Adult",
          "Young",
          "Adult",
          "Young",
          "Senior",
          "Young",
          "Young",
          "Adult",
          "Young",
          "Young",
          "Adult",
          "Adult",
          "Adult",
          "Adult",
          "Young",
          "Adult",
          "Adult",
          "Adult",
          "Young",
          "Adult",
          "Young",
          "Young",
          "Adult",
          "Young",
          "Young",
          "Adult",
          "Young",
          "Young",
          "Young",
          "Adult",
          "Young",
          "Young",
          "Adult",
          "Young",
          "Adult",
          "Young",
          "Young",
          "Young",
          "Young",
          "Young",
          "Young",
          "Young",
          "Young",
          "Young",
          "Adult",
          "Young",
          "Adult",
          "Young",
          "Young",
          "Young",
          "Young",
          "Adult",
          "Adult",
          "Adult",
          "Senior",
          "Adult",
          "Adult",
          "Young",
          "Adult",
          "Young",
          "Adult",
          "Adult",
          "Young",
          "Young",
          "Young",
          "Adult",
          "Adult",
          "Young",
          "Adult",
          "Senior",
          "Young",
          "Adult",
          "Adult",
          "Adult",
          "Young",
          "Young",
          "Young",
          "Young",
          "Young",
          "Young",
          "Young",
          "Young",
          "Young",
          "Young",
          "Young",
          "Adult",
          "Young",
          "Adult",
          "Adult",
          "Young",
          "Senior",
          "Young",
          "Adult",
          "Young",
          "Young",
          "Young",
          "Adult",
          "Young",
          "Adult",
          "Young",
          "Young",
          "Adult",
          "Young",
          "Young",
          "Young",
          "Young",
          "Young",
          "Adult",
          "Adult",
          "Young",
          "Adult",
          "Adult",
          "Adult",
          "Young",
          "Young",
          "Adult",
          "Adult",
          "Adult",
          "Adult",
          "Young",
          "Adult",
          "Young",
          "Adult",
          "Senior",
          "Adult",
          "Young",
          "Young",
          "Young",
          "Young",
          "Young",
          "Adult",
          "Adult",
          "Young",
          "Senior",
          "Adult",
          "Young",
          "Senior",
          "Young",
          "Young",
          "Young",
          "Adult",
          "Adult",
          "Young",
          "Young",
          "Adult",
          "Adult",
          "Adult",
          "Young",
          "Young",
          "Adult",
          "Young",
          "Adult",
          "Adult",
          "Adult",
          "Young",
          "Young",
          "Young",
          "Senior",
          "Young",
          "Young",
          "Young",
          "Young",
          "Young",
          "Young",
          "Young",
          "Adult",
          "Young",
          "Young",
          "Adult",
          "Young",
          "Adult",
          "Adult",
          "Young",
          "Young",
          "Young",
          "Adult",
          "Young",
          "Young",
          "Adult",
          "Adult",
          "Young",
          "Young",
          "Young",
          "Young",
          "Young",
          "Adult",
          "Young",
          "Adult",
          "Adult",
          "Adult",
          "Young",
          "Adult",
          "Adult",
          "Young",
          "Young",
          "Adult",
          "Adult",
          "Young",
          "Young",
          "Adult",
          "Young",
          "Young",
          "Adult",
          "Adult",
          "Senior",
          "Adult",
          "Young",
          "Young",
          "Young",
          "Adult",
          "Young",
          "Adult",
          "Adult",
          "Adult",
          "Young",
          "Adult",
          "Adult",
          "Young",
          "Adult",
          "Adult",
          "Young",
          "Young",
          "Young",
          "Adult",
          "Young",
          "Young",
          "Young",
          "Adult",
          "Adult",
          "Young",
          "Young",
          "Young",
          "Young",
          "Adult",
          "Adult",
          "Adult",
          "Young",
          "Young",
          "Young",
          "Senior",
          "Young",
          "Young",
          "Young",
          "Young",
          "Young",
          "Young",
          "Young",
          "Adult",
          "Adult",
          "Young",
          "Young",
          "Young",
          "Young",
          "Adult",
          "Adult",
          "Adult",
          "Young",
          "Senior",
          "Adult",
          "Adult",
          "Young",
          "Adult",
          "Young",
          "Young",
          "Adult",
          "Adult",
          "Young",
          "Young",
          "Senior",
          "Young",
          "Adult",
          "Adult",
          "Adult",
          "Young",
          "Young",
          "Young",
          "Young",
          "Young",
          "Adult",
          "Young",
          "Young",
          "Young",
          "Young",
          "Adult",
          "Young",
          "Young",
          "Young",
          "Adult",
          "Adult",
          "Adult",
          "Adult",
          "Young",
          "Young",
          "Adult",
          "Adult",
          "Young",
          "Young",
          "Young",
          "Young",
          "Adult",
          "Young",
          "Young",
          "Young",
          "Young",
          "Young",
          "Adult",
          "Young",
          "Young",
          "Young",
          "Adult",
          "Young",
          "Senior",
          "Adult",
          "Young",
          "Young",
          "Young",
          "Adult",
          "Senior",
          "Adult",
          "Young",
          "Young",
          "Adult",
          "Young",
          "Adult",
          "Young",
          "Young",
          "Young",
          "Young",
          "Young",
          "Adult",
          "Young",
          "Young",
          "Adult",
          "Adult",
          "Young",
          "Adult",
          "Young",
          "Senior",
          "Young",
          "Young",
          "Young",
          "Adult",
          "Young",
          "Young",
          "Adult",
          "Adult",
          "Young",
          "Young",
          "Adult",
          "Young",
          "Adult",
          "Adult",
          "Senior",
          "Young",
          "Young",
          "Young",
          "Young",
          "Adult",
          "Adult",
          "Adult",
          "Young",
          "Young",
          "Adult",
          "Adult",
          "Adult",
          "Young",
          "Adult",
          "Young",
          "Young",
          "Young",
          "Adult",
          "Adult",
          "Adult",
          "Adult",
          "Adult",
          "Adult",
          "Young",
          "Young",
          "Young",
          "Young",
          "Adult",
          "Adult",
          "Young",
          "Adult",
          "Young",
          "Young",
          "Senior",
          "Adult",
          "Adult",
          "Adult",
          "Senior",
          "Adult",
          "Young",
          "Young",
          "Young",
          "Adult",
          "Young",
          "Senior",
          "Adult",
          "Young",
          "Adult",
          "Young",
          "Young",
          "Adult",
          "Adult",
          "Young",
          "Young",
          "Young",
          "Young",
          "Young",
          "Young",
          "Young",
          "Adult",
          "Young",
          "Adult",
          "Adult",
          "Young",
          "Adult",
          "Adult",
          "Adult",
          "Young",
          "Adult",
          "Young",
          "Young",
          "Senior",
          "Young",
          "Adult",
          "Young",
          "Young",
          "Adult",
          "Young",
          "Adult",
          "Adult",
          "Young",
          "Young",
          "Young",
          "Adult",
          "Adult",
          "Senior",
          "Young",
          "Young",
          "Adult",
          "Young",
          "Young",
          "Young",
          "Adult",
          "Young",
          "Young",
          "Young",
          "Adult",
          "Young",
          "Young",
          "Adult",
          "Young",
          "Adult",
          "Young",
          "Adult",
          "Young",
          "Adult",
          "Young",
          "Young",
          "Young",
          "Adult",
          "Young",
          "Young",
          "Adult",
          "Young",
          "Young",
          "Young",
          "Senior",
          "Young",
          "Adult",
          "Adult",
          "Young",
          "Adult",
          "Young",
          "Young",
          "Young",
          "Young",
          "Young",
          "Young",
          "Young",
          "Young",
          "Young",
          "Adult",
          "Young",
          "Adult",
          "Young",
          "Adult",
          "Young",
          "Adult",
          "Adult",
          "Adult",
          "Young",
          "Young",
          "Young",
          "Adult",
          "Young",
          "Adult",
          "Young",
          "Senior",
          "Adult",
          "Young",
          "Young",
          "Young",
          "Senior",
          "Adult",
          "Adult",
          "Adult",
          "Young",
          "Adult",
          "Young",
          "Adult",
          "Young",
          "Young",
          "Adult",
          "Young",
          "Young",
          "Adult",
          "Young",
          "Young",
          "Young",
          "Young",
          "Young",
          "Young",
          "Adult",
          "Young",
          "Young",
          "Senior",
          "Young",
          "Adult",
          "Young",
          "Young",
          "Adult",
          "Young",
          "Young",
          "Senior",
          "Young",
          "Adult",
          "Adult",
          "Senior",
          "Adult",
          "Young",
          "Adult",
          "Senior",
          "Adult",
          "Young",
          "Adult",
          "Young",
          "Adult",
          "Adult",
          "Adult",
          "Young",
          "Adult",
          "Young",
          "Young",
          "Young",
          "Adult",
          "Young",
          "Adult",
          "Adult",
          "Young",
          "Young",
          "Young",
          "Young",
          "Senior",
          "Adult",
          "Young",
          "Young",
          "Adult",
          "Senior",
          "Young",
          "Adult",
          "Young",
          "Young",
          "Adult",
          "Young",
          "Young",
          "Adult",
          "Adult",
          "Adult",
          "Young",
          "Young",
          "Senior",
          "Adult",
          "Young",
          "Adult",
          "Adult",
          "Young",
          "Young",
          "Adult",
          "Adult",
          "Young",
          "Adult",
          "Young",
          "Adult",
          "Young",
          "Young",
          "Young",
          "Young",
          "Young",
          "Young",
          "Adult",
          "Adult",
          "Young",
          "Adult",
          "Adult",
          "Young",
          "Young",
          "Young",
          "Adult",
          "Adult",
          "Young",
          "Adult",
          "Adult",
          "Adult",
          "Adult",
          "Senior",
          "Young",
          "Young",
          "Adult",
          "Adult",
          "Adult",
          "Adult",
          "Young",
          "Young",
          "Young",
          "Young",
          "Young",
          "Young",
          "Adult",
          "Adult",
          "Adult",
          "Adult",
          "Young",
          "Young",
          "Young",
          "Adult",
          "Young",
          "Young",
          "Young",
          "Young",
          "Young",
          "Young",
          "Adult",
          "Young",
          "Young",
          "Adult",
          "Adult",
          "Young",
          "Young",
          "Adult",
          "Young",
          "Young",
          "Adult",
          "Adult",
          "Young",
          "Young",
          "Adult",
          "Adult",
          "Young",
          "Adult",
          "Adult",
          "Young",
          "Adult",
          "Adult",
          "Adult",
          "Young",
          "Young",
          "Adult",
          "Young",
          "Young",
          "Young",
          "Adult",
          "Young",
          "Adult",
          "Young",
          "Adult",
          "Young",
          "Adult",
          "Senior",
          "Adult",
          "Young",
          "Young",
          "Young",
          "Young",
          "Senior",
          "Young",
          "Adult",
          "Adult",
          "Young",
          "Young",
          "Young",
          "Adult",
          "Young",
          "Adult",
          "Adult",
          "Young"
         ],
         "y": [
          1169,
          2096,
          7882,
          9055,
          2835,
          6948,
          3059,
          1567,
          1403,
          2424,
          8072,
          3430,
          2134,
          2647,
          2241,
          1804,
          2069,
          1374,
          426,
          409,
          2415,
          1913,
          4020,
          5866,
          1264,
          1474,
          6110,
          1225,
          458,
          2333,
          1158,
          6204,
          6187,
          1393,
          2299,
          1352,
          7228,
          2073,
          2333,
          5965,
          1262,
          3378,
          783,
          9566,
          1961,
          1391,
          1537,
          3181,
          5190,
          2171,
          1007,
          2394,
          8133,
          730,
          1164,
          5954,
          1526,
          4771,
          9436,
          3832,
          1213,
          1568,
          1755,
          2315,
          1412,
          1295,
          2249,
          618,
          1409,
          3617,
          1318,
          2012,
          2622,
          2337,
          7057,
          1469,
          2323,
          932,
          1919,
          2445,
          6078,
          7721,
          1410,
          1449,
          392,
          6260,
          1680,
          3578,
          2132,
          2366,
          3868,
          1768,
          781,
          2121,
          701,
          1860,
          8487,
          2708,
          1984,
          10144,
          1240,
          8613,
          2728,
          1881,
          709,
          4795,
          3416,
          2288,
          3566,
          860,
          682,
          5371,
          1582,
          1346,
          1924,
          5848,
          7758,
          6967,
          1288,
          339,
          3512,
          1898,
          2872,
          1055,
          1262,
          7308,
          909,
          2978,
          1577,
          3972,
          763,
          1414,
          2577,
          338,
          1963,
          571,
          3777,
          1360,
          1175,
          3244,
          2108,
          1382,
          2760,
          936,
          1168,
          5117,
          1495,
          10623,
          1935,
          1424,
          6568,
          1413,
          3074,
          3835,
          3342,
          932,
          3104,
          3913,
          3021,
          1364,
          625,
          1200,
          707,
          2978,
          4657,
          2613,
          3149,
          2507,
          2141,
          866,
          1544,
          1291,
          2522,
          1595,
          1185,
          3447,
          1258,
          717,
          1204,
          1925,
          666,
          2251,
          4151,
          2030,
          7418,
          2684,
          3812,
          1154,
          1657,
          1603,
          5302,
          2748,
          1231,
          6304,
          1533,
          999,
          2662,
          1402,
          12169,
          2697,
          2404,
          1262,
          1901,
          3368,
          1574,
          1445,
          1520,
          3878,
          10722,
          4788,
          7582,
          1092,
          1076,
          6419,
          4796,
          7629,
          4675,
          1287,
          2515,
          2745,
          672,
          1038,
          1543,
          4811,
          276,
          5381,
          5511,
          3749,
          1494,
          708,
          4351,
          701,
          3643,
          2910,
          2659,
          1028,
          3398,
          5801,
          1525,
          4473,
          1068,
          6615,
          2101,
          4169,
          1521,
          5743,
          3599,
          3213,
          4439,
          3949,
          1459,
          882,
          3758,
          1743,
          1236,
          3229,
          727,
          2331,
          776,
          1239,
          3399,
          2247,
          1766,
          1542,
          3850,
          3650,
          3001,
          3079,
          6070,
          2146,
          13756,
          2320,
          846,
          362,
          2212,
          1283,
          1330,
          4272,
          2238,
          1126,
          7374,
          2326,
          1449,
          1820,
          983,
          3249,
          1957,
          2406,
          11760,
          2578,
          2348,
          1516,
          1473,
          1887,
          802,
          2899,
          2197,
          1053,
          3235,
          1967,
          7253,
          1597,
          5842,
          8471,
          2782,
          3186,
          2028,
          958,
          1591,
          2779,
          2743,
          1149,
          1313,
          3448,
          1872,
          2058,
          2136,
          660,
          1287,
          3394,
          1884,
          1620,
          2629,
          1244,
          2576,
          1424,
          11054,
          518,
          2759,
          2670,
          2679,
          3905,
          343,
          4594,
          3620,
          1721,
          3017,
          754,
          1950,
          2924,
          7238,
          2764,
          4679,
          1238,
          2569,
          5152,
          1037,
          1478,
          3573,
          1201,
          3622,
          960,
          1163,
          3077,
          3757,
          1418,
          3518,
          1934,
          1237,
          368,
          2122,
          1585,
          1301,
          1323,
          5493,
          1126,
          2360,
          1413,
          8588,
          4686,
          2687,
          585,
          2255,
          609,
          1361,
          1203,
          700,
          5507,
          3488,
          1113,
          7966,
          1532,
          1503,
          662,
          2273,
          1503,
          1311,
          3105,
          1374,
          3612,
          3049,
          2032,
          1255,
          2022,
          1552,
          8858,
          996,
          1750,
          1995,
          1199,
          2964,
          683,
          4712,
          1553,
          2578,
          3979,
          5954,
          5433,
          806,
          1082,
          2788,
          2930,
          1927,
          937,
          3124,
          1388,
          2133,
          2799,
          1289,
          385,
          1965,
          1572,
          3863,
          2329,
          1275,
          2828,
          4526,
          2051,
          1300,
          3357,
          3632,
          12204,
          9157,
          3676,
          640,
          3652,
          1858,
          1979,
          2116,
          4042,
          3832,
          3660,
          1444,
          1393,
          1376,
          15653,
          1493,
          1308,
          1851,
          1880,
          4583,
          7476,
          2346,
          3973,
          10222,
          4221,
          6361,
          1297,
          2241,
          1050,
          1047,
          6314,
          3496,
          3609,
          3017,
          4139,
          5742,
          10366,
          2080,
          4530,
          5150,
          2384,
          1453,
          1538,
          2279,
          1478,
          5103,
          9857,
          6527,
          1347,
          2862,
          2753,
          3651,
          975,
          2631,
          2896,
          4716,
          2284,
          1236,
          1103,
          926,
          1800,
          1905,
          1377,
          2503,
          2528,
          5324,
          1206,
          2118,
          629,
          2476,
          1138,
          7596,
          3077,
          1505,
          3148,
          6148,
          790,
          250,
          1316,
          1275,
          6403,
          760,
          2603,
          3380,
          3990,
          4380,
          6761,
          2325,
          1048,
          3160,
          2483,
          14179,
          1797,
          2511,
          5248,
          3029,
          428,
          841,
          5771,
          1299,
          1393,
          5045,
          2214,
          2463,
          1155,
          2901,
          3617,
          1655,
          2812,
          3275,
          2223,
          1480,
          3535,
          3509,
          5711,
          3872,
          1940,
          1410,
          6468,
          1941,
          2675,
          2751,
          6313,
          1221,
          2892,
          3062,
          2301,
          1258,
          717,
          1549,
          1597,
          1795,
          4272,
          976,
          7472,
          590,
          930,
          9283,
          907,
          484,
          7432,
          1338,
          1554,
          15857,
          1101,
          3016,
          731,
          3780,
          1602,
          6681,
          2375,
          5084,
          886,
          601,
          2957,
          2611,
          2993,
          1559,
          3422,
          3976,
          1249,
          1364,
          4042,
          1471,
          10875,
          1474,
          894,
          3343,
          3577,
          5804,
          4526,
          2221,
          2389,
          3331,
          7409,
          652,
          7678,
          1343,
          1382,
          874,
          3590,
          1322,
          1940,
          3595,
          6742,
          7814,
          9277,
          2181,
          1098,
          2825,
          6614,
          7824,
          2442,
          1829,
          2171,
          5800,
          1169,
          8947,
          2606,
          1592,
          2186,
          3485,
          10477,
          1386,
          1278,
          1107,
          3763,
          3711,
          3594,
          3195,
          4454,
          2991,
          2142,
          2848,
          1817,
          12749,
          2002,
          1049,
          1867,
          1344,
          1747,
          1224,
          522,
          1498,
          2063,
          6842,
          3527,
          1546,
          929,
          1455,
          1845,
          8358,
          2859,
          3590,
          1893,
          1231,
          3656,
          1154,
          3069,
          1740,
          2353,
          3556,
          454,
          1715,
          3568,
          7166,
          3939,
          1514,
          7393,
          2831,
          1258,
          753,
          2427,
          2923,
          2028,
          1433,
          6289,
          1409,
          6579,
          1743,
          3565,
          1569,
          1936,
          3959,
          2390,
          1736,
          3857,
          804,
          4576
         ]
        },
        {
         "marker": {
          "color": "red"
         },
         "name": "Bad credit",
         "type": "box",
         "x": [
          "Young",
          "Adult",
          "Young",
          "Young",
          "Young",
          "Adult",
          "Young",
          "Adult",
          "Senior",
          "Young",
          "Adult",
          "Adult",
          "Adult",
          "Adult",
          "Young",
          "Senior",
          "Young",
          "Adult",
          "Adult",
          "Young",
          "Adult",
          "Adult",
          "Young",
          "Young",
          "Adult",
          "Adult",
          "Adult",
          "Young",
          "Young",
          "Young",
          "Young",
          "Young",
          "Young",
          "Young",
          "Young",
          "Senior",
          "Young",
          "Young",
          "Young",
          "Young",
          "Young",
          "Young",
          "Young",
          "Adult",
          "Young",
          "Young",
          "Adult",
          "Adult",
          "Senior",
          "Young",
          "Adult",
          "Young",
          "Adult",
          "Young",
          "Young",
          "Young",
          "Adult",
          "Young",
          "Adult",
          "Senior",
          "Young",
          "Adult",
          "Young",
          "Young",
          "Young",
          "Young",
          "Senior",
          "Young",
          "Young",
          "Young",
          "Young",
          "Young",
          "Adult",
          "Adult",
          "Young",
          "Young",
          "Young",
          "Adult",
          "Young",
          "Young",
          "Adult",
          "Adult",
          "Adult",
          "Young",
          "Young",
          "Young",
          "Young",
          "Young",
          "Young",
          "Young",
          "Young",
          "Young",
          "Young",
          "Adult",
          "Young",
          "Young",
          "Young",
          "Young",
          "Young",
          "Young",
          "Young",
          "Young",
          "Adult",
          "Adult",
          "Adult",
          "Adult",
          "Adult",
          "Adult",
          "Young",
          "Young",
          "Young",
          "Adult",
          "Young",
          "Young",
          "Young",
          "Young",
          "Adult",
          "Young",
          "Young",
          "Young",
          "Adult",
          "Young",
          "Young",
          "Senior",
          "Young",
          "Young",
          "Young",
          "Young",
          "Young",
          "Young",
          "Young",
          "Young",
          "Adult",
          "Adult",
          "Young",
          "Young",
          "Young",
          "Adult",
          "Young",
          "Young",
          "Young",
          "Young",
          "Young",
          "Young",
          "Adult",
          "Young",
          "Young",
          "Young",
          "Adult",
          "Young",
          "Young",
          "Young",
          "Adult",
          "Young",
          "Young",
          "Young",
          "Young",
          "Young",
          "Young",
          "Young",
          "Young",
          "Adult",
          "Adult",
          "Young",
          "Young",
          "Young",
          "Young",
          "Young",
          "Young",
          "Adult",
          "Adult",
          "Young",
          "Adult",
          "Young",
          "Young",
          "Adult",
          "Young",
          "Young",
          "Young",
          "Young",
          "Adult",
          "Young",
          "Adult",
          "Young",
          "Young",
          "Young",
          "Adult",
          "Senior",
          "Young",
          "Adult",
          "Young",
          "Young",
          "Young",
          "Young",
          "Adult",
          "Young",
          "Young",
          "Adult",
          "Adult",
          "Adult",
          "Adult",
          "Adult",
          "Adult",
          "Young",
          "Adult",
          "Adult",
          "Young",
          "Young",
          "Adult",
          "Young",
          "Young",
          "Young",
          "Young",
          "Young",
          "Young",
          "Young",
          "Young",
          "Young",
          "Adult",
          "Young",
          "Young",
          "Young",
          "Adult",
          "Young",
          "Adult",
          "Young",
          "Adult",
          "Young",
          "Young",
          "Young",
          "Young",
          "Young",
          "Young",
          "Young",
          "Young",
          "Adult",
          "Young",
          "Adult",
          "Adult",
          "Young",
          "Young",
          "Young",
          "Adult",
          "Adult",
          "Young",
          "Adult",
          "Young",
          "Adult",
          "Adult",
          "Young",
          "Young",
          "Young",
          "Adult",
          "Young",
          "Young",
          "Senior",
          "Adult",
          "Young",
          "Young",
          "Young",
          "Young",
          "Young",
          "Young",
          "Young",
          "Adult",
          "Adult",
          "Young",
          "Adult",
          "Adult",
          "Young",
          "Young",
          "Young",
          "Senior",
          "Young",
          "Adult",
          "Young",
          "Adult",
          "Adult",
          "Adult",
          "Young",
          "Young",
          "Young",
          "Adult",
          "Young",
          "Adult",
          "Young",
          "Young",
          "Young",
          "Young",
          "Adult",
          "Young",
          "Young",
          "Young",
          "Adult",
          "Adult",
          "Young",
          "Adult",
          "Young",
          "Young",
          "Young"
         ],
         "y": [
          5951,
          4870,
          5234,
          1295,
          4308,
          1199,
          1282,
          12579,
          6836,
          4746,
          2100,
          6143,
          2225,
          6468,
          6229,
          1953,
          14421,
          1819,
          1977,
          3965,
          5943,
          12612,
          1108,
          797,
          15945,
          11938,
          6458,
          7855,
          7174,
          4281,
          1835,
          1924,
          639,
          3499,
          6887,
          766,
          2462,
          1282,
          1131,
          1935,
          950,
          2064,
          3414,
          7485,
          9572,
          4455,
          1647,
          884,
          5129,
          674,
          4591,
          3844,
          3915,
          3031,
          1501,
          951,
          4297,
          902,
          5293,
          1908,
          10961,
          7865,
          1478,
          4210,
          1823,
          14555,
          2767,
          915,
          4605,
          433,
          2150,
          2149,
          802,
          8978,
          3060,
          11998,
          4611,
          1024,
          9398,
          9960,
          3804,
          1344,
          10127,
          727,
          1237,
          685,
          2746,
          4249,
          1938,
          1864,
          7408,
          11590,
          4110,
          3384,
          1275,
          1136,
          959,
          6199,
          1246,
          4463,
          2406,
          2473,
          3446,
          14782,
          7685,
          14318,
          12976,
          1223,
          8648,
          2039,
          939,
          2292,
          1381,
          2579,
          1042,
          2762,
          1190,
          11328,
          1484,
          609,
          719,
          5096,
          1842,
          1512,
          4817,
          3386,
          1659,
          3092,
          448,
          654,
          1245,
          3114,
          1209,
          8318,
          2996,
          9034,
          3123,
          1216,
          1207,
          1309,
          6850,
          759,
          7127,
          3190,
          7119,
          2302,
          2631,
          2319,
          7763,
          1534,
          6350,
          2864,
          1333,
          626,
          6999,
          1331,
          2278,
          5003,
          3552,
          1928,
          1546,
          12389,
          1372,
          6758,
          3234,
          2820,
          1056,
          2384,
          2039,
          1217,
          2246,
          2718,
          1358,
          931,
          1442,
          4241,
          2775,
          918,
          1837,
          3349,
          2671,
          741,
          1240,
          1808,
          3441,
          1530,
          3914,
          2600,
          1437,
          1553,
          1980,
          1355,
          4370,
          750,
          4623,
          7980,
          1386,
          947,
          684,
          1922,
          2303,
          8086,
          888,
          900,
          4843,
          2580,
          5595,
          1123,
          6331,
          6560,
          2969,
          1198,
          14027,
          1337,
          433,
          1228,
          2570,
          1882,
          6416,
          1987,
          11560,
          4280,
          1274,
          976,
          1555,
          1285,
          1271,
          691,
          2124,
          12680,
          3108,
          8065,
          1371,
          4933,
          836,
          6224,
          5998,
          1188,
          7511,
          9271,
          1778,
          9629,
          3051,
          3931,
          1345,
          2712,
          3966,
          4165,
          8335,
          1216,
          11816,
          2327,
          1082,
          5179,
          1943,
          6761,
          709,
          2235,
          1442,
          3959,
          2169,
          2439,
          2210,
          1422,
          4057,
          795,
          15672,
          4153,
          2625,
          4736,
          3161,
          18424,
          14896,
          2359,
          3345,
          1366,
          6872,
          697,
          10297,
          1670,
          1919,
          745,
          6288,
          3349,
          1533,
          3621,
          2145,
          4113,
          10974,
          4006,
          2397,
          2520,
          1193,
          7297,
          2538,
          1264,
          8386,
          4844,
          8229,
          1845
         ]
        }
       ],
       "layout": {
        "boxmode": "group",
        "font": {
         "color": "#7f7f7f",
         "family": "Arial, sans-serif",
         "size": 14
        },
        "margin": {
         "b": 30,
         "l": 30,
         "r": 30,
         "t": 80
        },
        "showlegend": true,
        "template": {
         "data": {
          "bar": [
           {
            "error_x": {
             "color": "rgb(36,36,36)"
            },
            "error_y": {
             "color": "rgb(36,36,36)"
            },
            "marker": {
             "line": {
              "color": "white",
              "width": 0.5
             },
             "pattern": {
              "fillmode": "overlay",
              "size": 10,
              "solidity": 0.2
             }
            },
            "type": "bar"
           }
          ],
          "barpolar": [
           {
            "marker": {
             "line": {
              "color": "white",
              "width": 0.5
             },
             "pattern": {
              "fillmode": "overlay",
              "size": 10,
              "solidity": 0.2
             }
            },
            "type": "barpolar"
           }
          ],
          "carpet": [
           {
            "aaxis": {
             "endlinecolor": "rgb(36,36,36)",
             "gridcolor": "white",
             "linecolor": "white",
             "minorgridcolor": "white",
             "startlinecolor": "rgb(36,36,36)"
            },
            "baxis": {
             "endlinecolor": "rgb(36,36,36)",
             "gridcolor": "white",
             "linecolor": "white",
             "minorgridcolor": "white",
             "startlinecolor": "rgb(36,36,36)"
            },
            "type": "carpet"
           }
          ],
          "choropleth": [
           {
            "colorbar": {
             "outlinewidth": 1,
             "tickcolor": "rgb(36,36,36)",
             "ticks": "outside"
            },
            "type": "choropleth"
           }
          ],
          "contour": [
           {
            "colorbar": {
             "outlinewidth": 1,
             "tickcolor": "rgb(36,36,36)",
             "ticks": "outside"
            },
            "colorscale": [
             [
              0,
              "#440154"
             ],
             [
              0.1111111111111111,
              "#482878"
             ],
             [
              0.2222222222222222,
              "#3e4989"
             ],
             [
              0.3333333333333333,
              "#31688e"
             ],
             [
              0.4444444444444444,
              "#26828e"
             ],
             [
              0.5555555555555556,
              "#1f9e89"
             ],
             [
              0.6666666666666666,
              "#35b779"
             ],
             [
              0.7777777777777778,
              "#6ece58"
             ],
             [
              0.8888888888888888,
              "#b5de2b"
             ],
             [
              1,
              "#fde725"
             ]
            ],
            "type": "contour"
           }
          ],
          "contourcarpet": [
           {
            "colorbar": {
             "outlinewidth": 1,
             "tickcolor": "rgb(36,36,36)",
             "ticks": "outside"
            },
            "type": "contourcarpet"
           }
          ],
          "heatmap": [
           {
            "colorbar": {
             "outlinewidth": 1,
             "tickcolor": "rgb(36,36,36)",
             "ticks": "outside"
            },
            "colorscale": [
             [
              0,
              "#440154"
             ],
             [
              0.1111111111111111,
              "#482878"
             ],
             [
              0.2222222222222222,
              "#3e4989"
             ],
             [
              0.3333333333333333,
              "#31688e"
             ],
             [
              0.4444444444444444,
              "#26828e"
             ],
             [
              0.5555555555555556,
              "#1f9e89"
             ],
             [
              0.6666666666666666,
              "#35b779"
             ],
             [
              0.7777777777777778,
              "#6ece58"
             ],
             [
              0.8888888888888888,
              "#b5de2b"
             ],
             [
              1,
              "#fde725"
             ]
            ],
            "type": "heatmap"
           }
          ],
          "heatmapgl": [
           {
            "colorbar": {
             "outlinewidth": 1,
             "tickcolor": "rgb(36,36,36)",
             "ticks": "outside"
            },
            "colorscale": [
             [
              0,
              "#440154"
             ],
             [
              0.1111111111111111,
              "#482878"
             ],
             [
              0.2222222222222222,
              "#3e4989"
             ],
             [
              0.3333333333333333,
              "#31688e"
             ],
             [
              0.4444444444444444,
              "#26828e"
             ],
             [
              0.5555555555555556,
              "#1f9e89"
             ],
             [
              0.6666666666666666,
              "#35b779"
             ],
             [
              0.7777777777777778,
              "#6ece58"
             ],
             [
              0.8888888888888888,
              "#b5de2b"
             ],
             [
              1,
              "#fde725"
             ]
            ],
            "type": "heatmapgl"
           }
          ],
          "histogram": [
           {
            "marker": {
             "line": {
              "color": "white",
              "width": 0.6
             }
            },
            "type": "histogram"
           }
          ],
          "histogram2d": [
           {
            "colorbar": {
             "outlinewidth": 1,
             "tickcolor": "rgb(36,36,36)",
             "ticks": "outside"
            },
            "colorscale": [
             [
              0,
              "#440154"
             ],
             [
              0.1111111111111111,
              "#482878"
             ],
             [
              0.2222222222222222,
              "#3e4989"
             ],
             [
              0.3333333333333333,
              "#31688e"
             ],
             [
              0.4444444444444444,
              "#26828e"
             ],
             [
              0.5555555555555556,
              "#1f9e89"
             ],
             [
              0.6666666666666666,
              "#35b779"
             ],
             [
              0.7777777777777778,
              "#6ece58"
             ],
             [
              0.8888888888888888,
              "#b5de2b"
             ],
             [
              1,
              "#fde725"
             ]
            ],
            "type": "histogram2d"
           }
          ],
          "histogram2dcontour": [
           {
            "colorbar": {
             "outlinewidth": 1,
             "tickcolor": "rgb(36,36,36)",
             "ticks": "outside"
            },
            "colorscale": [
             [
              0,
              "#440154"
             ],
             [
              0.1111111111111111,
              "#482878"
             ],
             [
              0.2222222222222222,
              "#3e4989"
             ],
             [
              0.3333333333333333,
              "#31688e"
             ],
             [
              0.4444444444444444,
              "#26828e"
             ],
             [
              0.5555555555555556,
              "#1f9e89"
             ],
             [
              0.6666666666666666,
              "#35b779"
             ],
             [
              0.7777777777777778,
              "#6ece58"
             ],
             [
              0.8888888888888888,
              "#b5de2b"
             ],
             [
              1,
              "#fde725"
             ]
            ],
            "type": "histogram2dcontour"
           }
          ],
          "mesh3d": [
           {
            "colorbar": {
             "outlinewidth": 1,
             "tickcolor": "rgb(36,36,36)",
             "ticks": "outside"
            },
            "type": "mesh3d"
           }
          ],
          "parcoords": [
           {
            "line": {
             "colorbar": {
              "outlinewidth": 1,
              "tickcolor": "rgb(36,36,36)",
              "ticks": "outside"
             }
            },
            "type": "parcoords"
           }
          ],
          "pie": [
           {
            "automargin": true,
            "type": "pie"
           }
          ],
          "scatter": [
           {
            "fillpattern": {
             "fillmode": "overlay",
             "size": 10,
             "solidity": 0.2
            },
            "type": "scatter"
           }
          ],
          "scatter3d": [
           {
            "line": {
             "colorbar": {
              "outlinewidth": 1,
              "tickcolor": "rgb(36,36,36)",
              "ticks": "outside"
             }
            },
            "marker": {
             "colorbar": {
              "outlinewidth": 1,
              "tickcolor": "rgb(36,36,36)",
              "ticks": "outside"
             }
            },
            "type": "scatter3d"
           }
          ],
          "scattercarpet": [
           {
            "marker": {
             "colorbar": {
              "outlinewidth": 1,
              "tickcolor": "rgb(36,36,36)",
              "ticks": "outside"
             }
            },
            "type": "scattercarpet"
           }
          ],
          "scattergeo": [
           {
            "marker": {
             "colorbar": {
              "outlinewidth": 1,
              "tickcolor": "rgb(36,36,36)",
              "ticks": "outside"
             }
            },
            "type": "scattergeo"
           }
          ],
          "scattergl": [
           {
            "marker": {
             "colorbar": {
              "outlinewidth": 1,
              "tickcolor": "rgb(36,36,36)",
              "ticks": "outside"
             }
            },
            "type": "scattergl"
           }
          ],
          "scattermapbox": [
           {
            "marker": {
             "colorbar": {
              "outlinewidth": 1,
              "tickcolor": "rgb(36,36,36)",
              "ticks": "outside"
             }
            },
            "type": "scattermapbox"
           }
          ],
          "scatterpolar": [
           {
            "marker": {
             "colorbar": {
              "outlinewidth": 1,
              "tickcolor": "rgb(36,36,36)",
              "ticks": "outside"
             }
            },
            "type": "scatterpolar"
           }
          ],
          "scatterpolargl": [
           {
            "marker": {
             "colorbar": {
              "outlinewidth": 1,
              "tickcolor": "rgb(36,36,36)",
              "ticks": "outside"
             }
            },
            "type": "scatterpolargl"
           }
          ],
          "scatterternary": [
           {
            "marker": {
             "colorbar": {
              "outlinewidth": 1,
              "tickcolor": "rgb(36,36,36)",
              "ticks": "outside"
             }
            },
            "type": "scatterternary"
           }
          ],
          "surface": [
           {
            "colorbar": {
             "outlinewidth": 1,
             "tickcolor": "rgb(36,36,36)",
             "ticks": "outside"
            },
            "colorscale": [
             [
              0,
              "#440154"
             ],
             [
              0.1111111111111111,
              "#482878"
             ],
             [
              0.2222222222222222,
              "#3e4989"
             ],
             [
              0.3333333333333333,
              "#31688e"
             ],
             [
              0.4444444444444444,
              "#26828e"
             ],
             [
              0.5555555555555556,
              "#1f9e89"
             ],
             [
              0.6666666666666666,
              "#35b779"
             ],
             [
              0.7777777777777778,
              "#6ece58"
             ],
             [
              0.8888888888888888,
              "#b5de2b"
             ],
             [
              1,
              "#fde725"
             ]
            ],
            "type": "surface"
           }
          ],
          "table": [
           {
            "cells": {
             "fill": {
              "color": "rgb(237,237,237)"
             },
             "line": {
              "color": "white"
             }
            },
            "header": {
             "fill": {
              "color": "rgb(217,217,217)"
             },
             "line": {
              "color": "white"
             }
            },
            "type": "table"
           }
          ]
         },
         "layout": {
          "annotationdefaults": {
           "arrowhead": 0,
           "arrowwidth": 1
          },
          "autotypenumbers": "strict",
          "coloraxis": {
           "colorbar": {
            "outlinewidth": 1,
            "tickcolor": "rgb(36,36,36)",
            "ticks": "outside"
           }
          },
          "colorscale": {
           "diverging": [
            [
             0,
             "rgb(103,0,31)"
            ],
            [
             0.1,
             "rgb(178,24,43)"
            ],
            [
             0.2,
             "rgb(214,96,77)"
            ],
            [
             0.3,
             "rgb(244,165,130)"
            ],
            [
             0.4,
             "rgb(253,219,199)"
            ],
            [
             0.5,
             "rgb(247,247,247)"
            ],
            [
             0.6,
             "rgb(209,229,240)"
            ],
            [
             0.7,
             "rgb(146,197,222)"
            ],
            [
             0.8,
             "rgb(67,147,195)"
            ],
            [
             0.9,
             "rgb(33,102,172)"
            ],
            [
             1,
             "rgb(5,48,97)"
            ]
           ],
           "sequential": [
            [
             0,
             "#440154"
            ],
            [
             0.1111111111111111,
             "#482878"
            ],
            [
             0.2222222222222222,
             "#3e4989"
            ],
            [
             0.3333333333333333,
             "#31688e"
            ],
            [
             0.4444444444444444,
             "#26828e"
            ],
            [
             0.5555555555555556,
             "#1f9e89"
            ],
            [
             0.6666666666666666,
             "#35b779"
            ],
            [
             0.7777777777777778,
             "#6ece58"
            ],
            [
             0.8888888888888888,
             "#b5de2b"
            ],
            [
             1,
             "#fde725"
            ]
           ],
           "sequentialminus": [
            [
             0,
             "#440154"
            ],
            [
             0.1111111111111111,
             "#482878"
            ],
            [
             0.2222222222222222,
             "#3e4989"
            ],
            [
             0.3333333333333333,
             "#31688e"
            ],
            [
             0.4444444444444444,
             "#26828e"
            ],
            [
             0.5555555555555556,
             "#1f9e89"
            ],
            [
             0.6666666666666666,
             "#35b779"
            ],
            [
             0.7777777777777778,
             "#6ece58"
            ],
            [
             0.8888888888888888,
             "#b5de2b"
            ],
            [
             1,
             "#fde725"
            ]
           ]
          },
          "colorway": [
           "#1F77B4",
           "#FF7F0E",
           "#2CA02C",
           "#D62728",
           "#9467BD",
           "#8C564B",
           "#E377C2",
           "#7F7F7F",
           "#BCBD22",
           "#17BECF"
          ],
          "font": {
           "color": "rgb(36,36,36)"
          },
          "geo": {
           "bgcolor": "white",
           "lakecolor": "white",
           "landcolor": "white",
           "showlakes": true,
           "showland": true,
           "subunitcolor": "white"
          },
          "hoverlabel": {
           "align": "left"
          },
          "hovermode": "closest",
          "mapbox": {
           "style": "light"
          },
          "paper_bgcolor": "white",
          "plot_bgcolor": "white",
          "polar": {
           "angularaxis": {
            "gridcolor": "rgb(232,232,232)",
            "linecolor": "rgb(36,36,36)",
            "showgrid": false,
            "showline": true,
            "ticks": "outside"
           },
           "bgcolor": "white",
           "radialaxis": {
            "gridcolor": "rgb(232,232,232)",
            "linecolor": "rgb(36,36,36)",
            "showgrid": false,
            "showline": true,
            "ticks": "outside"
           }
          },
          "scene": {
           "xaxis": {
            "backgroundcolor": "white",
            "gridcolor": "rgb(232,232,232)",
            "gridwidth": 2,
            "linecolor": "rgb(36,36,36)",
            "showbackground": true,
            "showgrid": false,
            "showline": true,
            "ticks": "outside",
            "zeroline": false,
            "zerolinecolor": "rgb(36,36,36)"
           },
           "yaxis": {
            "backgroundcolor": "white",
            "gridcolor": "rgb(232,232,232)",
            "gridwidth": 2,
            "linecolor": "rgb(36,36,36)",
            "showbackground": true,
            "showgrid": false,
            "showline": true,
            "ticks": "outside",
            "zeroline": false,
            "zerolinecolor": "rgb(36,36,36)"
           },
           "zaxis": {
            "backgroundcolor": "white",
            "gridcolor": "rgb(232,232,232)",
            "gridwidth": 2,
            "linecolor": "rgb(36,36,36)",
            "showbackground": true,
            "showgrid": false,
            "showline": true,
            "ticks": "outside",
            "zeroline": false,
            "zerolinecolor": "rgb(36,36,36)"
           }
          },
          "shapedefaults": {
           "fillcolor": "black",
           "line": {
            "width": 0
           },
           "opacity": 0.3
          },
          "ternary": {
           "aaxis": {
            "gridcolor": "rgb(232,232,232)",
            "linecolor": "rgb(36,36,36)",
            "showgrid": false,
            "showline": true,
            "ticks": "outside"
           },
           "baxis": {
            "gridcolor": "rgb(232,232,232)",
            "linecolor": "rgb(36,36,36)",
            "showgrid": false,
            "showline": true,
            "ticks": "outside"
           },
           "bgcolor": "white",
           "caxis": {
            "gridcolor": "rgb(232,232,232)",
            "linecolor": "rgb(36,36,36)",
            "showgrid": false,
            "showline": true,
            "ticks": "outside"
           }
          },
          "title": {
           "x": 0.05
          },
          "xaxis": {
           "automargin": true,
           "gridcolor": "rgb(232,232,232)",
           "linecolor": "rgb(36,36,36)",
           "showgrid": false,
           "showline": true,
           "ticks": "outside",
           "title": {
            "standoff": 15
           },
           "zeroline": false,
           "zerolinecolor": "rgb(36,36,36)"
          },
          "yaxis": {
           "automargin": true,
           "gridcolor": "rgb(232,232,232)",
           "linecolor": "rgb(36,36,36)",
           "showgrid": false,
           "showline": true,
           "ticks": "outside",
           "title": {
            "standoff": 15
           },
           "zeroline": false,
           "zerolinecolor": "rgb(36,36,36)"
          }
         }
        },
        "title": {
         "text": "Credit Amount by Age Category"
        },
        "width": 1000,
        "xaxis": {
         "title": {
          "text": "Age Categorical"
         }
        },
        "yaxis": {
         "title": {
          "text": "Credit Amount (US Dollar)"
         },
         "zeroline": false
        }
       }
      }
     },
     "metadata": {},
     "output_type": "display_data"
    }
   ],
   "source": [
    "trace0 = go.Box(\n",
    "    y=df_good[\"Credit amount\"],\n",
    "    x=df_good[\"Age_cat\"],\n",
    "    name='Good credit',\n",
    "    marker=dict(\n",
    "        color='blue'\n",
    "    )\n",
    ")\n",
    "\n",
    "trace1 = go.Box(\n",
    "    y=df_bad['Credit amount'],\n",
    "    x=df_bad['Age_cat'],\n",
    "    name='Bad credit',\n",
    "    marker=dict(\n",
    "        color='red'\n",
    "    )\n",
    ")\n",
    "    \n",
    "data = [trace0, trace1]\n",
    "\n",
    "layout = go.Layout(\n",
    "    yaxis=dict(\n",
    "        title='Credit Amount (US Dollar)',\n",
    "        zeroline=False\n",
    "    ),\n",
    "    xaxis=dict(\n",
    "        title='Age Categorical'\n",
    "    ),\n",
    "    boxmode='group',\n",
    "    title='Credit Amount by Age Category',\n",
    "    font=dict(\n",
    "        family=\"Arial, sans-serif\",\n",
    "        size=14,\n",
    "        color=\"#7f7f7f\"\n",
    "    ),\n",
    "    margin=dict(\n",
    "        l=30,\n",
    "        r=30,\n",
    "        b=30,\n",
    "        t=80\n",
    "    ),\n",
    "    showlegend=True,\n",
    "    template=\"simple_white\",\n",
    "    width=1000\n",
    ")\n",
    "\n",
    "fig = go.Figure(data=data, layout=layout)\n",
    "fig.show()\n"
   ]
  },
  {
   "cell_type": "code",
   "execution_count": 10,
   "metadata": {},
   "outputs": [
    {
     "data": {
      "application/vnd.plotly.v1+json": {
       "config": {
        "plotlyServerURL": "https://plot.ly"
       },
       "data": [
        {
         "marker": {
          "color": "blue"
         },
         "name": "Good credit",
         "type": "bar",
         "x": [
          "own",
          "rent",
          "free"
         ],
         "y": [
          527,
          109,
          64
         ]
        },
        {
         "marker": {
          "color": "red"
         },
         "name": "Bad Credit",
         "type": "bar",
         "x": [
          "own",
          "rent",
          "free"
         ],
         "y": [
          186,
          70,
          44
         ]
        }
       ],
       "layout": {
        "font": {
         "color": "black",
         "family": "Arial, sans-serif",
         "size": 14
        },
        "height": 500,
        "template": {
         "data": {
          "bar": [
           {
            "error_x": {
             "color": "rgb(36,36,36)"
            },
            "error_y": {
             "color": "rgb(36,36,36)"
            },
            "marker": {
             "line": {
              "color": "white",
              "width": 0.5
             },
             "pattern": {
              "fillmode": "overlay",
              "size": 10,
              "solidity": 0.2
             }
            },
            "type": "bar"
           }
          ],
          "barpolar": [
           {
            "marker": {
             "line": {
              "color": "white",
              "width": 0.5
             },
             "pattern": {
              "fillmode": "overlay",
              "size": 10,
              "solidity": 0.2
             }
            },
            "type": "barpolar"
           }
          ],
          "carpet": [
           {
            "aaxis": {
             "endlinecolor": "rgb(36,36,36)",
             "gridcolor": "white",
             "linecolor": "white",
             "minorgridcolor": "white",
             "startlinecolor": "rgb(36,36,36)"
            },
            "baxis": {
             "endlinecolor": "rgb(36,36,36)",
             "gridcolor": "white",
             "linecolor": "white",
             "minorgridcolor": "white",
             "startlinecolor": "rgb(36,36,36)"
            },
            "type": "carpet"
           }
          ],
          "choropleth": [
           {
            "colorbar": {
             "outlinewidth": 1,
             "tickcolor": "rgb(36,36,36)",
             "ticks": "outside"
            },
            "type": "choropleth"
           }
          ],
          "contour": [
           {
            "colorbar": {
             "outlinewidth": 1,
             "tickcolor": "rgb(36,36,36)",
             "ticks": "outside"
            },
            "colorscale": [
             [
              0,
              "#440154"
             ],
             [
              0.1111111111111111,
              "#482878"
             ],
             [
              0.2222222222222222,
              "#3e4989"
             ],
             [
              0.3333333333333333,
              "#31688e"
             ],
             [
              0.4444444444444444,
              "#26828e"
             ],
             [
              0.5555555555555556,
              "#1f9e89"
             ],
             [
              0.6666666666666666,
              "#35b779"
             ],
             [
              0.7777777777777778,
              "#6ece58"
             ],
             [
              0.8888888888888888,
              "#b5de2b"
             ],
             [
              1,
              "#fde725"
             ]
            ],
            "type": "contour"
           }
          ],
          "contourcarpet": [
           {
            "colorbar": {
             "outlinewidth": 1,
             "tickcolor": "rgb(36,36,36)",
             "ticks": "outside"
            },
            "type": "contourcarpet"
           }
          ],
          "heatmap": [
           {
            "colorbar": {
             "outlinewidth": 1,
             "tickcolor": "rgb(36,36,36)",
             "ticks": "outside"
            },
            "colorscale": [
             [
              0,
              "#440154"
             ],
             [
              0.1111111111111111,
              "#482878"
             ],
             [
              0.2222222222222222,
              "#3e4989"
             ],
             [
              0.3333333333333333,
              "#31688e"
             ],
             [
              0.4444444444444444,
              "#26828e"
             ],
             [
              0.5555555555555556,
              "#1f9e89"
             ],
             [
              0.6666666666666666,
              "#35b779"
             ],
             [
              0.7777777777777778,
              "#6ece58"
             ],
             [
              0.8888888888888888,
              "#b5de2b"
             ],
             [
              1,
              "#fde725"
             ]
            ],
            "type": "heatmap"
           }
          ],
          "heatmapgl": [
           {
            "colorbar": {
             "outlinewidth": 1,
             "tickcolor": "rgb(36,36,36)",
             "ticks": "outside"
            },
            "colorscale": [
             [
              0,
              "#440154"
             ],
             [
              0.1111111111111111,
              "#482878"
             ],
             [
              0.2222222222222222,
              "#3e4989"
             ],
             [
              0.3333333333333333,
              "#31688e"
             ],
             [
              0.4444444444444444,
              "#26828e"
             ],
             [
              0.5555555555555556,
              "#1f9e89"
             ],
             [
              0.6666666666666666,
              "#35b779"
             ],
             [
              0.7777777777777778,
              "#6ece58"
             ],
             [
              0.8888888888888888,
              "#b5de2b"
             ],
             [
              1,
              "#fde725"
             ]
            ],
            "type": "heatmapgl"
           }
          ],
          "histogram": [
           {
            "marker": {
             "line": {
              "color": "white",
              "width": 0.6
             }
            },
            "type": "histogram"
           }
          ],
          "histogram2d": [
           {
            "colorbar": {
             "outlinewidth": 1,
             "tickcolor": "rgb(36,36,36)",
             "ticks": "outside"
            },
            "colorscale": [
             [
              0,
              "#440154"
             ],
             [
              0.1111111111111111,
              "#482878"
             ],
             [
              0.2222222222222222,
              "#3e4989"
             ],
             [
              0.3333333333333333,
              "#31688e"
             ],
             [
              0.4444444444444444,
              "#26828e"
             ],
             [
              0.5555555555555556,
              "#1f9e89"
             ],
             [
              0.6666666666666666,
              "#35b779"
             ],
             [
              0.7777777777777778,
              "#6ece58"
             ],
             [
              0.8888888888888888,
              "#b5de2b"
             ],
             [
              1,
              "#fde725"
             ]
            ],
            "type": "histogram2d"
           }
          ],
          "histogram2dcontour": [
           {
            "colorbar": {
             "outlinewidth": 1,
             "tickcolor": "rgb(36,36,36)",
             "ticks": "outside"
            },
            "colorscale": [
             [
              0,
              "#440154"
             ],
             [
              0.1111111111111111,
              "#482878"
             ],
             [
              0.2222222222222222,
              "#3e4989"
             ],
             [
              0.3333333333333333,
              "#31688e"
             ],
             [
              0.4444444444444444,
              "#26828e"
             ],
             [
              0.5555555555555556,
              "#1f9e89"
             ],
             [
              0.6666666666666666,
              "#35b779"
             ],
             [
              0.7777777777777778,
              "#6ece58"
             ],
             [
              0.8888888888888888,
              "#b5de2b"
             ],
             [
              1,
              "#fde725"
             ]
            ],
            "type": "histogram2dcontour"
           }
          ],
          "mesh3d": [
           {
            "colorbar": {
             "outlinewidth": 1,
             "tickcolor": "rgb(36,36,36)",
             "ticks": "outside"
            },
            "type": "mesh3d"
           }
          ],
          "parcoords": [
           {
            "line": {
             "colorbar": {
              "outlinewidth": 1,
              "tickcolor": "rgb(36,36,36)",
              "ticks": "outside"
             }
            },
            "type": "parcoords"
           }
          ],
          "pie": [
           {
            "automargin": true,
            "type": "pie"
           }
          ],
          "scatter": [
           {
            "fillpattern": {
             "fillmode": "overlay",
             "size": 10,
             "solidity": 0.2
            },
            "type": "scatter"
           }
          ],
          "scatter3d": [
           {
            "line": {
             "colorbar": {
              "outlinewidth": 1,
              "tickcolor": "rgb(36,36,36)",
              "ticks": "outside"
             }
            },
            "marker": {
             "colorbar": {
              "outlinewidth": 1,
              "tickcolor": "rgb(36,36,36)",
              "ticks": "outside"
             }
            },
            "type": "scatter3d"
           }
          ],
          "scattercarpet": [
           {
            "marker": {
             "colorbar": {
              "outlinewidth": 1,
              "tickcolor": "rgb(36,36,36)",
              "ticks": "outside"
             }
            },
            "type": "scattercarpet"
           }
          ],
          "scattergeo": [
           {
            "marker": {
             "colorbar": {
              "outlinewidth": 1,
              "tickcolor": "rgb(36,36,36)",
              "ticks": "outside"
             }
            },
            "type": "scattergeo"
           }
          ],
          "scattergl": [
           {
            "marker": {
             "colorbar": {
              "outlinewidth": 1,
              "tickcolor": "rgb(36,36,36)",
              "ticks": "outside"
             }
            },
            "type": "scattergl"
           }
          ],
          "scattermapbox": [
           {
            "marker": {
             "colorbar": {
              "outlinewidth": 1,
              "tickcolor": "rgb(36,36,36)",
              "ticks": "outside"
             }
            },
            "type": "scattermapbox"
           }
          ],
          "scatterpolar": [
           {
            "marker": {
             "colorbar": {
              "outlinewidth": 1,
              "tickcolor": "rgb(36,36,36)",
              "ticks": "outside"
             }
            },
            "type": "scatterpolar"
           }
          ],
          "scatterpolargl": [
           {
            "marker": {
             "colorbar": {
              "outlinewidth": 1,
              "tickcolor": "rgb(36,36,36)",
              "ticks": "outside"
             }
            },
            "type": "scatterpolargl"
           }
          ],
          "scatterternary": [
           {
            "marker": {
             "colorbar": {
              "outlinewidth": 1,
              "tickcolor": "rgb(36,36,36)",
              "ticks": "outside"
             }
            },
            "type": "scatterternary"
           }
          ],
          "surface": [
           {
            "colorbar": {
             "outlinewidth": 1,
             "tickcolor": "rgb(36,36,36)",
             "ticks": "outside"
            },
            "colorscale": [
             [
              0,
              "#440154"
             ],
             [
              0.1111111111111111,
              "#482878"
             ],
             [
              0.2222222222222222,
              "#3e4989"
             ],
             [
              0.3333333333333333,
              "#31688e"
             ],
             [
              0.4444444444444444,
              "#26828e"
             ],
             [
              0.5555555555555556,
              "#1f9e89"
             ],
             [
              0.6666666666666666,
              "#35b779"
             ],
             [
              0.7777777777777778,
              "#6ece58"
             ],
             [
              0.8888888888888888,
              "#b5de2b"
             ],
             [
              1,
              "#fde725"
             ]
            ],
            "type": "surface"
           }
          ],
          "table": [
           {
            "cells": {
             "fill": {
              "color": "rgb(237,237,237)"
             },
             "line": {
              "color": "white"
             }
            },
            "header": {
             "fill": {
              "color": "rgb(217,217,217)"
             },
             "line": {
              "color": "white"
             }
            },
            "type": "table"
           }
          ]
         },
         "layout": {
          "annotationdefaults": {
           "arrowhead": 0,
           "arrowwidth": 1
          },
          "autotypenumbers": "strict",
          "coloraxis": {
           "colorbar": {
            "outlinewidth": 1,
            "tickcolor": "rgb(36,36,36)",
            "ticks": "outside"
           }
          },
          "colorscale": {
           "diverging": [
            [
             0,
             "rgb(103,0,31)"
            ],
            [
             0.1,
             "rgb(178,24,43)"
            ],
            [
             0.2,
             "rgb(214,96,77)"
            ],
            [
             0.3,
             "rgb(244,165,130)"
            ],
            [
             0.4,
             "rgb(253,219,199)"
            ],
            [
             0.5,
             "rgb(247,247,247)"
            ],
            [
             0.6,
             "rgb(209,229,240)"
            ],
            [
             0.7,
             "rgb(146,197,222)"
            ],
            [
             0.8,
             "rgb(67,147,195)"
            ],
            [
             0.9,
             "rgb(33,102,172)"
            ],
            [
             1,
             "rgb(5,48,97)"
            ]
           ],
           "sequential": [
            [
             0,
             "#440154"
            ],
            [
             0.1111111111111111,
             "#482878"
            ],
            [
             0.2222222222222222,
             "#3e4989"
            ],
            [
             0.3333333333333333,
             "#31688e"
            ],
            [
             0.4444444444444444,
             "#26828e"
            ],
            [
             0.5555555555555556,
             "#1f9e89"
            ],
            [
             0.6666666666666666,
             "#35b779"
            ],
            [
             0.7777777777777778,
             "#6ece58"
            ],
            [
             0.8888888888888888,
             "#b5de2b"
            ],
            [
             1,
             "#fde725"
            ]
           ],
           "sequentialminus": [
            [
             0,
             "#440154"
            ],
            [
             0.1111111111111111,
             "#482878"
            ],
            [
             0.2222222222222222,
             "#3e4989"
            ],
            [
             0.3333333333333333,
             "#31688e"
            ],
            [
             0.4444444444444444,
             "#26828e"
            ],
            [
             0.5555555555555556,
             "#1f9e89"
            ],
            [
             0.6666666666666666,
             "#35b779"
            ],
            [
             0.7777777777777778,
             "#6ece58"
            ],
            [
             0.8888888888888888,
             "#b5de2b"
            ],
            [
             1,
             "#fde725"
            ]
           ]
          },
          "colorway": [
           "#1F77B4",
           "#FF7F0E",
           "#2CA02C",
           "#D62728",
           "#9467BD",
           "#8C564B",
           "#E377C2",
           "#7F7F7F",
           "#BCBD22",
           "#17BECF"
          ],
          "font": {
           "color": "rgb(36,36,36)"
          },
          "geo": {
           "bgcolor": "white",
           "lakecolor": "white",
           "landcolor": "white",
           "showlakes": true,
           "showland": true,
           "subunitcolor": "white"
          },
          "hoverlabel": {
           "align": "left"
          },
          "hovermode": "closest",
          "mapbox": {
           "style": "light"
          },
          "paper_bgcolor": "white",
          "plot_bgcolor": "white",
          "polar": {
           "angularaxis": {
            "gridcolor": "rgb(232,232,232)",
            "linecolor": "rgb(36,36,36)",
            "showgrid": false,
            "showline": true,
            "ticks": "outside"
           },
           "bgcolor": "white",
           "radialaxis": {
            "gridcolor": "rgb(232,232,232)",
            "linecolor": "rgb(36,36,36)",
            "showgrid": false,
            "showline": true,
            "ticks": "outside"
           }
          },
          "scene": {
           "xaxis": {
            "backgroundcolor": "white",
            "gridcolor": "rgb(232,232,232)",
            "gridwidth": 2,
            "linecolor": "rgb(36,36,36)",
            "showbackground": true,
            "showgrid": false,
            "showline": true,
            "ticks": "outside",
            "zeroline": false,
            "zerolinecolor": "rgb(36,36,36)"
           },
           "yaxis": {
            "backgroundcolor": "white",
            "gridcolor": "rgb(232,232,232)",
            "gridwidth": 2,
            "linecolor": "rgb(36,36,36)",
            "showbackground": true,
            "showgrid": false,
            "showline": true,
            "ticks": "outside",
            "zeroline": false,
            "zerolinecolor": "rgb(36,36,36)"
           },
           "zaxis": {
            "backgroundcolor": "white",
            "gridcolor": "rgb(232,232,232)",
            "gridwidth": 2,
            "linecolor": "rgb(36,36,36)",
            "showbackground": true,
            "showgrid": false,
            "showline": true,
            "ticks": "outside",
            "zeroline": false,
            "zerolinecolor": "rgb(36,36,36)"
           }
          },
          "shapedefaults": {
           "fillcolor": "black",
           "line": {
            "width": 0
           },
           "opacity": 0.3
          },
          "ternary": {
           "aaxis": {
            "gridcolor": "rgb(232,232,232)",
            "linecolor": "rgb(36,36,36)",
            "showgrid": false,
            "showline": true,
            "ticks": "outside"
           },
           "baxis": {
            "gridcolor": "rgb(232,232,232)",
            "linecolor": "rgb(36,36,36)",
            "showgrid": false,
            "showline": true,
            "ticks": "outside"
           },
           "bgcolor": "white",
           "caxis": {
            "gridcolor": "rgb(232,232,232)",
            "linecolor": "rgb(36,36,36)",
            "showgrid": false,
            "showline": true,
            "ticks": "outside"
           }
          },
          "title": {
           "x": 0.05
          },
          "xaxis": {
           "automargin": true,
           "gridcolor": "rgb(232,232,232)",
           "linecolor": "rgb(36,36,36)",
           "showgrid": false,
           "showline": true,
           "ticks": "outside",
           "title": {
            "standoff": 15
           },
           "zeroline": false,
           "zerolinecolor": "rgb(36,36,36)"
          },
          "yaxis": {
           "automargin": true,
           "gridcolor": "rgb(232,232,232)",
           "linecolor": "rgb(36,36,36)",
           "showgrid": false,
           "showline": true,
           "ticks": "outside",
           "title": {
            "standoff": 15
           },
           "zeroline": false,
           "zerolinecolor": "rgb(36,36,36)"
          }
         }
        },
        "title": {
         "text": "Housing Distribuition"
        },
        "width": 1000,
        "xaxis": {
         "showgrid": false,
         "showline": false,
         "title": {
          "text": "Housing Type"
         },
         "zeroline": false
        },
        "yaxis": {
         "showgrid": false,
         "showline": false,
         "title": {
          "text": "Count"
         },
         "zeroline": false
        }
       }
      }
     },
     "metadata": {},
     "output_type": "display_data"
    }
   ],
   "source": [
    "#First plot\n",
    "trace0 = go.Bar(\n",
    "    x = df_credit[df_credit[\"Risk\"]== 'good'][\"Housing\"].value_counts().index.values,\n",
    "    y = df_credit[df_credit[\"Risk\"]== 'good'][\"Housing\"].value_counts().values,\n",
    "    name='Good credit',\n",
    "    marker=dict(\n",
    "        color='blue' # blue color\n",
    "    )\n",
    ")\n",
    "\n",
    "#Second plot\n",
    "trace1 = go.Bar(\n",
    "    x = df_credit[df_credit[\"Risk\"]== 'bad'][\"Housing\"].value_counts().index.values,\n",
    "    y = df_credit[df_credit[\"Risk\"]== 'bad'][\"Housing\"].value_counts().values,\n",
    "    name=\"Bad Credit\",\n",
    "    marker=dict(\n",
    "        color='red' # red color\n",
    "    )\n",
    ")\n",
    "\n",
    "data = [trace0, trace1]\n",
    "\n",
    "layout = go.Layout(\n",
    "    title='Housing Distribuition',\n",
    "    width=1000,\n",
    "    height=500,\n",
    "    template=\"simple_white\",\n",
    "    xaxis=dict(\n",
    "        title='Housing Type',\n",
    "        showgrid=False,\n",
    "        zeroline=False,\n",
    "        showline=False\n",
    "    ),\n",
    "    yaxis=dict(\n",
    "        title='Count',\n",
    "        showgrid=False,\n",
    "        zeroline=False,\n",
    "        showline=False\n",
    "    ),\n",
    "    font=dict(\n",
    "        family='Arial, sans-serif',\n",
    "        size=14,\n",
    "        color='black'\n",
    "    )\n",
    ")\n",
    "\n",
    "fig = go.Figure(data=data, layout=layout)\n",
    "fig.show()\n"
   ]
  },
  {
   "cell_type": "code",
   "execution_count": 11,
   "metadata": {},
   "outputs": [
    {
     "data": {
      "application/vnd.plotly.v1+json": {
       "config": {
        "plotlyServerURL": "https://plot.ly"
       },
       "data": [
        {
         "marker": {
          "color": "blue"
         },
         "name": "Good Credit",
         "nbinsx": 50,
         "type": "histogram",
         "x": [
          1169,
          2096,
          7882,
          9055,
          2835,
          6948,
          3059,
          1567,
          1403,
          2424,
          8072,
          3430,
          2134,
          2647,
          2241,
          1804,
          2069,
          1374,
          426,
          409,
          2415,
          1913,
          4020,
          5866,
          1264,
          1474,
          6110,
          1225,
          458,
          2333,
          1158,
          6204,
          6187,
          1393,
          2299,
          1352,
          7228,
          2073,
          2333,
          5965,
          1262,
          3378,
          783,
          9566,
          1961,
          1391,
          1537,
          3181,
          5190,
          2171,
          1007,
          2394,
          8133,
          730,
          1164,
          5954,
          1526,
          4771,
          9436,
          3832,
          1213,
          1568,
          1755,
          2315,
          1412,
          1295,
          2249,
          618,
          1409,
          3617,
          1318,
          2012,
          2622,
          2337,
          7057,
          1469,
          2323,
          932,
          1919,
          2445,
          6078,
          7721,
          1410,
          1449,
          392,
          6260,
          1680,
          3578,
          2132,
          2366,
          3868,
          1768,
          781,
          2121,
          701,
          1860,
          8487,
          2708,
          1984,
          10144,
          1240,
          8613,
          2728,
          1881,
          709,
          4795,
          3416,
          2288,
          3566,
          860,
          682,
          5371,
          1582,
          1346,
          1924,
          5848,
          7758,
          6967,
          1288,
          339,
          3512,
          1898,
          2872,
          1055,
          1262,
          7308,
          909,
          2978,
          1577,
          3972,
          763,
          1414,
          2577,
          338,
          1963,
          571,
          3777,
          1360,
          1175,
          3244,
          2108,
          1382,
          2760,
          936,
          1168,
          5117,
          1495,
          10623,
          1935,
          1424,
          6568,
          1413,
          3074,
          3835,
          3342,
          932,
          3104,
          3913,
          3021,
          1364,
          625,
          1200,
          707,
          2978,
          4657,
          2613,
          3149,
          2507,
          2141,
          866,
          1544,
          1291,
          2522,
          1595,
          1185,
          3447,
          1258,
          717,
          1204,
          1925,
          666,
          2251,
          4151,
          2030,
          7418,
          2684,
          3812,
          1154,
          1657,
          1603,
          5302,
          2748,
          1231,
          6304,
          1533,
          999,
          2662,
          1402,
          12169,
          2697,
          2404,
          1262,
          1901,
          3368,
          1574,
          1445,
          1520,
          3878,
          10722,
          4788,
          7582,
          1092,
          1076,
          6419,
          4796,
          7629,
          4675,
          1287,
          2515,
          2745,
          672,
          1038,
          1543,
          4811,
          276,
          5381,
          5511,
          3749,
          1494,
          708,
          4351,
          701,
          3643,
          2910,
          2659,
          1028,
          3398,
          5801,
          1525,
          4473,
          1068,
          6615,
          2101,
          4169,
          1521,
          5743,
          3599,
          3213,
          4439,
          3949,
          1459,
          882,
          3758,
          1743,
          1236,
          3229,
          727,
          2331,
          776,
          1239,
          3399,
          2247,
          1766,
          1542,
          3850,
          3650,
          3001,
          3079,
          6070,
          2146,
          13756,
          2320,
          846,
          362,
          2212,
          1283,
          1330,
          4272,
          2238,
          1126,
          7374,
          2326,
          1449,
          1820,
          983,
          3249,
          1957,
          2406,
          11760,
          2578,
          2348,
          1516,
          1473,
          1887,
          802,
          2899,
          2197,
          1053,
          3235,
          1967,
          7253,
          1597,
          5842,
          8471,
          2782,
          3186,
          2028,
          958,
          1591,
          2779,
          2743,
          1149,
          1313,
          3448,
          1872,
          2058,
          2136,
          660,
          1287,
          3394,
          1884,
          1620,
          2629,
          1244,
          2576,
          1424,
          11054,
          518,
          2759,
          2670,
          2679,
          3905,
          343,
          4594,
          3620,
          1721,
          3017,
          754,
          1950,
          2924,
          7238,
          2764,
          4679,
          1238,
          2569,
          5152,
          1037,
          1478,
          3573,
          1201,
          3622,
          960,
          1163,
          3077,
          3757,
          1418,
          3518,
          1934,
          1237,
          368,
          2122,
          1585,
          1301,
          1323,
          5493,
          1126,
          2360,
          1413,
          8588,
          4686,
          2687,
          585,
          2255,
          609,
          1361,
          1203,
          700,
          5507,
          3488,
          1113,
          7966,
          1532,
          1503,
          662,
          2273,
          1503,
          1311,
          3105,
          1374,
          3612,
          3049,
          2032,
          1255,
          2022,
          1552,
          8858,
          996,
          1750,
          1995,
          1199,
          2964,
          683,
          4712,
          1553,
          2578,
          3979,
          5954,
          5433,
          806,
          1082,
          2788,
          2930,
          1927,
          937,
          3124,
          1388,
          2133,
          2799,
          1289,
          385,
          1965,
          1572,
          3863,
          2329,
          1275,
          2828,
          4526,
          2051,
          1300,
          3357,
          3632,
          12204,
          9157,
          3676,
          640,
          3652,
          1858,
          1979,
          2116,
          4042,
          3832,
          3660,
          1444,
          1393,
          1376,
          15653,
          1493,
          1308,
          1851,
          1880,
          4583,
          7476,
          2346,
          3973,
          10222,
          4221,
          6361,
          1297,
          2241,
          1050,
          1047,
          6314,
          3496,
          3609,
          3017,
          4139,
          5742,
          10366,
          2080,
          4530,
          5150,
          2384,
          1453,
          1538,
          2279,
          1478,
          5103,
          9857,
          6527,
          1347,
          2862,
          2753,
          3651,
          975,
          2631,
          2896,
          4716,
          2284,
          1236,
          1103,
          926,
          1800,
          1905,
          1377,
          2503,
          2528,
          5324,
          1206,
          2118,
          629,
          2476,
          1138,
          7596,
          3077,
          1505,
          3148,
          6148,
          790,
          250,
          1316,
          1275,
          6403,
          760,
          2603,
          3380,
          3990,
          4380,
          6761,
          2325,
          1048,
          3160,
          2483,
          14179,
          1797,
          2511,
          5248,
          3029,
          428,
          841,
          5771,
          1299,
          1393,
          5045,
          2214,
          2463,
          1155,
          2901,
          3617,
          1655,
          2812,
          3275,
          2223,
          1480,
          3535,
          3509,
          5711,
          3872,
          1940,
          1410,
          6468,
          1941,
          2675,
          2751,
          6313,
          1221,
          2892,
          3062,
          2301,
          1258,
          717,
          1549,
          1597,
          1795,
          4272,
          976,
          7472,
          590,
          930,
          9283,
          907,
          484,
          7432,
          1338,
          1554,
          15857,
          1101,
          3016,
          731,
          3780,
          1602,
          6681,
          2375,
          5084,
          886,
          601,
          2957,
          2611,
          2993,
          1559,
          3422,
          3976,
          1249,
          1364,
          4042,
          1471,
          10875,
          1474,
          894,
          3343,
          3577,
          5804,
          4526,
          2221,
          2389,
          3331,
          7409,
          652,
          7678,
          1343,
          1382,
          874,
          3590,
          1322,
          1940,
          3595,
          6742,
          7814,
          9277,
          2181,
          1098,
          2825,
          6614,
          7824,
          2442,
          1829,
          2171,
          5800,
          1169,
          8947,
          2606,
          1592,
          2186,
          3485,
          10477,
          1386,
          1278,
          1107,
          3763,
          3711,
          3594,
          3195,
          4454,
          2991,
          2142,
          2848,
          1817,
          12749,
          2002,
          1049,
          1867,
          1344,
          1747,
          1224,
          522,
          1498,
          2063,
          6842,
          3527,
          1546,
          929,
          1455,
          1845,
          8358,
          2859,
          3590,
          1893,
          1231,
          3656,
          1154,
          3069,
          1740,
          2353,
          3556,
          454,
          1715,
          3568,
          7166,
          3939,
          1514,
          7393,
          2831,
          1258,
          753,
          2427,
          2923,
          2028,
          1433,
          6289,
          1409,
          6579,
          1743,
          3565,
          1569,
          1936,
          3959,
          2390,
          1736,
          3857,
          804,
          4576
         ]
        },
        {
         "marker": {
          "color": "red"
         },
         "name": "Bad Credit",
         "nbinsx": 50,
         "type": "histogram",
         "x": [
          5951,
          4870,
          5234,
          1295,
          4308,
          1199,
          1282,
          12579,
          6836,
          4746,
          2100,
          6143,
          2225,
          6468,
          6229,
          1953,
          14421,
          1819,
          1977,
          3965,
          5943,
          12612,
          1108,
          797,
          15945,
          11938,
          6458,
          7855,
          7174,
          4281,
          1835,
          1924,
          639,
          3499,
          6887,
          766,
          2462,
          1282,
          1131,
          1935,
          950,
          2064,
          3414,
          7485,
          9572,
          4455,
          1647,
          884,
          5129,
          674,
          4591,
          3844,
          3915,
          3031,
          1501,
          951,
          4297,
          902,
          5293,
          1908,
          10961,
          7865,
          1478,
          4210,
          1823,
          14555,
          2767,
          915,
          4605,
          433,
          2150,
          2149,
          802,
          8978,
          3060,
          11998,
          4611,
          1024,
          9398,
          9960,
          3804,
          1344,
          10127,
          727,
          1237,
          685,
          2746,
          4249,
          1938,
          1864,
          7408,
          11590,
          4110,
          3384,
          1275,
          1136,
          959,
          6199,
          1246,
          4463,
          2406,
          2473,
          3446,
          14782,
          7685,
          14318,
          12976,
          1223,
          8648,
          2039,
          939,
          2292,
          1381,
          2579,
          1042,
          2762,
          1190,
          11328,
          1484,
          609,
          719,
          5096,
          1842,
          1512,
          4817,
          3386,
          1659,
          3092,
          448,
          654,
          1245,
          3114,
          1209,
          8318,
          2996,
          9034,
          3123,
          1216,
          1207,
          1309,
          6850,
          759,
          7127,
          3190,
          7119,
          2302,
          2631,
          2319,
          7763,
          1534,
          6350,
          2864,
          1333,
          626,
          6999,
          1331,
          2278,
          5003,
          3552,
          1928,
          1546,
          12389,
          1372,
          6758,
          3234,
          2820,
          1056,
          2384,
          2039,
          1217,
          2246,
          2718,
          1358,
          931,
          1442,
          4241,
          2775,
          918,
          1837,
          3349,
          2671,
          741,
          1240,
          1808,
          3441,
          1530,
          3914,
          2600,
          1437,
          1553,
          1980,
          1355,
          4370,
          750,
          4623,
          7980,
          1386,
          947,
          684,
          1922,
          2303,
          8086,
          888,
          900,
          4843,
          2580,
          5595,
          1123,
          6331,
          6560,
          2969,
          1198,
          14027,
          1337,
          433,
          1228,
          2570,
          1882,
          6416,
          1987,
          11560,
          4280,
          1274,
          976,
          1555,
          1285,
          1271,
          691,
          2124,
          12680,
          3108,
          8065,
          1371,
          4933,
          836,
          6224,
          5998,
          1188,
          7511,
          9271,
          1778,
          9629,
          3051,
          3931,
          1345,
          2712,
          3966,
          4165,
          8335,
          1216,
          11816,
          2327,
          1082,
          5179,
          1943,
          6761,
          709,
          2235,
          1442,
          3959,
          2169,
          2439,
          2210,
          1422,
          4057,
          795,
          15672,
          4153,
          2625,
          4736,
          3161,
          18424,
          14896,
          2359,
          3345,
          1366,
          6872,
          697,
          10297,
          1670,
          1919,
          745,
          6288,
          3349,
          1533,
          3621,
          2145,
          4113,
          10974,
          4006,
          2397,
          2520,
          1193,
          7297,
          2538,
          1264,
          8386,
          4844,
          8229,
          1845
         ]
        }
       ],
       "layout": {
        "template": {
         "data": {
          "bar": [
           {
            "error_x": {
             "color": "rgb(36,36,36)"
            },
            "error_y": {
             "color": "rgb(36,36,36)"
            },
            "marker": {
             "line": {
              "color": "white",
              "width": 0.5
             },
             "pattern": {
              "fillmode": "overlay",
              "size": 10,
              "solidity": 0.2
             }
            },
            "type": "bar"
           }
          ],
          "barpolar": [
           {
            "marker": {
             "line": {
              "color": "white",
              "width": 0.5
             },
             "pattern": {
              "fillmode": "overlay",
              "size": 10,
              "solidity": 0.2
             }
            },
            "type": "barpolar"
           }
          ],
          "carpet": [
           {
            "aaxis": {
             "endlinecolor": "rgb(36,36,36)",
             "gridcolor": "white",
             "linecolor": "white",
             "minorgridcolor": "white",
             "startlinecolor": "rgb(36,36,36)"
            },
            "baxis": {
             "endlinecolor": "rgb(36,36,36)",
             "gridcolor": "white",
             "linecolor": "white",
             "minorgridcolor": "white",
             "startlinecolor": "rgb(36,36,36)"
            },
            "type": "carpet"
           }
          ],
          "choropleth": [
           {
            "colorbar": {
             "outlinewidth": 1,
             "tickcolor": "rgb(36,36,36)",
             "ticks": "outside"
            },
            "type": "choropleth"
           }
          ],
          "contour": [
           {
            "colorbar": {
             "outlinewidth": 1,
             "tickcolor": "rgb(36,36,36)",
             "ticks": "outside"
            },
            "colorscale": [
             [
              0,
              "#440154"
             ],
             [
              0.1111111111111111,
              "#482878"
             ],
             [
              0.2222222222222222,
              "#3e4989"
             ],
             [
              0.3333333333333333,
              "#31688e"
             ],
             [
              0.4444444444444444,
              "#26828e"
             ],
             [
              0.5555555555555556,
              "#1f9e89"
             ],
             [
              0.6666666666666666,
              "#35b779"
             ],
             [
              0.7777777777777778,
              "#6ece58"
             ],
             [
              0.8888888888888888,
              "#b5de2b"
             ],
             [
              1,
              "#fde725"
             ]
            ],
            "type": "contour"
           }
          ],
          "contourcarpet": [
           {
            "colorbar": {
             "outlinewidth": 1,
             "tickcolor": "rgb(36,36,36)",
             "ticks": "outside"
            },
            "type": "contourcarpet"
           }
          ],
          "heatmap": [
           {
            "colorbar": {
             "outlinewidth": 1,
             "tickcolor": "rgb(36,36,36)",
             "ticks": "outside"
            },
            "colorscale": [
             [
              0,
              "#440154"
             ],
             [
              0.1111111111111111,
              "#482878"
             ],
             [
              0.2222222222222222,
              "#3e4989"
             ],
             [
              0.3333333333333333,
              "#31688e"
             ],
             [
              0.4444444444444444,
              "#26828e"
             ],
             [
              0.5555555555555556,
              "#1f9e89"
             ],
             [
              0.6666666666666666,
              "#35b779"
             ],
             [
              0.7777777777777778,
              "#6ece58"
             ],
             [
              0.8888888888888888,
              "#b5de2b"
             ],
             [
              1,
              "#fde725"
             ]
            ],
            "type": "heatmap"
           }
          ],
          "heatmapgl": [
           {
            "colorbar": {
             "outlinewidth": 1,
             "tickcolor": "rgb(36,36,36)",
             "ticks": "outside"
            },
            "colorscale": [
             [
              0,
              "#440154"
             ],
             [
              0.1111111111111111,
              "#482878"
             ],
             [
              0.2222222222222222,
              "#3e4989"
             ],
             [
              0.3333333333333333,
              "#31688e"
             ],
             [
              0.4444444444444444,
              "#26828e"
             ],
             [
              0.5555555555555556,
              "#1f9e89"
             ],
             [
              0.6666666666666666,
              "#35b779"
             ],
             [
              0.7777777777777778,
              "#6ece58"
             ],
             [
              0.8888888888888888,
              "#b5de2b"
             ],
             [
              1,
              "#fde725"
             ]
            ],
            "type": "heatmapgl"
           }
          ],
          "histogram": [
           {
            "marker": {
             "line": {
              "color": "white",
              "width": 0.6
             }
            },
            "type": "histogram"
           }
          ],
          "histogram2d": [
           {
            "colorbar": {
             "outlinewidth": 1,
             "tickcolor": "rgb(36,36,36)",
             "ticks": "outside"
            },
            "colorscale": [
             [
              0,
              "#440154"
             ],
             [
              0.1111111111111111,
              "#482878"
             ],
             [
              0.2222222222222222,
              "#3e4989"
             ],
             [
              0.3333333333333333,
              "#31688e"
             ],
             [
              0.4444444444444444,
              "#26828e"
             ],
             [
              0.5555555555555556,
              "#1f9e89"
             ],
             [
              0.6666666666666666,
              "#35b779"
             ],
             [
              0.7777777777777778,
              "#6ece58"
             ],
             [
              0.8888888888888888,
              "#b5de2b"
             ],
             [
              1,
              "#fde725"
             ]
            ],
            "type": "histogram2d"
           }
          ],
          "histogram2dcontour": [
           {
            "colorbar": {
             "outlinewidth": 1,
             "tickcolor": "rgb(36,36,36)",
             "ticks": "outside"
            },
            "colorscale": [
             [
              0,
              "#440154"
             ],
             [
              0.1111111111111111,
              "#482878"
             ],
             [
              0.2222222222222222,
              "#3e4989"
             ],
             [
              0.3333333333333333,
              "#31688e"
             ],
             [
              0.4444444444444444,
              "#26828e"
             ],
             [
              0.5555555555555556,
              "#1f9e89"
             ],
             [
              0.6666666666666666,
              "#35b779"
             ],
             [
              0.7777777777777778,
              "#6ece58"
             ],
             [
              0.8888888888888888,
              "#b5de2b"
             ],
             [
              1,
              "#fde725"
             ]
            ],
            "type": "histogram2dcontour"
           }
          ],
          "mesh3d": [
           {
            "colorbar": {
             "outlinewidth": 1,
             "tickcolor": "rgb(36,36,36)",
             "ticks": "outside"
            },
            "type": "mesh3d"
           }
          ],
          "parcoords": [
           {
            "line": {
             "colorbar": {
              "outlinewidth": 1,
              "tickcolor": "rgb(36,36,36)",
              "ticks": "outside"
             }
            },
            "type": "parcoords"
           }
          ],
          "pie": [
           {
            "automargin": true,
            "type": "pie"
           }
          ],
          "scatter": [
           {
            "fillpattern": {
             "fillmode": "overlay",
             "size": 10,
             "solidity": 0.2
            },
            "type": "scatter"
           }
          ],
          "scatter3d": [
           {
            "line": {
             "colorbar": {
              "outlinewidth": 1,
              "tickcolor": "rgb(36,36,36)",
              "ticks": "outside"
             }
            },
            "marker": {
             "colorbar": {
              "outlinewidth": 1,
              "tickcolor": "rgb(36,36,36)",
              "ticks": "outside"
             }
            },
            "type": "scatter3d"
           }
          ],
          "scattercarpet": [
           {
            "marker": {
             "colorbar": {
              "outlinewidth": 1,
              "tickcolor": "rgb(36,36,36)",
              "ticks": "outside"
             }
            },
            "type": "scattercarpet"
           }
          ],
          "scattergeo": [
           {
            "marker": {
             "colorbar": {
              "outlinewidth": 1,
              "tickcolor": "rgb(36,36,36)",
              "ticks": "outside"
             }
            },
            "type": "scattergeo"
           }
          ],
          "scattergl": [
           {
            "marker": {
             "colorbar": {
              "outlinewidth": 1,
              "tickcolor": "rgb(36,36,36)",
              "ticks": "outside"
             }
            },
            "type": "scattergl"
           }
          ],
          "scattermapbox": [
           {
            "marker": {
             "colorbar": {
              "outlinewidth": 1,
              "tickcolor": "rgb(36,36,36)",
              "ticks": "outside"
             }
            },
            "type": "scattermapbox"
           }
          ],
          "scatterpolar": [
           {
            "marker": {
             "colorbar": {
              "outlinewidth": 1,
              "tickcolor": "rgb(36,36,36)",
              "ticks": "outside"
             }
            },
            "type": "scatterpolar"
           }
          ],
          "scatterpolargl": [
           {
            "marker": {
             "colorbar": {
              "outlinewidth": 1,
              "tickcolor": "rgb(36,36,36)",
              "ticks": "outside"
             }
            },
            "type": "scatterpolargl"
           }
          ],
          "scatterternary": [
           {
            "marker": {
             "colorbar": {
              "outlinewidth": 1,
              "tickcolor": "rgb(36,36,36)",
              "ticks": "outside"
             }
            },
            "type": "scatterternary"
           }
          ],
          "surface": [
           {
            "colorbar": {
             "outlinewidth": 1,
             "tickcolor": "rgb(36,36,36)",
             "ticks": "outside"
            },
            "colorscale": [
             [
              0,
              "#440154"
             ],
             [
              0.1111111111111111,
              "#482878"
             ],
             [
              0.2222222222222222,
              "#3e4989"
             ],
             [
              0.3333333333333333,
              "#31688e"
             ],
             [
              0.4444444444444444,
              "#26828e"
             ],
             [
              0.5555555555555556,
              "#1f9e89"
             ],
             [
              0.6666666666666666,
              "#35b779"
             ],
             [
              0.7777777777777778,
              "#6ece58"
             ],
             [
              0.8888888888888888,
              "#b5de2b"
             ],
             [
              1,
              "#fde725"
             ]
            ],
            "type": "surface"
           }
          ],
          "table": [
           {
            "cells": {
             "fill": {
              "color": "rgb(237,237,237)"
             },
             "line": {
              "color": "white"
             }
            },
            "header": {
             "fill": {
              "color": "rgb(217,217,217)"
             },
             "line": {
              "color": "white"
             }
            },
            "type": "table"
           }
          ]
         },
         "layout": {
          "annotationdefaults": {
           "arrowhead": 0,
           "arrowwidth": 1
          },
          "autotypenumbers": "strict",
          "coloraxis": {
           "colorbar": {
            "outlinewidth": 1,
            "tickcolor": "rgb(36,36,36)",
            "ticks": "outside"
           }
          },
          "colorscale": {
           "diverging": [
            [
             0,
             "rgb(103,0,31)"
            ],
            [
             0.1,
             "rgb(178,24,43)"
            ],
            [
             0.2,
             "rgb(214,96,77)"
            ],
            [
             0.3,
             "rgb(244,165,130)"
            ],
            [
             0.4,
             "rgb(253,219,199)"
            ],
            [
             0.5,
             "rgb(247,247,247)"
            ],
            [
             0.6,
             "rgb(209,229,240)"
            ],
            [
             0.7,
             "rgb(146,197,222)"
            ],
            [
             0.8,
             "rgb(67,147,195)"
            ],
            [
             0.9,
             "rgb(33,102,172)"
            ],
            [
             1,
             "rgb(5,48,97)"
            ]
           ],
           "sequential": [
            [
             0,
             "#440154"
            ],
            [
             0.1111111111111111,
             "#482878"
            ],
            [
             0.2222222222222222,
             "#3e4989"
            ],
            [
             0.3333333333333333,
             "#31688e"
            ],
            [
             0.4444444444444444,
             "#26828e"
            ],
            [
             0.5555555555555556,
             "#1f9e89"
            ],
            [
             0.6666666666666666,
             "#35b779"
            ],
            [
             0.7777777777777778,
             "#6ece58"
            ],
            [
             0.8888888888888888,
             "#b5de2b"
            ],
            [
             1,
             "#fde725"
            ]
           ],
           "sequentialminus": [
            [
             0,
             "#440154"
            ],
            [
             0.1111111111111111,
             "#482878"
            ],
            [
             0.2222222222222222,
             "#3e4989"
            ],
            [
             0.3333333333333333,
             "#31688e"
            ],
            [
             0.4444444444444444,
             "#26828e"
            ],
            [
             0.5555555555555556,
             "#1f9e89"
            ],
            [
             0.6666666666666666,
             "#35b779"
            ],
            [
             0.7777777777777778,
             "#6ece58"
            ],
            [
             0.8888888888888888,
             "#b5de2b"
            ],
            [
             1,
             "#fde725"
            ]
           ]
          },
          "colorway": [
           "#1F77B4",
           "#FF7F0E",
           "#2CA02C",
           "#D62728",
           "#9467BD",
           "#8C564B",
           "#E377C2",
           "#7F7F7F",
           "#BCBD22",
           "#17BECF"
          ],
          "font": {
           "color": "rgb(36,36,36)"
          },
          "geo": {
           "bgcolor": "white",
           "lakecolor": "white",
           "landcolor": "white",
           "showlakes": true,
           "showland": true,
           "subunitcolor": "white"
          },
          "hoverlabel": {
           "align": "left"
          },
          "hovermode": "closest",
          "mapbox": {
           "style": "light"
          },
          "paper_bgcolor": "white",
          "plot_bgcolor": "white",
          "polar": {
           "angularaxis": {
            "gridcolor": "rgb(232,232,232)",
            "linecolor": "rgb(36,36,36)",
            "showgrid": false,
            "showline": true,
            "ticks": "outside"
           },
           "bgcolor": "white",
           "radialaxis": {
            "gridcolor": "rgb(232,232,232)",
            "linecolor": "rgb(36,36,36)",
            "showgrid": false,
            "showline": true,
            "ticks": "outside"
           }
          },
          "scene": {
           "xaxis": {
            "backgroundcolor": "white",
            "gridcolor": "rgb(232,232,232)",
            "gridwidth": 2,
            "linecolor": "rgb(36,36,36)",
            "showbackground": true,
            "showgrid": false,
            "showline": true,
            "ticks": "outside",
            "zeroline": false,
            "zerolinecolor": "rgb(36,36,36)"
           },
           "yaxis": {
            "backgroundcolor": "white",
            "gridcolor": "rgb(232,232,232)",
            "gridwidth": 2,
            "linecolor": "rgb(36,36,36)",
            "showbackground": true,
            "showgrid": false,
            "showline": true,
            "ticks": "outside",
            "zeroline": false,
            "zerolinecolor": "rgb(36,36,36)"
           },
           "zaxis": {
            "backgroundcolor": "white",
            "gridcolor": "rgb(232,232,232)",
            "gridwidth": 2,
            "linecolor": "rgb(36,36,36)",
            "showbackground": true,
            "showgrid": false,
            "showline": true,
            "ticks": "outside",
            "zeroline": false,
            "zerolinecolor": "rgb(36,36,36)"
           }
          },
          "shapedefaults": {
           "fillcolor": "black",
           "line": {
            "width": 0
           },
           "opacity": 0.3
          },
          "ternary": {
           "aaxis": {
            "gridcolor": "rgb(232,232,232)",
            "linecolor": "rgb(36,36,36)",
            "showgrid": false,
            "showline": true,
            "ticks": "outside"
           },
           "baxis": {
            "gridcolor": "rgb(232,232,232)",
            "linecolor": "rgb(36,36,36)",
            "showgrid": false,
            "showline": true,
            "ticks": "outside"
           },
           "bgcolor": "white",
           "caxis": {
            "gridcolor": "rgb(232,232,232)",
            "linecolor": "rgb(36,36,36)",
            "showgrid": false,
            "showline": true,
            "ticks": "outside"
           }
          },
          "title": {
           "x": 0.05
          },
          "xaxis": {
           "automargin": true,
           "gridcolor": "rgb(232,232,232)",
           "linecolor": "rgb(36,36,36)",
           "showgrid": false,
           "showline": true,
           "ticks": "outside",
           "title": {
            "standoff": 15
           },
           "zeroline": false,
           "zerolinecolor": "rgb(36,36,36)"
          },
          "yaxis": {
           "automargin": true,
           "gridcolor": "rgb(232,232,232)",
           "linecolor": "rgb(36,36,36)",
           "showgrid": false,
           "showline": true,
           "ticks": "outside",
           "title": {
            "standoff": 15
           },
           "zeroline": false,
           "zerolinecolor": "rgb(36,36,36)"
          }
         }
        },
        "title": {
         "text": "Credit Amount Frequency Distribution"
        },
        "width": 1000,
        "xaxis": {
         "title": {
          "text": "Credit Amount"
         }
        },
        "yaxis": {
         "title": {
          "text": "Count"
         }
        }
       }
      }
     },
     "metadata": {},
     "output_type": "display_data"
    }
   ],
   "source": [
    "# Create histogram traces\n",
    "trace1 = go.Histogram(x=df_good['Credit amount'], name='Good Credit', marker=dict(color='blue'), nbinsx=50)\n",
    "trace2 = go.Histogram(x=df_bad['Credit amount'], name='Bad Credit', marker=dict(color='red'), nbinsx=50)\n",
    "\n",
    "# Define layout\n",
    "layout = go.Layout(\n",
    "    title='Credit Amount Frequency Distribution',\n",
    "    xaxis=dict(title='Credit Amount'),\n",
    "    yaxis=dict(title='Count'),\n",
    "    width=1000,\n",
    "    template=\"simple_white\"\n",
    ")\n",
    "\n",
    "# Create figure object\n",
    "fig = go.Figure(data=[trace1, trace2], layout=layout)\n",
    "\n",
    "# Display the plot\n",
    "fig.show()\n"
   ]
  },
  {
   "cell_type": "code",
   "execution_count": 12,
   "metadata": {},
   "outputs": [
    {
     "data": {
      "image/png": "[encoded data removed]",
      "text/plain": [
       "<Figure size 1200x1200 with 3 Axes>"
      ]
     },
     "metadata": {},
     "output_type": "display_data"
    }
   ],
   "source": [
    "fig, ax = plt.subplots(3,1, figsize=(12,12))\n",
    "g = sns.countplot(x=\"Saving accounts\", data=df_credit, palette={\"good\": \"blue\", \"bad\": \"red\"}, \n",
    "              ax=ax[0],hue=\"Risk\")\n",
    "g.set_title(\"Saving Accounts Count\", fontsize=15)\n",
    "g.set_xlabel(\"Saving Accounts type\", fontsize=12)\n",
    "g.set_ylabel(\"Count\", fontsize=12)\n",
    "\n",
    "g1 = sns.violinplot(x=\"Saving accounts\", y=\"Job\", data=df_credit, palette={\"good\": \"blue\", \"bad\": \"red\"}, \n",
    "               hue = \"Risk\", ax=ax[1],split=True)\n",
    "g1.set_title(\"Saving Accounts by Job\", fontsize=15)\n",
    "g1.set_xlabel(\"Savings Accounts type\", fontsize=12)\n",
    "g1.set_ylabel(\"Job\", fontsize=12)\n",
    "\n",
    "g2 = sns.boxplot(x=\"Saving accounts\", y=\"Credit amount\", data=df_credit, ax=ax[2],\n",
    "            hue = \"Risk\",palette={\"good\": \"blue\", \"bad\": \"red\"})\n",
    "g2.set_title(\"Saving Accounts by Credit Amount\", fontsize=15)\n",
    "g2.set_xlabel(\"Savings Accounts type\", fontsize=12)\n",
    "g2.set_ylabel(\"Credit Amount(US)\", fontsize=12)\n",
    "\n",
    "plt.subplots_adjust(hspace = 0.4,top = 0.9)\n",
    "\n",
    "plt.show()\n"
   ]
  },
  {
   "cell_type": "code",
   "execution_count": 13,
   "metadata": {},
   "outputs": [
    {
     "data": {
      "application/vnd.plotly.v1+json": {
       "config": {
        "plotlyServerURL": "https://plot.ly"
       },
       "data": [
        {
         "marker": {
          "color": "#636EFA"
         },
         "name": "Good Credit Distribution",
         "type": "bar",
         "x": [
          "moderate",
          "little",
          "rich"
         ],
         "y": [
          164,
          139,
          49
         ]
        },
        {
         "marker": {
          "color": "#EF553B"
         },
         "name": "Bad Credit Distribution",
         "type": "bar",
         "x": [
          "little",
          "moderate",
          "rich"
         ],
         "y": [
          135,
          105,
          14
         ]
        }
       ],
       "layout": {
        "barmode": "group",
        "font": {
         "color": "#7f7f7f",
         "family": "Arial, sans-serif",
         "size": 14
        },
        "template": {
         "data": {
          "bar": [
           {
            "error_x": {
             "color": "rgb(36,36,36)"
            },
            "error_y": {
             "color": "rgb(36,36,36)"
            },
            "marker": {
             "line": {
              "color": "white",
              "width": 0.5
             },
             "pattern": {
              "fillmode": "overlay",
              "size": 10,
              "solidity": 0.2
             }
            },
            "type": "bar"
           }
          ],
          "barpolar": [
           {
            "marker": {
             "line": {
              "color": "white",
              "width": 0.5
             },
             "pattern": {
              "fillmode": "overlay",
              "size": 10,
              "solidity": 0.2
             }
            },
            "type": "barpolar"
           }
          ],
          "carpet": [
           {
            "aaxis": {
             "endlinecolor": "rgb(36,36,36)",
             "gridcolor": "white",
             "linecolor": "white",
             "minorgridcolor": "white",
             "startlinecolor": "rgb(36,36,36)"
            },
            "baxis": {
             "endlinecolor": "rgb(36,36,36)",
             "gridcolor": "white",
             "linecolor": "white",
             "minorgridcolor": "white",
             "startlinecolor": "rgb(36,36,36)"
            },
            "type": "carpet"
           }
          ],
          "choropleth": [
           {
            "colorbar": {
             "outlinewidth": 1,
             "tickcolor": "rgb(36,36,36)",
             "ticks": "outside"
            },
            "type": "choropleth"
           }
          ],
          "contour": [
           {
            "colorbar": {
             "outlinewidth": 1,
             "tickcolor": "rgb(36,36,36)",
             "ticks": "outside"
            },
            "colorscale": [
             [
              0,
              "#440154"
             ],
             [
              0.1111111111111111,
              "#482878"
             ],
             [
              0.2222222222222222,
              "#3e4989"
             ],
             [
              0.3333333333333333,
              "#31688e"
             ],
             [
              0.4444444444444444,
              "#26828e"
             ],
             [
              0.5555555555555556,
              "#1f9e89"
             ],
             [
              0.6666666666666666,
              "#35b779"
             ],
             [
              0.7777777777777778,
              "#6ece58"
             ],
             [
              0.8888888888888888,
              "#b5de2b"
             ],
             [
              1,
              "#fde725"
             ]
            ],
            "type": "contour"
           }
          ],
          "contourcarpet": [
           {
            "colorbar": {
             "outlinewidth": 1,
             "tickcolor": "rgb(36,36,36)",
             "ticks": "outside"
            },
            "type": "contourcarpet"
           }
          ],
          "heatmap": [
           {
            "colorbar": {
             "outlinewidth": 1,
             "tickcolor": "rgb(36,36,36)",
             "ticks": "outside"
            },
            "colorscale": [
             [
              0,
              "#440154"
             ],
             [
              0.1111111111111111,
              "#482878"
             ],
             [
              0.2222222222222222,
              "#3e4989"
             ],
             [
              0.3333333333333333,
              "#31688e"
             ],
             [
              0.4444444444444444,
              "#26828e"
             ],
             [
              0.5555555555555556,
              "#1f9e89"
             ],
             [
              0.6666666666666666,
              "#35b779"
             ],
             [
              0.7777777777777778,
              "#6ece58"
             ],
             [
              0.8888888888888888,
              "#b5de2b"
             ],
             [
              1,
              "#fde725"
             ]
            ],
            "type": "heatmap"
           }
          ],
          "heatmapgl": [
           {
            "colorbar": {
             "outlinewidth": 1,
             "tickcolor": "rgb(36,36,36)",
             "ticks": "outside"
            },
            "colorscale": [
             [
              0,
              "#440154"
             ],
             [
              0.1111111111111111,
              "#482878"
             ],
             [
              0.2222222222222222,
              "#3e4989"
             ],
             [
              0.3333333333333333,
              "#31688e"
             ],
             [
              0.4444444444444444,
              "#26828e"
             ],
             [
              0.5555555555555556,
              "#1f9e89"
             ],
             [
              0.6666666666666666,
              "#35b779"
             ],
             [
              0.7777777777777778,
              "#6ece58"
             ],
             [
              0.8888888888888888,
              "#b5de2b"
             ],
             [
              1,
              "#fde725"
             ]
            ],
            "type": "heatmapgl"
           }
          ],
          "histogram": [
           {
            "marker": {
             "line": {
              "color": "white",
              "width": 0.6
             }
            },
            "type": "histogram"
           }
          ],
          "histogram2d": [
           {
            "colorbar": {
             "outlinewidth": 1,
             "tickcolor": "rgb(36,36,36)",
             "ticks": "outside"
            },
            "colorscale": [
             [
              0,
              "#440154"
             ],
             [
              0.1111111111111111,
              "#482878"
             ],
             [
              0.2222222222222222,
              "#3e4989"
             ],
             [
              0.3333333333333333,
              "#31688e"
             ],
             [
              0.4444444444444444,
              "#26828e"
             ],
             [
              0.5555555555555556,
              "#1f9e89"
             ],
             [
              0.6666666666666666,
              "#35b779"
             ],
             [
              0.7777777777777778,
              "#6ece58"
             ],
             [
              0.8888888888888888,
              "#b5de2b"
             ],
             [
              1,
              "#fde725"
             ]
            ],
            "type": "histogram2d"
           }
          ],
          "histogram2dcontour": [
           {
            "colorbar": {
             "outlinewidth": 1,
             "tickcolor": "rgb(36,36,36)",
             "ticks": "outside"
            },
            "colorscale": [
             [
              0,
              "#440154"
             ],
             [
              0.1111111111111111,
              "#482878"
             ],
             [
              0.2222222222222222,
              "#3e4989"
             ],
             [
              0.3333333333333333,
              "#31688e"
             ],
             [
              0.4444444444444444,
              "#26828e"
             ],
             [
              0.5555555555555556,
              "#1f9e89"
             ],
             [
              0.6666666666666666,
              "#35b779"
             ],
             [
              0.7777777777777778,
              "#6ece58"
             ],
             [
              0.8888888888888888,
              "#b5de2b"
             ],
             [
              1,
              "#fde725"
             ]
            ],
            "type": "histogram2dcontour"
           }
          ],
          "mesh3d": [
           {
            "colorbar": {
             "outlinewidth": 1,
             "tickcolor": "rgb(36,36,36)",
             "ticks": "outside"
            },
            "type": "mesh3d"
           }
          ],
          "parcoords": [
           {
            "line": {
             "colorbar": {
              "outlinewidth": 1,
              "tickcolor": "rgb(36,36,36)",
              "ticks": "outside"
             }
            },
            "type": "parcoords"
           }
          ],
          "pie": [
           {
            "automargin": true,
            "type": "pie"
           }
          ],
          "scatter": [
           {
            "fillpattern": {
             "fillmode": "overlay",
             "size": 10,
             "solidity": 0.2
            },
            "type": "scatter"
           }
          ],
          "scatter3d": [
           {
            "line": {
             "colorbar": {
              "outlinewidth": 1,
              "tickcolor": "rgb(36,36,36)",
              "ticks": "outside"
             }
            },
            "marker": {
             "colorbar": {
              "outlinewidth": 1,
              "tickcolor": "rgb(36,36,36)",
              "ticks": "outside"
             }
            },
            "type": "scatter3d"
           }
          ],
          "scattercarpet": [
           {
            "marker": {
             "colorbar": {
              "outlinewidth": 1,
              "tickcolor": "rgb(36,36,36)",
              "ticks": "outside"
             }
            },
            "type": "scattercarpet"
           }
          ],
          "scattergeo": [
           {
            "marker": {
             "colorbar": {
              "outlinewidth": 1,
              "tickcolor": "rgb(36,36,36)",
              "ticks": "outside"
             }
            },
            "type": "scattergeo"
           }
          ],
          "scattergl": [
           {
            "marker": {
             "colorbar": {
              "outlinewidth": 1,
              "tickcolor": "rgb(36,36,36)",
              "ticks": "outside"
             }
            },
            "type": "scattergl"
           }
          ],
          "scattermapbox": [
           {
            "marker": {
             "colorbar": {
              "outlinewidth": 1,
              "tickcolor": "rgb(36,36,36)",
              "ticks": "outside"
             }
            },
            "type": "scattermapbox"
           }
          ],
          "scatterpolar": [
           {
            "marker": {
             "colorbar": {
              "outlinewidth": 1,
              "tickcolor": "rgb(36,36,36)",
              "ticks": "outside"
             }
            },
            "type": "scatterpolar"
           }
          ],
          "scatterpolargl": [
           {
            "marker": {
             "colorbar": {
              "outlinewidth": 1,
              "tickcolor": "rgb(36,36,36)",
              "ticks": "outside"
             }
            },
            "type": "scatterpolargl"
           }
          ],
          "scatterternary": [
           {
            "marker": {
             "colorbar": {
              "outlinewidth": 1,
              "tickcolor": "rgb(36,36,36)",
              "ticks": "outside"
             }
            },
            "type": "scatterternary"
           }
          ],
          "surface": [
           {
            "colorbar": {
             "outlinewidth": 1,
             "tickcolor": "rgb(36,36,36)",
             "ticks": "outside"
            },
            "colorscale": [
             [
              0,
              "#440154"
             ],
             [
              0.1111111111111111,
              "#482878"
             ],
             [
              0.2222222222222222,
              "#3e4989"
             ],
             [
              0.3333333333333333,
              "#31688e"
             ],
             [
              0.4444444444444444,
              "#26828e"
             ],
             [
              0.5555555555555556,
              "#1f9e89"
             ],
             [
              0.6666666666666666,
              "#35b779"
             ],
             [
              0.7777777777777778,
              "#6ece58"
             ],
             [
              0.8888888888888888,
              "#b5de2b"
             ],
             [
              1,
              "#fde725"
             ]
            ],
            "type": "surface"
           }
          ],
          "table": [
           {
            "cells": {
             "fill": {
              "color": "rgb(237,237,237)"
             },
             "line": {
              "color": "white"
             }
            },
            "header": {
             "fill": {
              "color": "rgb(217,217,217)"
             },
             "line": {
              "color": "white"
             }
            },
            "type": "table"
           }
          ]
         },
         "layout": {
          "annotationdefaults": {
           "arrowhead": 0,
           "arrowwidth": 1
          },
          "autotypenumbers": "strict",
          "coloraxis": {
           "colorbar": {
            "outlinewidth": 1,
            "tickcolor": "rgb(36,36,36)",
            "ticks": "outside"
           }
          },
          "colorscale": {
           "diverging": [
            [
             0,
             "rgb(103,0,31)"
            ],
            [
             0.1,
             "rgb(178,24,43)"
            ],
            [
             0.2,
             "rgb(214,96,77)"
            ],
            [
             0.3,
             "rgb(244,165,130)"
            ],
            [
             0.4,
             "rgb(253,219,199)"
            ],
            [
             0.5,
             "rgb(247,247,247)"
            ],
            [
             0.6,
             "rgb(209,229,240)"
            ],
            [
             0.7,
             "rgb(146,197,222)"
            ],
            [
             0.8,
             "rgb(67,147,195)"
            ],
            [
             0.9,
             "rgb(33,102,172)"
            ],
            [
             1,
             "rgb(5,48,97)"
            ]
           ],
           "sequential": [
            [
             0,
             "#440154"
            ],
            [
             0.1111111111111111,
             "#482878"
            ],
            [
             0.2222222222222222,
             "#3e4989"
            ],
            [
             0.3333333333333333,
             "#31688e"
            ],
            [
             0.4444444444444444,
             "#26828e"
            ],
            [
             0.5555555555555556,
             "#1f9e89"
            ],
            [
             0.6666666666666666,
             "#35b779"
            ],
            [
             0.7777777777777778,
             "#6ece58"
            ],
            [
             0.8888888888888888,
             "#b5de2b"
            ],
            [
             1,
             "#fde725"
            ]
           ],
           "sequentialminus": [
            [
             0,
             "#440154"
            ],
            [
             0.1111111111111111,
             "#482878"
            ],
            [
             0.2222222222222222,
             "#3e4989"
            ],
            [
             0.3333333333333333,
             "#31688e"
            ],
            [
             0.4444444444444444,
             "#26828e"
            ],
            [
             0.5555555555555556,
             "#1f9e89"
            ],
            [
             0.6666666666666666,
             "#35b779"
            ],
            [
             0.7777777777777778,
             "#6ece58"
            ],
            [
             0.8888888888888888,
             "#b5de2b"
            ],
            [
             1,
             "#fde725"
            ]
           ]
          },
          "colorway": [
           "#1F77B4",
           "#FF7F0E",
           "#2CA02C",
           "#D62728",
           "#9467BD",
           "#8C564B",
           "#E377C2",
           "#7F7F7F",
           "#BCBD22",
           "#17BECF"
          ],
          "font": {
           "color": "rgb(36,36,36)"
          },
          "geo": {
           "bgcolor": "white",
           "lakecolor": "white",
           "landcolor": "white",
           "showlakes": true,
           "showland": true,
           "subunitcolor": "white"
          },
          "hoverlabel": {
           "align": "left"
          },
          "hovermode": "closest",
          "mapbox": {
           "style": "light"
          },
          "paper_bgcolor": "white",
          "plot_bgcolor": "white",
          "polar": {
           "angularaxis": {
            "gridcolor": "rgb(232,232,232)",
            "linecolor": "rgb(36,36,36)",
            "showgrid": false,
            "showline": true,
            "ticks": "outside"
           },
           "bgcolor": "white",
           "radialaxis": {
            "gridcolor": "rgb(232,232,232)",
            "linecolor": "rgb(36,36,36)",
            "showgrid": false,
            "showline": true,
            "ticks": "outside"
           }
          },
          "scene": {
           "xaxis": {
            "backgroundcolor": "white",
            "gridcolor": "rgb(232,232,232)",
            "gridwidth": 2,
            "linecolor": "rgb(36,36,36)",
            "showbackground": true,
            "showgrid": false,
            "showline": true,
            "ticks": "outside",
            "zeroline": false,
            "zerolinecolor": "rgb(36,36,36)"
           },
           "yaxis": {
            "backgroundcolor": "white",
            "gridcolor": "rgb(232,232,232)",
            "gridwidth": 2,
            "linecolor": "rgb(36,36,36)",
            "showbackground": true,
            "showgrid": false,
            "showline": true,
            "ticks": "outside",
            "zeroline": false,
            "zerolinecolor": "rgb(36,36,36)"
           },
           "zaxis": {
            "backgroundcolor": "white",
            "gridcolor": "rgb(232,232,232)",
            "gridwidth": 2,
            "linecolor": "rgb(36,36,36)",
            "showbackground": true,
            "showgrid": false,
            "showline": true,
            "ticks": "outside",
            "zeroline": false,
            "zerolinecolor": "rgb(36,36,36)"
           }
          },
          "shapedefaults": {
           "fillcolor": "black",
           "line": {
            "width": 0
           },
           "opacity": 0.3
          },
          "ternary": {
           "aaxis": {
            "gridcolor": "rgb(232,232,232)",
            "linecolor": "rgb(36,36,36)",
            "showgrid": false,
            "showline": true,
            "ticks": "outside"
           },
           "baxis": {
            "gridcolor": "rgb(232,232,232)",
            "linecolor": "rgb(36,36,36)",
            "showgrid": false,
            "showline": true,
            "ticks": "outside"
           },
           "bgcolor": "white",
           "caxis": {
            "gridcolor": "rgb(232,232,232)",
            "linecolor": "rgb(36,36,36)",
            "showgrid": false,
            "showline": true,
            "ticks": "outside"
           }
          },
          "title": {
           "x": 0.05
          },
          "xaxis": {
           "automargin": true,
           "gridcolor": "rgb(232,232,232)",
           "linecolor": "rgb(36,36,36)",
           "showgrid": false,
           "showline": true,
           "ticks": "outside",
           "title": {
            "standoff": 15
           },
           "zeroline": false,
           "zerolinecolor": "rgb(36,36,36)"
          },
          "yaxis": {
           "automargin": true,
           "gridcolor": "rgb(232,232,232)",
           "linecolor": "rgb(36,36,36)",
           "showgrid": false,
           "showline": true,
           "ticks": "outside",
           "title": {
            "standoff": 15
           },
           "zeroline": false,
           "zerolinecolor": "rgb(36,36,36)"
          }
         }
        },
        "title": {
         "text": "Checking Accounts Distribution"
        },
        "width": 1000,
        "xaxis": {
         "title": {
          "text": "Checking Accounts Name"
         }
        },
        "yaxis": {
         "title": {
          "text": "Count"
         }
        }
       }
      }
     },
     "metadata": {},
     "output_type": "display_data"
    }
   ],
   "source": [
    "# First plot\n",
    "trace0 = go.Bar(\n",
    "    x=df_credit[df_credit['Risk'] == 'good']['Checking account'].value_counts().index.values,\n",
    "    y=df_credit[df_credit['Risk'] == 'good']['Checking account'].value_counts().values,\n",
    "    name='Good Credit Distribution',\n",
    "    marker=dict(color='#636EFA')\n",
    ")\n",
    "\n",
    "# Second plot\n",
    "trace1 = go.Bar(\n",
    "    x=df_credit[df_credit['Risk'] == 'bad']['Checking account'].value_counts().index.values,\n",
    "    y=df_credit[df_credit['Risk'] == 'bad']['Checking account'].value_counts().values,\n",
    "    name='Bad Credit Distribution',\n",
    "    marker=dict(color='#EF553B')\n",
    ")\n",
    "\n",
    "data = [trace0, trace1]\n",
    "\n",
    "layout = go.Layout(\n",
    "    title='Checking Accounts Distribution',\n",
    "    xaxis=dict(title='Checking Accounts Name'),\n",
    "    yaxis=dict(title='Count'),\n",
    "    barmode='group',\n",
    "    width=1000,\n",
    "    template=\"simple_white\",\n",
    "    font=dict(family='Arial, sans-serif', size=14, color='#7f7f7f')\n",
    ")\n",
    "\n",
    "fig = go.Figure(data=data, layout=layout)\n",
    "\n",
    "fig.show()\n"
   ]
  },
  {
   "cell_type": "code",
   "execution_count": 14,
   "metadata": {},
   "outputs": [
    {
     "data": {
      "application/vnd.plotly.v1+json": {
       "config": {
        "plotlyServerURL": "https://plot.ly"
       },
       "data": [
        {
         "marker": {
          "color": [
           "#FF7F7F",
           "#7FBFFF"
          ]
         },
         "name": "male",
         "showlegend": false,
         "type": "bar",
         "x": [
          "bad",
          "good"
         ],
         "y": [
          191,
          499
         ]
        },
        {
         "marker": {
          "color": [
           "#FFB6B6",
           "#B6E2FF"
          ]
         },
         "name": "female",
         "showlegend": false,
         "type": "bar",
         "x": [
          "bad",
          "good"
         ],
         "y": [
          109,
          201
         ]
        }
       ],
       "layout": {
        "barmode": "stack",
        "template": {
         "data": {
          "bar": [
           {
            "error_x": {
             "color": "rgb(36,36,36)"
            },
            "error_y": {
             "color": "rgb(36,36,36)"
            },
            "marker": {
             "line": {
              "color": "white",
              "width": 0.5
             },
             "pattern": {
              "fillmode": "overlay",
              "size": 10,
              "solidity": 0.2
             }
            },
            "type": "bar"
           }
          ],
          "barpolar": [
           {
            "marker": {
             "line": {
              "color": "white",
              "width": 0.5
             },
             "pattern": {
              "fillmode": "overlay",
              "size": 10,
              "solidity": 0.2
             }
            },
            "type": "barpolar"
           }
          ],
          "carpet": [
           {
            "aaxis": {
             "endlinecolor": "rgb(36,36,36)",
             "gridcolor": "white",
             "linecolor": "white",
             "minorgridcolor": "white",
             "startlinecolor": "rgb(36,36,36)"
            },
            "baxis": {
             "endlinecolor": "rgb(36,36,36)",
             "gridcolor": "white",
             "linecolor": "white",
             "minorgridcolor": "white",
             "startlinecolor": "rgb(36,36,36)"
            },
            "type": "carpet"
           }
          ],
          "choropleth": [
           {
            "colorbar": {
             "outlinewidth": 1,
             "tickcolor": "rgb(36,36,36)",
             "ticks": "outside"
            },
            "type": "choropleth"
           }
          ],
          "contour": [
           {
            "colorbar": {
             "outlinewidth": 1,
             "tickcolor": "rgb(36,36,36)",
             "ticks": "outside"
            },
            "colorscale": [
             [
              0,
              "#440154"
             ],
             [
              0.1111111111111111,
              "#482878"
             ],
             [
              0.2222222222222222,
              "#3e4989"
             ],
             [
              0.3333333333333333,
              "#31688e"
             ],
             [
              0.4444444444444444,
              "#26828e"
             ],
             [
              0.5555555555555556,
              "#1f9e89"
             ],
             [
              0.6666666666666666,
              "#35b779"
             ],
             [
              0.7777777777777778,
              "#6ece58"
             ],
             [
              0.8888888888888888,
              "#b5de2b"
             ],
             [
              1,
              "#fde725"
             ]
            ],
            "type": "contour"
           }
          ],
          "contourcarpet": [
           {
            "colorbar": {
             "outlinewidth": 1,
             "tickcolor": "rgb(36,36,36)",
             "ticks": "outside"
            },
            "type": "contourcarpet"
           }
          ],
          "heatmap": [
           {
            "colorbar": {
             "outlinewidth": 1,
             "tickcolor": "rgb(36,36,36)",
             "ticks": "outside"
            },
            "colorscale": [
             [
              0,
              "#440154"
             ],
             [
              0.1111111111111111,
              "#482878"
             ],
             [
              0.2222222222222222,
              "#3e4989"
             ],
             [
              0.3333333333333333,
              "#31688e"
             ],
             [
              0.4444444444444444,
              "#26828e"
             ],
             [
              0.5555555555555556,
              "#1f9e89"
             ],
             [
              0.6666666666666666,
              "#35b779"
             ],
             [
              0.7777777777777778,
              "#6ece58"
             ],
             [
              0.8888888888888888,
              "#b5de2b"
             ],
             [
              1,
              "#fde725"
             ]
            ],
            "type": "heatmap"
           }
          ],
          "heatmapgl": [
           {
            "colorbar": {
             "outlinewidth": 1,
             "tickcolor": "rgb(36,36,36)",
             "ticks": "outside"
            },
            "colorscale": [
             [
              0,
              "#440154"
             ],
             [
              0.1111111111111111,
              "#482878"
             ],
             [
              0.2222222222222222,
              "#3e4989"
             ],
             [
              0.3333333333333333,
              "#31688e"
             ],
             [
              0.4444444444444444,
              "#26828e"
             ],
             [
              0.5555555555555556,
              "#1f9e89"
             ],
             [
              0.6666666666666666,
              "#35b779"
             ],
             [
              0.7777777777777778,
              "#6ece58"
             ],
             [
              0.8888888888888888,
              "#b5de2b"
             ],
             [
              1,
              "#fde725"
             ]
            ],
            "type": "heatmapgl"
           }
          ],
          "histogram": [
           {
            "marker": {
             "line": {
              "color": "white",
              "width": 0.6
             }
            },
            "type": "histogram"
           }
          ],
          "histogram2d": [
           {
            "colorbar": {
             "outlinewidth": 1,
             "tickcolor": "rgb(36,36,36)",
             "ticks": "outside"
            },
            "colorscale": [
             [
              0,
              "#440154"
             ],
             [
              0.1111111111111111,
              "#482878"
             ],
             [
              0.2222222222222222,
              "#3e4989"
             ],
             [
              0.3333333333333333,
              "#31688e"
             ],
             [
              0.4444444444444444,
              "#26828e"
             ],
             [
              0.5555555555555556,
              "#1f9e89"
             ],
             [
              0.6666666666666666,
              "#35b779"
             ],
             [
              0.7777777777777778,
              "#6ece58"
             ],
             [
              0.8888888888888888,
              "#b5de2b"
             ],
             [
              1,
              "#fde725"
             ]
            ],
            "type": "histogram2d"
           }
          ],
          "histogram2dcontour": [
           {
            "colorbar": {
             "outlinewidth": 1,
             "tickcolor": "rgb(36,36,36)",
             "ticks": "outside"
            },
            "colorscale": [
             [
              0,
              "#440154"
             ],
             [
              0.1111111111111111,
              "#482878"
             ],
             [
              0.2222222222222222,
              "#3e4989"
             ],
             [
              0.3333333333333333,
              "#31688e"
             ],
             [
              0.4444444444444444,
              "#26828e"
             ],
             [
              0.5555555555555556,
              "#1f9e89"
             ],
             [
              0.6666666666666666,
              "#35b779"
             ],
             [
              0.7777777777777778,
              "#6ece58"
             ],
             [
              0.8888888888888888,
              "#b5de2b"
             ],
             [
              1,
              "#fde725"
             ]
            ],
            "type": "histogram2dcontour"
           }
          ],
          "mesh3d": [
           {
            "colorbar": {
             "outlinewidth": 1,
             "tickcolor": "rgb(36,36,36)",
             "ticks": "outside"
            },
            "type": "mesh3d"
           }
          ],
          "parcoords": [
           {
            "line": {
             "colorbar": {
              "outlinewidth": 1,
              "tickcolor": "rgb(36,36,36)",
              "ticks": "outside"
             }
            },
            "type": "parcoords"
           }
          ],
          "pie": [
           {
            "automargin": true,
            "type": "pie"
           }
          ],
          "scatter": [
           {
            "fillpattern": {
             "fillmode": "overlay",
             "size": 10,
             "solidity": 0.2
            },
            "type": "scatter"
           }
          ],
          "scatter3d": [
           {
            "line": {
             "colorbar": {
              "outlinewidth": 1,
              "tickcolor": "rgb(36,36,36)",
              "ticks": "outside"
             }
            },
            "marker": {
             "colorbar": {
              "outlinewidth": 1,
              "tickcolor": "rgb(36,36,36)",
              "ticks": "outside"
             }
            },
            "type": "scatter3d"
           }
          ],
          "scattercarpet": [
           {
            "marker": {
             "colorbar": {
              "outlinewidth": 1,
              "tickcolor": "rgb(36,36,36)",
              "ticks": "outside"
             }
            },
            "type": "scattercarpet"
           }
          ],
          "scattergeo": [
           {
            "marker": {
             "colorbar": {
              "outlinewidth": 1,
              "tickcolor": "rgb(36,36,36)",
              "ticks": "outside"
             }
            },
            "type": "scattergeo"
           }
          ],
          "scattergl": [
           {
            "marker": {
             "colorbar": {
              "outlinewidth": 1,
              "tickcolor": "rgb(36,36,36)",
              "ticks": "outside"
             }
            },
            "type": "scattergl"
           }
          ],
          "scattermapbox": [
           {
            "marker": {
             "colorbar": {
              "outlinewidth": 1,
              "tickcolor": "rgb(36,36,36)",
              "ticks": "outside"
             }
            },
            "type": "scattermapbox"
           }
          ],
          "scatterpolar": [
           {
            "marker": {
             "colorbar": {
              "outlinewidth": 1,
              "tickcolor": "rgb(36,36,36)",
              "ticks": "outside"
             }
            },
            "type": "scatterpolar"
           }
          ],
          "scatterpolargl": [
           {
            "marker": {
             "colorbar": {
              "outlinewidth": 1,
              "tickcolor": "rgb(36,36,36)",
              "ticks": "outside"
             }
            },
            "type": "scatterpolargl"
           }
          ],
          "scatterternary": [
           {
            "marker": {
             "colorbar": {
              "outlinewidth": 1,
              "tickcolor": "rgb(36,36,36)",
              "ticks": "outside"
             }
            },
            "type": "scatterternary"
           }
          ],
          "surface": [
           {
            "colorbar": {
             "outlinewidth": 1,
             "tickcolor": "rgb(36,36,36)",
             "ticks": "outside"
            },
            "colorscale": [
             [
              0,
              "#440154"
             ],
             [
              0.1111111111111111,
              "#482878"
             ],
             [
              0.2222222222222222,
              "#3e4989"
             ],
             [
              0.3333333333333333,
              "#31688e"
             ],
             [
              0.4444444444444444,
              "#26828e"
             ],
             [
              0.5555555555555556,
              "#1f9e89"
             ],
             [
              0.6666666666666666,
              "#35b779"
             ],
             [
              0.7777777777777778,
              "#6ece58"
             ],
             [
              0.8888888888888888,
              "#b5de2b"
             ],
             [
              1,
              "#fde725"
             ]
            ],
            "type": "surface"
           }
          ],
          "table": [
           {
            "cells": {
             "fill": {
              "color": "rgb(237,237,237)"
             },
             "line": {
              "color": "white"
             }
            },
            "header": {
             "fill": {
              "color": "rgb(217,217,217)"
             },
             "line": {
              "color": "white"
             }
            },
            "type": "table"
           }
          ]
         },
         "layout": {
          "annotationdefaults": {
           "arrowhead": 0,
           "arrowwidth": 1
          },
          "autotypenumbers": "strict",
          "coloraxis": {
           "colorbar": {
            "outlinewidth": 1,
            "tickcolor": "rgb(36,36,36)",
            "ticks": "outside"
           }
          },
          "colorscale": {
           "diverging": [
            [
             0,
             "rgb(103,0,31)"
            ],
            [
             0.1,
             "rgb(178,24,43)"
            ],
            [
             0.2,
             "rgb(214,96,77)"
            ],
            [
             0.3,
             "rgb(244,165,130)"
            ],
            [
             0.4,
             "rgb(253,219,199)"
            ],
            [
             0.5,
             "rgb(247,247,247)"
            ],
            [
             0.6,
             "rgb(209,229,240)"
            ],
            [
             0.7,
             "rgb(146,197,222)"
            ],
            [
             0.8,
             "rgb(67,147,195)"
            ],
            [
             0.9,
             "rgb(33,102,172)"
            ],
            [
             1,
             "rgb(5,48,97)"
            ]
           ],
           "sequential": [
            [
             0,
             "#440154"
            ],
            [
             0.1111111111111111,
             "#482878"
            ],
            [
             0.2222222222222222,
             "#3e4989"
            ],
            [
             0.3333333333333333,
             "#31688e"
            ],
            [
             0.4444444444444444,
             "#26828e"
            ],
            [
             0.5555555555555556,
             "#1f9e89"
            ],
            [
             0.6666666666666666,
             "#35b779"
            ],
            [
             0.7777777777777778,
             "#6ece58"
            ],
            [
             0.8888888888888888,
             "#b5de2b"
            ],
            [
             1,
             "#fde725"
            ]
           ],
           "sequentialminus": [
            [
             0,
             "#440154"
            ],
            [
             0.1111111111111111,
             "#482878"
            ],
            [
             0.2222222222222222,
             "#3e4989"
            ],
            [
             0.3333333333333333,
             "#31688e"
            ],
            [
             0.4444444444444444,
             "#26828e"
            ],
            [
             0.5555555555555556,
             "#1f9e89"
            ],
            [
             0.6666666666666666,
             "#35b779"
            ],
            [
             0.7777777777777778,
             "#6ece58"
            ],
            [
             0.8888888888888888,
             "#b5de2b"
            ],
            [
             1,
             "#fde725"
            ]
           ]
          },
          "colorway": [
           "#1F77B4",
           "#FF7F0E",
           "#2CA02C",
           "#D62728",
           "#9467BD",
           "#8C564B",
           "#E377C2",
           "#7F7F7F",
           "#BCBD22",
           "#17BECF"
          ],
          "font": {
           "color": "rgb(36,36,36)"
          },
          "geo": {
           "bgcolor": "white",
           "lakecolor": "white",
           "landcolor": "white",
           "showlakes": true,
           "showland": true,
           "subunitcolor": "white"
          },
          "hoverlabel": {
           "align": "left"
          },
          "hovermode": "closest",
          "mapbox": {
           "style": "light"
          },
          "paper_bgcolor": "white",
          "plot_bgcolor": "white",
          "polar": {
           "angularaxis": {
            "gridcolor": "rgb(232,232,232)",
            "linecolor": "rgb(36,36,36)",
            "showgrid": false,
            "showline": true,
            "ticks": "outside"
           },
           "bgcolor": "white",
           "radialaxis": {
            "gridcolor": "rgb(232,232,232)",
            "linecolor": "rgb(36,36,36)",
            "showgrid": false,
            "showline": true,
            "ticks": "outside"
           }
          },
          "scene": {
           "xaxis": {
            "backgroundcolor": "white",
            "gridcolor": "rgb(232,232,232)",
            "gridwidth": 2,
            "linecolor": "rgb(36,36,36)",
            "showbackground": true,
            "showgrid": false,
            "showline": true,
            "ticks": "outside",
            "zeroline": false,
            "zerolinecolor": "rgb(36,36,36)"
           },
           "yaxis": {
            "backgroundcolor": "white",
            "gridcolor": "rgb(232,232,232)",
            "gridwidth": 2,
            "linecolor": "rgb(36,36,36)",
            "showbackground": true,
            "showgrid": false,
            "showline": true,
            "ticks": "outside",
            "zeroline": false,
            "zerolinecolor": "rgb(36,36,36)"
           },
           "zaxis": {
            "backgroundcolor": "white",
            "gridcolor": "rgb(232,232,232)",
            "gridwidth": 2,
            "linecolor": "rgb(36,36,36)",
            "showbackground": true,
            "showgrid": false,
            "showline": true,
            "ticks": "outside",
            "zeroline": false,
            "zerolinecolor": "rgb(36,36,36)"
           }
          },
          "shapedefaults": {
           "fillcolor": "black",
           "line": {
            "width": 0
           },
           "opacity": 0.3
          },
          "ternary": {
           "aaxis": {
            "gridcolor": "rgb(232,232,232)",
            "linecolor": "rgb(36,36,36)",
            "showgrid": false,
            "showline": true,
            "ticks": "outside"
           },
           "baxis": {
            "gridcolor": "rgb(232,232,232)",
            "linecolor": "rgb(36,36,36)",
            "showgrid": false,
            "showline": true,
            "ticks": "outside"
           },
           "bgcolor": "white",
           "caxis": {
            "gridcolor": "rgb(232,232,232)",
            "linecolor": "rgb(36,36,36)",
            "showgrid": false,
            "showline": true,
            "ticks": "outside"
           }
          },
          "title": {
           "x": 0.05
          },
          "xaxis": {
           "automargin": true,
           "gridcolor": "rgb(232,232,232)",
           "linecolor": "rgb(36,36,36)",
           "showgrid": false,
           "showline": true,
           "ticks": "outside",
           "title": {
            "standoff": 15
           },
           "zeroline": false,
           "zerolinecolor": "rgb(36,36,36)"
          },
          "yaxis": {
           "automargin": true,
           "gridcolor": "rgb(232,232,232)",
           "linecolor": "rgb(36,36,36)",
           "showgrid": false,
           "showline": true,
           "ticks": "outside",
           "title": {
            "standoff": 15
           },
           "zeroline": false,
           "zerolinecolor": "rgb(36,36,36)"
          }
         }
        },
        "title": {
         "text": "Credit Risk by Sex"
        },
        "width": 800,
        "xaxis": {
         "title": {
          "text": "Risk"
         }
        },
        "yaxis": {
         "title": {
          "text": "Count"
         }
        }
       }
      }
     },
     "metadata": {},
     "output_type": "display_data"
    }
   ],
   "source": [
    "# Calculate the count of each risk and sex combination\n",
    "df_counts = df_credit.groupby(['Risk', 'Sex']).size().reset_index(name='count')\n",
    "\n",
    "# Define colors based on gender and credit risk\n",
    "color_mapping = {\n",
    "    ('bad', 'male'): '#FF7F7F',\n",
    "    ('bad', 'female'): '#FFB6B6',\n",
    "    ('good', 'male'): '#7FBFFF',\n",
    "    ('good', 'female'): '#B6E2FF'\n",
    "}\n",
    "\n",
    "# Create the stacked bar chart\n",
    "fig = go.Figure(data=[\n",
    "    go.Bar(name='male', \n",
    "           x=df_counts[df_counts['Sex'] == 'male']['Risk'], \n",
    "           y=df_counts[df_counts['Sex'] == 'male']['count'], \n",
    "           marker=dict(color=[color_mapping[(risk, 'male')] for risk in df_counts[df_counts['Sex'] == 'male']['Risk']]),\n",
    "           showlegend=False),  # Set showlegend to False to hide the legend\n",
    "    go.Bar(name='female', \n",
    "           x=df_counts[df_counts['Sex'] == 'female']['Risk'], \n",
    "           y=df_counts[df_counts['Sex'] == 'female']['count'], \n",
    "           marker=dict(color=[color_mapping[(risk, 'female')] for risk in df_counts[df_counts['Sex'] == 'female']['Risk']]),\n",
    "           showlegend=False),  # Set showlegend to False to hide the legend\n",
    "])\n",
    "\n",
    "# Update layout\n",
    "fig.update_layout(title='Credit Risk by Sex',\n",
    "                  xaxis_title='Risk',\n",
    "                  yaxis_title='Count',\n",
    "                  barmode='stack',\n",
    "                  width=800,\n",
    "                  template=\"simple_white\")\n",
    "\n",
    "# Show the plot\n",
    "fig.show()\n"
   ]
  },
  {
   "cell_type": "code",
   "execution_count": 15,
   "metadata": {},
   "outputs": [
    {
     "data": {
      "application/vnd.plotly.v1+json": {
       "config": {
        "plotlyServerURL": "https://plot.ly"
       },
       "data": [
        {
         "alignmentgroup": "True",
         "boxpoints": "all",
         "hovertemplate": "Risk=good<br>Sex=%{x}<br>Credit amount=%{y}<extra></extra>",
         "legendgroup": "good",
         "marker": {
          "color": "blue"
         },
         "name": "good",
         "notched": false,
         "offsetgroup": "good",
         "orientation": "v",
         "showlegend": true,
         "type": "box",
         "x": [
          "male",
          "male",
          "male",
          "male",
          "male",
          "male",
          "male",
          "female",
          "female",
          "male",
          "male",
          "male",
          "male",
          "male",
          "male",
          "male",
          "male",
          "male",
          "male",
          "female",
          "male",
          "male",
          "male",
          "male",
          "male",
          "female",
          "male",
          "male",
          "male",
          "male",
          "male",
          "male",
          "male",
          "female",
          "male",
          "female",
          "male",
          "female",
          "male",
          "male",
          "male",
          "male",
          "male",
          "female",
          "female",
          "male",
          "male",
          "female",
          "male",
          "female",
          "male",
          "female",
          "female",
          "male",
          "male",
          "female",
          "male",
          "male",
          "male",
          "male",
          "male",
          "female",
          "female",
          "male",
          "female",
          "female",
          "male",
          "male",
          "male",
          "male",
          "male",
          "female",
          "male",
          "male",
          "male",
          "male",
          "male",
          "female",
          "male",
          "male",
          "male",
          "female",
          "male",
          "male",
          "female",
          "male",
          "male",
          "male",
          "female",
          "male",
          "female",
          "male",
          "male",
          "male",
          "male",
          "male",
          "female",
          "male",
          "male",
          "female",
          "female",
          "male",
          "male",
          "female",
          "male",
          "female",
          "male",
          "female",
          "male",
          "female",
          "female",
          "male",
          "male",
          "male",
          "male",
          "male",
          "female",
          "male",
          "male",
          "male",
          "male",
          "male",
          "male",
          "female",
          "male",
          "male",
          "male",
          "male",
          "female",
          "female",
          "female",
          "male",
          "male",
          "male",
          "male",
          "male",
          "male",
          "male",
          "male",
          "female",
          "male",
          "female",
          "male",
          "male",
          "male",
          "male",
          "male",
          "male",
          "male",
          "male",
          "male",
          "male",
          "male",
          "female",
          "male",
          "female",
          "male",
          "male",
          "male",
          "female",
          "male",
          "female",
          "male",
          "male",
          "male",
          "male",
          "male",
          "male",
          "male",
          "male",
          "male",
          "female",
          "male",
          "male",
          "female",
          "female",
          "male",
          "male",
          "male",
          "male",
          "female",
          "female",
          "male",
          "male",
          "male",
          "male",
          "female",
          "female",
          "male",
          "female",
          "male",
          "female",
          "male",
          "male",
          "female",
          "male",
          "male",
          "female",
          "male",
          "male",
          "female",
          "male",
          "male",
          "male",
          "male",
          "male",
          "male",
          "male",
          "female",
          "male",
          "male",
          "female",
          "male",
          "female",
          "male",
          "male",
          "female",
          "male",
          "male",
          "male",
          "female",
          "male",
          "male",
          "female",
          "male",
          "male",
          "male",
          "female",
          "male",
          "male",
          "female",
          "male",
          "female",
          "male",
          "male",
          "female",
          "male",
          "male",
          "female",
          "male",
          "male",
          "male",
          "female",
          "male",
          "male",
          "female",
          "female",
          "male",
          "male",
          "male",
          "female",
          "male",
          "female",
          "male",
          "female",
          "male",
          "male",
          "male",
          "male",
          "male",
          "male",
          "female",
          "male",
          "male",
          "male",
          "female",
          "female",
          "male",
          "male",
          "female",
          "male",
          "male",
          "male",
          "female",
          "male",
          "female",
          "male",
          "male",
          "female",
          "female",
          "male",
          "male",
          "female",
          "male",
          "female",
          "male",
          "female",
          "male",
          "male",
          "female",
          "male",
          "female",
          "male",
          "male",
          "male",
          "male",
          "male",
          "male",
          "male",
          "female",
          "male",
          "male",
          "male",
          "female",
          "female",
          "female",
          "male",
          "male",
          "male",
          "male",
          "male",
          "male",
          "male",
          "male",
          "male",
          "male",
          "male",
          "male",
          "female",
          "male",
          "male",
          "female",
          "male",
          "female",
          "male",
          "female",
          "male",
          "female",
          "male",
          "male",
          "female",
          "male",
          "female",
          "male",
          "male",
          "male",
          "female",
          "male",
          "male",
          "male",
          "male",
          "female",
          "male",
          "male",
          "male",
          "male",
          "male",
          "male",
          "female",
          "male",
          "female",
          "female",
          "male",
          "male",
          "female",
          "male",
          "male",
          "male",
          "female",
          "male",
          "male",
          "male",
          "male",
          "male",
          "male",
          "male",
          "male",
          "male",
          "male",
          "male",
          "male",
          "male",
          "male",
          "female",
          "male",
          "male",
          "male",
          "male",
          "female",
          "female",
          "male",
          "female",
          "male",
          "male",
          "male",
          "male",
          "male",
          "male",
          "female",
          "female",
          "female",
          "male",
          "male",
          "female",
          "male",
          "male",
          "female",
          "male",
          "male",
          "female",
          "male",
          "female",
          "male",
          "female",
          "male",
          "male",
          "male",
          "female",
          "female",
          "male",
          "female",
          "female",
          "female",
          "male",
          "male",
          "female",
          "female",
          "male",
          "male",
          "female",
          "female",
          "female",
          "male",
          "female",
          "female",
          "male",
          "male",
          "male",
          "male",
          "female",
          "female",
          "male",
          "male",
          "male",
          "male",
          "male",
          "female",
          "male",
          "male",
          "male",
          "male",
          "female",
          "male",
          "male",
          "female",
          "male",
          "female",
          "male",
          "male",
          "male",
          "male",
          "male",
          "male",
          "male",
          "male",
          "female",
          "male",
          "male",
          "male",
          "male",
          "female",
          "male",
          "male",
          "female",
          "male",
          "male",
          "male",
          "male",
          "male",
          "female",
          "male",
          "male",
          "female",
          "female",
          "male",
          "male",
          "male",
          "male",
          "male",
          "male",
          "male",
          "male",
          "male",
          "male",
          "female",
          "male",
          "male",
          "male",
          "male",
          "male",
          "female",
          "male",
          "male",
          "female",
          "male",
          "female",
          "female",
          "female",
          "male",
          "male",
          "male",
          "male",
          "male",
          "male",
          "male",
          "male",
          "male",
          "female",
          "female",
          "male",
          "male",
          "male",
          "female",
          "female",
          "female",
          "female",
          "male",
          "male",
          "male",
          "male",
          "male",
          "male",
          "male",
          "male",
          "female",
          "male",
          "male",
          "female",
          "female",
          "female",
          "male",
          "male",
          "female",
          "male",
          "male",
          "male",
          "female",
          "male",
          "male",
          "female",
          "male",
          "male",
          "male",
          "male",
          "female",
          "male",
          "female",
          "male",
          "male",
          "male",
          "male",
          "male",
          "male",
          "male",
          "male",
          "male",
          "male",
          "female",
          "female",
          "male",
          "male",
          "male",
          "female",
          "female",
          "male",
          "female",
          "male",
          "male",
          "male",
          "male",
          "male",
          "female",
          "male",
          "female",
          "male",
          "male",
          "male",
          "male",
          "male",
          "male",
          "male",
          "male",
          "female",
          "female",
          "female",
          "male",
          "male",
          "male",
          "male",
          "male",
          "male",
          "male",
          "male",
          "male",
          "male",
          "male",
          "male",
          "female",
          "male",
          "male",
          "male",
          "male",
          "female",
          "female",
          "male",
          "male",
          "female",
          "female",
          "male",
          "male",
          "female",
          "male",
          "female",
          "male",
          "male",
          "male",
          "male",
          "male",
          "male",
          "female",
          "male",
          "male",
          "male",
          "male",
          "male",
          "male",
          "male",
          "male",
          "male",
          "female",
          "female",
          "female",
          "male",
          "male",
          "male",
          "male",
          "male",
          "male",
          "male",
          "female",
          "female",
          "female",
          "female",
          "male",
          "male",
          "female",
          "male",
          "male",
          "female",
          "male",
          "male",
          "male",
          "male",
          "male",
          "female",
          "male",
          "male",
          "male",
          "male",
          "male",
          "male",
          "female",
          "female",
          "male",
          "male",
          "female",
          "female",
          "male",
          "male",
          "male",
          "male",
          "male",
          "male",
          "male",
          "female",
          "female",
          "male",
          "male",
          "male",
          "male",
          "female",
          "female",
          "female",
          "male",
          "female",
          "male",
          "female",
          "male",
          "female",
          "male",
          "male",
          "male",
          "male",
          "male",
          "male",
          "male",
          "female",
          "male",
          "male",
          "male"
         ],
         "x0": " ",
         "xaxis": "x",
         "y": [
          1169,
          2096,
          7882,
          9055,
          2835,
          6948,
          3059,
          1567,
          1403,
          2424,
          8072,
          3430,
          2134,
          2647,
          2241,
          1804,
          2069,
          1374,
          426,
          409,
          2415,
          1913,
          4020,
          5866,
          1264,
          1474,
          6110,
          1225,
          458,
          2333,
          1158,
          6204,
          6187,
          1393,
          2299,
          1352,
          7228,
          2073,
          2333,
          5965,
          1262,
          3378,
          783,
          9566,
          1961,
          1391,
          1537,
          3181,
          5190,
          2171,
          1007,
          2394,
          8133,
          730,
          1164,
          5954,
          1526,
          4771,
          9436,
          3832,
          1213,
          1568,
          1755,
          2315,
          1412,
          1295,
          2249,
          618,
          1409,
          3617,
          1318,
          2012,
          2622,
          2337,
          7057,
          1469,
          2323,
          932,
          1919,
          2445,
          6078,
          7721,
          1410,
          1449,
          392,
          6260,
          1680,
          3578,
          2132,
          2366,
          3868,
          1768,
          781,
          2121,
          701,
          1860,
          8487,
          2708,
          1984,
          10144,
          1240,
          8613,
          2728,
          1881,
          709,
          4795,
          3416,
          2288,
          3566,
          860,
          682,
          5371,
          1582,
          1346,
          1924,
          5848,
          7758,
          6967,
          1288,
          339,
          3512,
          1898,
          2872,
          1055,
          1262,
          7308,
          909,
          2978,
          1577,
          3972,
          763,
          1414,
          2577,
          338,
          1963,
          571,
          3777,
          1360,
          1175,
          3244,
          2108,
          1382,
          2760,
          936,
          1168,
          5117,
          1495,
          10623,
          1935,
          1424,
          6568,
          1413,
          3074,
          3835,
          3342,
          932,
          3104,
          3913,
          3021,
          1364,
          625,
          1200,
          707,
          2978,
          4657,
          2613,
          3149,
          2507,
          2141,
          866,
          1544,
          1291,
          2522,
          1595,
          1185,
          3447,
          1258,
          717,
          1204,
          1925,
          666,
          2251,
          4151,
          2030,
          7418,
          2684,
          3812,
          1154,
          1657,
          1603,
          5302,
          2748,
          1231,
          6304,
          1533,
          999,
          2662,
          1402,
          12169,
          2697,
          2404,
          1262,
          1901,
          3368,
          1574,
          1445,
          1520,
          3878,
          10722,
          4788,
          7582,
          1092,
          1076,
          6419,
          4796,
          7629,
          4675,
          1287,
          2515,
          2745,
          672,
          1038,
          1543,
          4811,
          276,
          5381,
          5511,
          3749,
          1494,
          708,
          4351,
          701,
          3643,
          2910,
          2659,
          1028,
          3398,
          5801,
          1525,
          4473,
          1068,
          6615,
          2101,
          4169,
          1521,
          5743,
          3599,
          3213,
          4439,
          3949,
          1459,
          882,
          3758,
          1743,
          1236,
          3229,
          727,
          2331,
          776,
          1239,
          3399,
          2247,
          1766,
          1542,
          3850,
          3650,
          3001,
          3079,
          6070,
          2146,
          13756,
          2320,
          846,
          362,
          2212,
          1283,
          1330,
          4272,
          2238,
          1126,
          7374,
          2326,
          1449,
          1820,
          983,
          3249,
          1957,
          2406,
          11760,
          2578,
          2348,
          1516,
          1473,
          1887,
          802,
          2899,
          2197,
          1053,
          3235,
          1967,
          7253,
          1597,
          5842,
          8471,
          2782,
          3186,
          2028,
          958,
          1591,
          2779,
          2743,
          1149,
          1313,
          3448,
          1872,
          2058,
          2136,
          660,
          1287,
          3394,
          1884,
          1620,
          2629,
          1244,
          2576,
          1424,
          11054,
          518,
          2759,
          2670,
          2679,
          3905,
          343,
          4594,
          3620,
          1721,
          3017,
          754,
          1950,
          2924,
          7238,
          2764,
          4679,
          1238,
          2569,
          5152,
          1037,
          1478,
          3573,
          1201,
          3622,
          960,
          1163,
          3077,
          3757,
          1418,
          3518,
          1934,
          1237,
          368,
          2122,
          1585,
          1301,
          1323,
          5493,
          1126,
          2360,
          1413,
          8588,
          4686,
          2687,
          585,
          2255,
          609,
          1361,
          1203,
          700,
          5507,
          3488,
          1113,
          7966,
          1532,
          1503,
          662,
          2273,
          1503,
          1311,
          3105,
          1374,
          3612,
          3049,
          2032,
          1255,
          2022,
          1552,
          8858,
          996,
          1750,
          1995,
          1199,
          2964,
          683,
          4712,
          1553,
          2578,
          3979,
          5954,
          5433,
          806,
          1082,
          2788,
          2930,
          1927,
          937,
          3124,
          1388,
          2133,
          2799,
          1289,
          385,
          1965,
          1572,
          3863,
          2329,
          1275,
          2828,
          4526,
          2051,
          1300,
          3357,
          3632,
          12204,
          9157,
          3676,
          640,
          3652,
          1858,
          1979,
          2116,
          4042,
          3832,
          3660,
          1444,
          1393,
          1376,
          15653,
          1493,
          1308,
          1851,
          1880,
          4583,
          7476,
          2346,
          3973,
          10222,
          4221,
          6361,
          1297,
          2241,
          1050,
          1047,
          6314,
          3496,
          3609,
          3017,
          4139,
          5742,
          10366,
          2080,
          4530,
          5150,
          2384,
          1453,
          1538,
          2279,
          1478,
          5103,
          9857,
          6527,
          1347,
          2862,
          2753,
          3651,
          975,
          2631,
          2896,
          4716,
          2284,
          1236,
          1103,
          926,
          1800,
          1905,
          1377,
          2503,
          2528,
          5324,
          1206,
          2118,
          629,
          2476,
          1138,
          7596,
          3077,
          1505,
          3148,
          6148,
          790,
          250,
          1316,
          1275,
          6403,
          760,
          2603,
          3380,
          3990,
          4380,
          6761,
          2325,
          1048,
          3160,
          2483,
          14179,
          1797,
          2511,
          5248,
          3029,
          428,
          841,
          5771,
          1299,
          1393,
          5045,
          2214,
          2463,
          1155,
          2901,
          3617,
          1655,
          2812,
          3275,
          2223,
          1480,
          3535,
          3509,
          5711,
          3872,
          1940,
          1410,
          6468,
          1941,
          2675,
          2751,
          6313,
          1221,
          2892,
          3062,
          2301,
          1258,
          717,
          1549,
          1597,
          1795,
          4272,
          976,
          7472,
          590,
          930,
          9283,
          907,
          484,
          7432,
          1338,
          1554,
          15857,
          1101,
          3016,
          731,
          3780,
          1602,
          6681,
          2375,
          5084,
          886,
          601,
          2957,
          2611,
          2993,
          1559,
          3422,
          3976,
          1249,
          1364,
          4042,
          1471,
          10875,
          1474,
          894,
          3343,
          3577,
          5804,
          4526,
          2221,
          2389,
          3331,
          7409,
          652,
          7678,
          1343,
          1382,
          874,
          3590,
          1322,
          1940,
          3595,
          6742,
          7814,
          9277,
          2181,
          1098,
          2825,
          6614,
          7824,
          2442,
          1829,
          2171,
          5800,
          1169,
          8947,
          2606,
          1592,
          2186,
          3485,
          10477,
          1386,
          1278,
          1107,
          3763,
          3711,
          3594,
          3195,
          4454,
          2991,
          2142,
          2848,
          1817,
          12749,
          2002,
          1049,
          1867,
          1344,
          1747,
          1224,
          522,
          1498,
          2063,
          6842,
          3527,
          1546,
          929,
          1455,
          1845,
          8358,
          2859,
          3590,
          1893,
          1231,
          3656,
          1154,
          3069,
          1740,
          2353,
          3556,
          454,
          1715,
          3568,
          7166,
          3939,
          1514,
          7393,
          2831,
          1258,
          753,
          2427,
          2923,
          2028,
          1433,
          6289,
          1409,
          6579,
          1743,
          3565,
          1569,
          1936,
          3959,
          2390,
          1736,
          3857,
          804,
          4576
         ],
         "y0": " ",
         "yaxis": "y"
        },
        {
         "alignmentgroup": "True",
         "boxpoints": "all",
         "hovertemplate": "Risk=bad<br>Sex=%{x}<br>Credit amount=%{y}<extra></extra>",
         "legendgroup": "bad",
         "marker": {
          "color": "red"
         },
         "name": "bad",
         "notched": false,
         "offsetgroup": "bad",
         "orientation": "v",
         "showlegend": true,
         "type": "box",
         "x": [
          "female",
          "male",
          "male",
          "female",
          "female",
          "male",
          "female",
          "female",
          "male",
          "male",
          "male",
          "female",
          "male",
          "male",
          "female",
          "male",
          "male",
          "male",
          "male",
          "male",
          "female",
          "male",
          "male",
          "female",
          "male",
          "male",
          "male",
          "female",
          "female",
          "female",
          "female",
          "female",
          "male",
          "female",
          "male",
          "male",
          "male",
          "female",
          "female",
          "male",
          "male",
          "female",
          "male",
          "female",
          "male",
          "male",
          "male",
          "male",
          "female",
          "male",
          "male",
          "male",
          "male",
          "male",
          "female",
          "female",
          "male",
          "male",
          "male",
          "male",
          "male",
          "male",
          "male",
          "male",
          "male",
          "male",
          "male",
          "female",
          "male",
          "female",
          "female",
          "male",
          "male",
          "male",
          "male",
          "male",
          "female",
          "male",
          "male",
          "female",
          "female",
          "male",
          "male",
          "male",
          "female",
          "male",
          "male",
          "male",
          "male",
          "female",
          "female",
          "female",
          "male",
          "male",
          "female",
          "male",
          "female",
          "male",
          "male",
          "male",
          "female",
          "male",
          "male",
          "female",
          "female",
          "male",
          "female",
          "male",
          "male",
          "male",
          "male",
          "male",
          "female",
          "male",
          "female",
          "female",
          "female",
          "male",
          "male",
          "female",
          "male",
          "female",
          "female",
          "male",
          "male",
          "male",
          "female",
          "male",
          "female",
          "male",
          "male",
          "female",
          "male",
          "female",
          "male",
          "male",
          "female",
          "male",
          "female",
          "male",
          "male",
          "male",
          "female",
          "female",
          "male",
          "male",
          "female",
          "male",
          "male",
          "male",
          "male",
          "male",
          "male",
          "female",
          "male",
          "male",
          "female",
          "female",
          "male",
          "male",
          "male",
          "male",
          "male",
          "female",
          "female",
          "male",
          "male",
          "male",
          "female",
          "male",
          "male",
          "female",
          "male",
          "female",
          "female",
          "male",
          "male",
          "female",
          "female",
          "female",
          "female",
          "female",
          "female",
          "female",
          "female",
          "male",
          "male",
          "male",
          "male",
          "male",
          "female",
          "female",
          "male",
          "female",
          "male",
          "male",
          "female",
          "male",
          "male",
          "male",
          "male",
          "male",
          "male",
          "male",
          "male",
          "male",
          "male",
          "female",
          "male",
          "male",
          "female",
          "female",
          "male",
          "male",
          "female",
          "female",
          "female",
          "female",
          "female",
          "male",
          "female",
          "female",
          "female",
          "female",
          "male",
          "female",
          "male",
          "male",
          "female",
          "male",
          "male",
          "female",
          "female",
          "male",
          "female",
          "male",
          "male",
          "female",
          "male",
          "male",
          "female",
          "male",
          "male",
          "male",
          "male",
          "male",
          "female",
          "male",
          "male",
          "female",
          "male",
          "female",
          "male",
          "male",
          "female",
          "male",
          "male",
          "male",
          "male",
          "female",
          "male",
          "female",
          "male",
          "male",
          "male",
          "female",
          "male",
          "male",
          "male",
          "female",
          "male",
          "female",
          "male",
          "male",
          "male",
          "female",
          "male",
          "male",
          "male",
          "female",
          "male",
          "female",
          "male",
          "male",
          "male",
          "male",
          "male",
          "female",
          "female",
          "male",
          "male",
          "male",
          "female",
          "male",
          "male",
          "male",
          "male",
          "male",
          "male",
          "male"
         ],
         "x0": " ",
         "xaxis": "x",
         "y": [
          5951,
          4870,
          5234,
          1295,
          4308,
          1199,
          1282,
          12579,
          6836,
          4746,
          2100,
          6143,
          2225,
          6468,
          6229,
          1953,
          14421,
          1819,
          1977,
          3965,
          5943,
          12612,
          1108,
          797,
          15945,
          11938,
          6458,
          7855,
          7174,
          4281,
          1835,
          1924,
          639,
          3499,
          6887,
          766,
          2462,
          1282,
          1131,
          1935,
          950,
          2064,
          3414,
          7485,
          9572,
          4455,
          1647,
          884,
          5129,
          674,
          4591,
          3844,
          3915,
          3031,
          1501,
          951,
          4297,
          902,
          5293,
          1908,
          10961,
          7865,
          1478,
          4210,
          1823,
          14555,
          2767,
          915,
          4605,
          433,
          2150,
          2149,
          802,
          8978,
          3060,
          11998,
          4611,
          1024,
          9398,
          9960,
          3804,
          1344,
          10127,
          727,
          1237,
          685,
          2746,
          4249,
          1938,
          1864,
          7408,
          11590,
          4110,
          3384,
          1275,
          1136,
          959,
          6199,
          1246,
          4463,
          2406,
          2473,
          3446,
          14782,
          7685,
          14318,
          12976,
          1223,
          8648,
          2039,
          939,
          2292,
          1381,
          2579,
          1042,
          2762,
          1190,
          11328,
          1484,
          609,
          719,
          5096,
          1842,
          1512,
          4817,
          3386,
          1659,
          3092,
          448,
          654,
          1245,
          3114,
          1209,
          8318,
          2996,
          9034,
          3123,
          1216,
          1207,
          1309,
          6850,
          759,
          7127,
          3190,
          7119,
          2302,
          2631,
          2319,
          7763,
          1534,
          6350,
          2864,
          1333,
          626,
          6999,
          1331,
          2278,
          5003,
          3552,
          1928,
          1546,
          12389,
          1372,
          6758,
          3234,
          2820,
          1056,
          2384,
          2039,
          1217,
          2246,
          2718,
          1358,
          931,
          1442,
          4241,
          2775,
          918,
          1837,
          3349,
          2671,
          741,
          1240,
          1808,
          3441,
          1530,
          3914,
          2600,
          1437,
          1553,
          1980,
          1355,
          4370,
          750,
          4623,
          7980,
          1386,
          947,
          684,
          1922,
          2303,
          8086,
          888,
          900,
          4843,
          2580,
          5595,
          1123,
          6331,
          6560,
          2969,
          1198,
          14027,
          1337,
          433,
          1228,
          2570,
          1882,
          6416,
          1987,
          11560,
          4280,
          1274,
          976,
          1555,
          1285,
          1271,
          691,
          2124,
          12680,
          3108,
          8065,
          1371,
          4933,
          836,
          6224,
          5998,
          1188,
          7511,
          9271,
          1778,
          9629,
          3051,
          3931,
          1345,
          2712,
          3966,
          4165,
          8335,
          1216,
          11816,
          2327,
          1082,
          5179,
          1943,
          6761,
          709,
          2235,
          1442,
          3959,
          2169,
          2439,
          2210,
          1422,
          4057,
          795,
          15672,
          4153,
          2625,
          4736,
          3161,
          18424,
          14896,
          2359,
          3345,
          1366,
          6872,
          697,
          10297,
          1670,
          1919,
          745,
          6288,
          3349,
          1533,
          3621,
          2145,
          4113,
          10974,
          4006,
          2397,
          2520,
          1193,
          7297,
          2538,
          1264,
          8386,
          4844,
          8229,
          1845
         ],
         "y0": " ",
         "yaxis": "y"
        }
       ],
       "layout": {
        "boxmode": "group",
        "legend": {
         "title": {
          "text": "Risk"
         },
         "tracegroupgap": 0
        },
        "margin": {
         "t": 60
        },
        "template": {
         "data": {
          "bar": [
           {
            "error_x": {
             "color": "rgb(36,36,36)"
            },
            "error_y": {
             "color": "rgb(36,36,36)"
            },
            "marker": {
             "line": {
              "color": "white",
              "width": 0.5
             },
             "pattern": {
              "fillmode": "overlay",
              "size": 10,
              "solidity": 0.2
             }
            },
            "type": "bar"
           }
          ],
          "barpolar": [
           {
            "marker": {
             "line": {
              "color": "white",
              "width": 0.5
             },
             "pattern": {
              "fillmode": "overlay",
              "size": 10,
              "solidity": 0.2
             }
            },
            "type": "barpolar"
           }
          ],
          "carpet": [
           {
            "aaxis": {
             "endlinecolor": "rgb(36,36,36)",
             "gridcolor": "white",
             "linecolor": "white",
             "minorgridcolor": "white",
             "startlinecolor": "rgb(36,36,36)"
            },
            "baxis": {
             "endlinecolor": "rgb(36,36,36)",
             "gridcolor": "white",
             "linecolor": "white",
             "minorgridcolor": "white",
             "startlinecolor": "rgb(36,36,36)"
            },
            "type": "carpet"
           }
          ],
          "choropleth": [
           {
            "colorbar": {
             "outlinewidth": 1,
             "tickcolor": "rgb(36,36,36)",
             "ticks": "outside"
            },
            "type": "choropleth"
           }
          ],
          "contour": [
           {
            "colorbar": {
             "outlinewidth": 1,
             "tickcolor": "rgb(36,36,36)",
             "ticks": "outside"
            },
            "colorscale": [
             [
              0,
              "#440154"
             ],
             [
              0.1111111111111111,
              "#482878"
             ],
             [
              0.2222222222222222,
              "#3e4989"
             ],
             [
              0.3333333333333333,
              "#31688e"
             ],
             [
              0.4444444444444444,
              "#26828e"
             ],
             [
              0.5555555555555556,
              "#1f9e89"
             ],
             [
              0.6666666666666666,
              "#35b779"
             ],
             [
              0.7777777777777778,
              "#6ece58"
             ],
             [
              0.8888888888888888,
              "#b5de2b"
             ],
             [
              1,
              "#fde725"
             ]
            ],
            "type": "contour"
           }
          ],
          "contourcarpet": [
           {
            "colorbar": {
             "outlinewidth": 1,
             "tickcolor": "rgb(36,36,36)",
             "ticks": "outside"
            },
            "type": "contourcarpet"
           }
          ],
          "heatmap": [
           {
            "colorbar": {
             "outlinewidth": 1,
             "tickcolor": "rgb(36,36,36)",
             "ticks": "outside"
            },
            "colorscale": [
             [
              0,
              "#440154"
             ],
             [
              0.1111111111111111,
              "#482878"
             ],
             [
              0.2222222222222222,
              "#3e4989"
             ],
             [
              0.3333333333333333,
              "#31688e"
             ],
             [
              0.4444444444444444,
              "#26828e"
             ],
             [
              0.5555555555555556,
              "#1f9e89"
             ],
             [
              0.6666666666666666,
              "#35b779"
             ],
             [
              0.7777777777777778,
              "#6ece58"
             ],
             [
              0.8888888888888888,
              "#b5de2b"
             ],
             [
              1,
              "#fde725"
             ]
            ],
            "type": "heatmap"
           }
          ],
          "heatmapgl": [
           {
            "colorbar": {
             "outlinewidth": 1,
             "tickcolor": "rgb(36,36,36)",
             "ticks": "outside"
            },
            "colorscale": [
             [
              0,
              "#440154"
             ],
             [
              0.1111111111111111,
              "#482878"
             ],
             [
              0.2222222222222222,
              "#3e4989"
             ],
             [
              0.3333333333333333,
              "#31688e"
             ],
             [
              0.4444444444444444,
              "#26828e"
             ],
             [
              0.5555555555555556,
              "#1f9e89"
             ],
             [
              0.6666666666666666,
              "#35b779"
             ],
             [
              0.7777777777777778,
              "#6ece58"
             ],
             [
              0.8888888888888888,
              "#b5de2b"
             ],
             [
              1,
              "#fde725"
             ]
            ],
            "type": "heatmapgl"
           }
          ],
          "histogram": [
           {
            "marker": {
             "line": {
              "color": "white",
              "width": 0.6
             }
            },
            "type": "histogram"
           }
          ],
          "histogram2d": [
           {
            "colorbar": {
             "outlinewidth": 1,
             "tickcolor": "rgb(36,36,36)",
             "ticks": "outside"
            },
            "colorscale": [
             [
              0,
              "#440154"
             ],
             [
              0.1111111111111111,
              "#482878"
             ],
             [
              0.2222222222222222,
              "#3e4989"
             ],
             [
              0.3333333333333333,
              "#31688e"
             ],
             [
              0.4444444444444444,
              "#26828e"
             ],
             [
              0.5555555555555556,
              "#1f9e89"
             ],
             [
              0.6666666666666666,
              "#35b779"
             ],
             [
              0.7777777777777778,
              "#6ece58"
             ],
             [
              0.8888888888888888,
              "#b5de2b"
             ],
             [
              1,
              "#fde725"
             ]
            ],
            "type": "histogram2d"
           }
          ],
          "histogram2dcontour": [
           {
            "colorbar": {
             "outlinewidth": 1,
             "tickcolor": "rgb(36,36,36)",
             "ticks": "outside"
            },
            "colorscale": [
             [
              0,
              "#440154"
             ],
             [
              0.1111111111111111,
              "#482878"
             ],
             [
              0.2222222222222222,
              "#3e4989"
             ],
             [
              0.3333333333333333,
              "#31688e"
             ],
             [
              0.4444444444444444,
              "#26828e"
             ],
             [
              0.5555555555555556,
              "#1f9e89"
             ],
             [
              0.6666666666666666,
              "#35b779"
             ],
             [
              0.7777777777777778,
              "#6ece58"
             ],
             [
              0.8888888888888888,
              "#b5de2b"
             ],
             [
              1,
              "#fde725"
             ]
            ],
            "type": "histogram2dcontour"
           }
          ],
          "mesh3d": [
           {
            "colorbar": {
             "outlinewidth": 1,
             "tickcolor": "rgb(36,36,36)",
             "ticks": "outside"
            },
            "type": "mesh3d"
           }
          ],
          "parcoords": [
           {
            "line": {
             "colorbar": {
              "outlinewidth": 1,
              "tickcolor": "rgb(36,36,36)",
              "ticks": "outside"
             }
            },
            "type": "parcoords"
           }
          ],
          "pie": [
           {
            "automargin": true,
            "type": "pie"
           }
          ],
          "scatter": [
           {
            "fillpattern": {
             "fillmode": "overlay",
             "size": 10,
             "solidity": 0.2
            },
            "type": "scatter"
           }
          ],
          "scatter3d": [
           {
            "line": {
             "colorbar": {
              "outlinewidth": 1,
              "tickcolor": "rgb(36,36,36)",
              "ticks": "outside"
             }
            },
            "marker": {
             "colorbar": {
              "outlinewidth": 1,
              "tickcolor": "rgb(36,36,36)",
              "ticks": "outside"
             }
            },
            "type": "scatter3d"
           }
          ],
          "scattercarpet": [
           {
            "marker": {
             "colorbar": {
              "outlinewidth": 1,
              "tickcolor": "rgb(36,36,36)",
              "ticks": "outside"
             }
            },
            "type": "scattercarpet"
           }
          ],
          "scattergeo": [
           {
            "marker": {
             "colorbar": {
              "outlinewidth": 1,
              "tickcolor": "rgb(36,36,36)",
              "ticks": "outside"
             }
            },
            "type": "scattergeo"
           }
          ],
          "scattergl": [
           {
            "marker": {
             "colorbar": {
              "outlinewidth": 1,
              "tickcolor": "rgb(36,36,36)",
              "ticks": "outside"
             }
            },
            "type": "scattergl"
           }
          ],
          "scattermapbox": [
           {
            "marker": {
             "colorbar": {
              "outlinewidth": 1,
              "tickcolor": "rgb(36,36,36)",
              "ticks": "outside"
             }
            },
            "type": "scattermapbox"
           }
          ],
          "scatterpolar": [
           {
            "marker": {
             "colorbar": {
              "outlinewidth": 1,
              "tickcolor": "rgb(36,36,36)",
              "ticks": "outside"
             }
            },
            "type": "scatterpolar"
           }
          ],
          "scatterpolargl": [
           {
            "marker": {
             "colorbar": {
              "outlinewidth": 1,
              "tickcolor": "rgb(36,36,36)",
              "ticks": "outside"
             }
            },
            "type": "scatterpolargl"
           }
          ],
          "scatterternary": [
           {
            "marker": {
             "colorbar": {
              "outlinewidth": 1,
              "tickcolor": "rgb(36,36,36)",
              "ticks": "outside"
             }
            },
            "type": "scatterternary"
           }
          ],
          "surface": [
           {
            "colorbar": {
             "outlinewidth": 1,
             "tickcolor": "rgb(36,36,36)",
             "ticks": "outside"
            },
            "colorscale": [
             [
              0,
              "#440154"
             ],
             [
              0.1111111111111111,
              "#482878"
             ],
             [
              0.2222222222222222,
              "#3e4989"
             ],
             [
              0.3333333333333333,
              "#31688e"
             ],
             [
              0.4444444444444444,
              "#26828e"
             ],
             [
              0.5555555555555556,
              "#1f9e89"
             ],
             [
              0.6666666666666666,
              "#35b779"
             ],
             [
              0.7777777777777778,
              "#6ece58"
             ],
             [
              0.8888888888888888,
              "#b5de2b"
             ],
             [
              1,
              "#fde725"
             ]
            ],
            "type": "surface"
           }
          ],
          "table": [
           {
            "cells": {
             "fill": {
              "color": "rgb(237,237,237)"
             },
             "line": {
              "color": "white"
             }
            },
            "header": {
             "fill": {
              "color": "rgb(217,217,217)"
             },
             "line": {
              "color": "white"
             }
            },
            "type": "table"
           }
          ]
         },
         "layout": {
          "annotationdefaults": {
           "arrowhead": 0,
           "arrowwidth": 1
          },
          "autotypenumbers": "strict",
          "coloraxis": {
           "colorbar": {
            "outlinewidth": 1,
            "tickcolor": "rgb(36,36,36)",
            "ticks": "outside"
           }
          },
          "colorscale": {
           "diverging": [
            [
             0,
             "rgb(103,0,31)"
            ],
            [
             0.1,
             "rgb(178,24,43)"
            ],
            [
             0.2,
             "rgb(214,96,77)"
            ],
            [
             0.3,
             "rgb(244,165,130)"
            ],
            [
             0.4,
             "rgb(253,219,199)"
            ],
            [
             0.5,
             "rgb(247,247,247)"
            ],
            [
             0.6,
             "rgb(209,229,240)"
            ],
            [
             0.7,
             "rgb(146,197,222)"
            ],
            [
             0.8,
             "rgb(67,147,195)"
            ],
            [
             0.9,
             "rgb(33,102,172)"
            ],
            [
             1,
             "rgb(5,48,97)"
            ]
           ],
           "sequential": [
            [
             0,
             "#440154"
            ],
            [
             0.1111111111111111,
             "#482878"
            ],
            [
             0.2222222222222222,
             "#3e4989"
            ],
            [
             0.3333333333333333,
             "#31688e"
            ],
            [
             0.4444444444444444,
             "#26828e"
            ],
            [
             0.5555555555555556,
             "#1f9e89"
            ],
            [
             0.6666666666666666,
             "#35b779"
            ],
            [
             0.7777777777777778,
             "#6ece58"
            ],
            [
             0.8888888888888888,
             "#b5de2b"
            ],
            [
             1,
             "#fde725"
            ]
           ],
           "sequentialminus": [
            [
             0,
             "#440154"
            ],
            [
             0.1111111111111111,
             "#482878"
            ],
            [
             0.2222222222222222,
             "#3e4989"
            ],
            [
             0.3333333333333333,
             "#31688e"
            ],
            [
             0.4444444444444444,
             "#26828e"
            ],
            [
             0.5555555555555556,
             "#1f9e89"
            ],
            [
             0.6666666666666666,
             "#35b779"
            ],
            [
             0.7777777777777778,
             "#6ece58"
            ],
            [
             0.8888888888888888,
             "#b5de2b"
            ],
            [
             1,
             "#fde725"
            ]
           ]
          },
          "colorway": [
           "#1F77B4",
           "#FF7F0E",
           "#2CA02C",
           "#D62728",
           "#9467BD",
           "#8C564B",
           "#E377C2",
           "#7F7F7F",
           "#BCBD22",
           "#17BECF"
          ],
          "font": {
           "color": "rgb(36,36,36)"
          },
          "geo": {
           "bgcolor": "white",
           "lakecolor": "white",
           "landcolor": "white",
           "showlakes": true,
           "showland": true,
           "subunitcolor": "white"
          },
          "hoverlabel": {
           "align": "left"
          },
          "hovermode": "closest",
          "mapbox": {
           "style": "light"
          },
          "paper_bgcolor": "white",
          "plot_bgcolor": "white",
          "polar": {
           "angularaxis": {
            "gridcolor": "rgb(232,232,232)",
            "linecolor": "rgb(36,36,36)",
            "showgrid": false,
            "showline": true,
            "ticks": "outside"
           },
           "bgcolor": "white",
           "radialaxis": {
            "gridcolor": "rgb(232,232,232)",
            "linecolor": "rgb(36,36,36)",
            "showgrid": false,
            "showline": true,
            "ticks": "outside"
           }
          },
          "scene": {
           "xaxis": {
            "backgroundcolor": "white",
            "gridcolor": "rgb(232,232,232)",
            "gridwidth": 2,
            "linecolor": "rgb(36,36,36)",
            "showbackground": true,
            "showgrid": false,
            "showline": true,
            "ticks": "outside",
            "zeroline": false,
            "zerolinecolor": "rgb(36,36,36)"
           },
           "yaxis": {
            "backgroundcolor": "white",
            "gridcolor": "rgb(232,232,232)",
            "gridwidth": 2,
            "linecolor": "rgb(36,36,36)",
            "showbackground": true,
            "showgrid": false,
            "showline": true,
            "ticks": "outside",
            "zeroline": false,
            "zerolinecolor": "rgb(36,36,36)"
           },
           "zaxis": {
            "backgroundcolor": "white",
            "gridcolor": "rgb(232,232,232)",
            "gridwidth": 2,
            "linecolor": "rgb(36,36,36)",
            "showbackground": true,
            "showgrid": false,
            "showline": true,
            "ticks": "outside",
            "zeroline": false,
            "zerolinecolor": "rgb(36,36,36)"
           }
          },
          "shapedefaults": {
           "fillcolor": "black",
           "line": {
            "width": 0
           },
           "opacity": 0.3
          },
          "ternary": {
           "aaxis": {
            "gridcolor": "rgb(232,232,232)",
            "linecolor": "rgb(36,36,36)",
            "showgrid": false,
            "showline": true,
            "ticks": "outside"
           },
           "baxis": {
            "gridcolor": "rgb(232,232,232)",
            "linecolor": "rgb(36,36,36)",
            "showgrid": false,
            "showline": true,
            "ticks": "outside"
           },
           "bgcolor": "white",
           "caxis": {
            "gridcolor": "rgb(232,232,232)",
            "linecolor": "rgb(36,36,36)",
            "showgrid": false,
            "showline": true,
            "ticks": "outside"
           }
          },
          "title": {
           "x": 0.05
          },
          "xaxis": {
           "automargin": true,
           "gridcolor": "rgb(232,232,232)",
           "linecolor": "rgb(36,36,36)",
           "showgrid": false,
           "showline": true,
           "ticks": "outside",
           "title": {
            "standoff": 15
           },
           "zeroline": false,
           "zerolinecolor": "rgb(36,36,36)"
          },
          "yaxis": {
           "automargin": true,
           "gridcolor": "rgb(232,232,232)",
           "linecolor": "rgb(36,36,36)",
           "showgrid": false,
           "showline": true,
           "ticks": "outside",
           "title": {
            "standoff": 15
           },
           "zeroline": false,
           "zerolinecolor": "rgb(36,36,36)"
          }
         }
        },
        "title": {
         "text": "Credit Amount Distribution by Sex and Risk"
        },
        "width": 1000,
        "xaxis": {
         "anchor": "y",
         "categoryarray": [
          "male",
          "female"
         ],
         "categoryorder": "array",
         "domain": [
          0,
          1
         ],
         "title": {
          "text": "Sex"
         }
        },
        "yaxis": {
         "anchor": "x",
         "domain": [
          0,
          1
         ],
         "title": {
          "text": "Credit Amount"
         }
        }
       }
      }
     },
     "metadata": {},
     "output_type": "display_data"
    }
   ],
   "source": [
    "# Create a grouped box plot\n",
    "fig = px.box(df_credit, x='Sex', y='Credit amount', color='Risk', points='all',\n",
    "             category_orders={'Sex': ['male', 'female'], 'Risk': ['good', 'bad']}, \n",
    "             color_discrete_map={'good':'blue', 'bad':'red'})\n",
    "\n",
    "# Update layout\n",
    "fig.update_layout(title='Credit Amount Distribution by Sex and Risk',\n",
    "                  xaxis_title='Sex',\n",
    "                  yaxis_title='Credit Amount',\n",
    "                  legend_title='Risk',\n",
    "                  boxmode='group',\n",
    "                  width=1000,\n",
    "                  template=\"simple_white\")\n",
    "\n",
    "# Show the plot\n",
    "fig.show()\n"
   ]
  },
  {
   "cell_type": "code",
   "execution_count": 16,
   "metadata": {},
   "outputs": [
    {
     "data": {
      "application/vnd.plotly.v1+json": {
       "config": {
        "plotlyServerURL": "https://plot.ly"
       },
       "data": [
        {
         "marker": {
          "color": "blue"
         },
         "name": "Good (male)",
         "type": "bar",
         "x": [
          "free",
          "own",
          "rent"
         ],
         "y": [
          56,
          390,
          53
         ]
        },
        {
         "marker": {
          "color": "lightblue"
         },
         "name": "Good (female)",
         "type": "bar",
         "x": [
          "free",
          "own",
          "rent"
         ],
         "y": [
          8,
          137,
          56
         ]
        },
        {
         "marker": {
          "color": "red"
         },
         "name": "Bad (male)",
         "type": "bar",
         "x": [
          "free",
          "own",
          "rent"
         ],
         "y": [
          33,
          127,
          31
         ]
        },
        {
         "marker": {
          "color": "lightcoral"
         },
         "name": "Bad (female)",
         "type": "bar",
         "x": [
          "free",
          "own",
          "rent"
         ],
         "y": [
          11,
          59,
          39
         ]
        }
       ],
       "layout": {
        "template": {
         "data": {
          "bar": [
           {
            "error_x": {
             "color": "rgb(36,36,36)"
            },
            "error_y": {
             "color": "rgb(36,36,36)"
            },
            "marker": {
             "line": {
              "color": "white",
              "width": 0.5
             },
             "pattern": {
              "fillmode": "overlay",
              "size": 10,
              "solidity": 0.2
             }
            },
            "type": "bar"
           }
          ],
          "barpolar": [
           {
            "marker": {
             "line": {
              "color": "white",
              "width": 0.5
             },
             "pattern": {
              "fillmode": "overlay",
              "size": 10,
              "solidity": 0.2
             }
            },
            "type": "barpolar"
           }
          ],
          "carpet": [
           {
            "aaxis": {
             "endlinecolor": "rgb(36,36,36)",
             "gridcolor": "white",
             "linecolor": "white",
             "minorgridcolor": "white",
             "startlinecolor": "rgb(36,36,36)"
            },
            "baxis": {
             "endlinecolor": "rgb(36,36,36)",
             "gridcolor": "white",
             "linecolor": "white",
             "minorgridcolor": "white",
             "startlinecolor": "rgb(36,36,36)"
            },
            "type": "carpet"
           }
          ],
          "choropleth": [
           {
            "colorbar": {
             "outlinewidth": 1,
             "tickcolor": "rgb(36,36,36)",
             "ticks": "outside"
            },
            "type": "choropleth"
           }
          ],
          "contour": [
           {
            "colorbar": {
             "outlinewidth": 1,
             "tickcolor": "rgb(36,36,36)",
             "ticks": "outside"
            },
            "colorscale": [
             [
              0,
              "#440154"
             ],
             [
              0.1111111111111111,
              "#482878"
             ],
             [
              0.2222222222222222,
              "#3e4989"
             ],
             [
              0.3333333333333333,
              "#31688e"
             ],
             [
              0.4444444444444444,
              "#26828e"
             ],
             [
              0.5555555555555556,
              "#1f9e89"
             ],
             [
              0.6666666666666666,
              "#35b779"
             ],
             [
              0.7777777777777778,
              "#6ece58"
             ],
             [
              0.8888888888888888,
              "#b5de2b"
             ],
             [
              1,
              "#fde725"
             ]
            ],
            "type": "contour"
           }
          ],
          "contourcarpet": [
           {
            "colorbar": {
             "outlinewidth": 1,
             "tickcolor": "rgb(36,36,36)",
             "ticks": "outside"
            },
            "type": "contourcarpet"
           }
          ],
          "heatmap": [
           {
            "colorbar": {
             "outlinewidth": 1,
             "tickcolor": "rgb(36,36,36)",
             "ticks": "outside"
            },
            "colorscale": [
             [
              0,
              "#440154"
             ],
             [
              0.1111111111111111,
              "#482878"
             ],
             [
              0.2222222222222222,
              "#3e4989"
             ],
             [
              0.3333333333333333,
              "#31688e"
             ],
             [
              0.4444444444444444,
              "#26828e"
             ],
             [
              0.5555555555555556,
              "#1f9e89"
             ],
             [
              0.6666666666666666,
              "#35b779"
             ],
             [
              0.7777777777777778,
              "#6ece58"
             ],
             [
              0.8888888888888888,
              "#b5de2b"
             ],
             [
              1,
              "#fde725"
             ]
            ],
            "type": "heatmap"
           }
          ],
          "heatmapgl": [
           {
            "colorbar": {
             "outlinewidth": 1,
             "tickcolor": "rgb(36,36,36)",
             "ticks": "outside"
            },
            "colorscale": [
             [
              0,
              "#440154"
             ],
             [
              0.1111111111111111,
              "#482878"
             ],
             [
              0.2222222222222222,
              "#3e4989"
             ],
             [
              0.3333333333333333,
              "#31688e"
             ],
             [
              0.4444444444444444,
              "#26828e"
             ],
             [
              0.5555555555555556,
              "#1f9e89"
             ],
             [
              0.6666666666666666,
              "#35b779"
             ],
             [
              0.7777777777777778,
              "#6ece58"
             ],
             [
              0.8888888888888888,
              "#b5de2b"
             ],
             [
              1,
              "#fde725"
             ]
            ],
            "type": "heatmapgl"
           }
          ],
          "histogram": [
           {
            "marker": {
             "line": {
              "color": "white",
              "width": 0.6
             }
            },
            "type": "histogram"
           }
          ],
          "histogram2d": [
           {
            "colorbar": {
             "outlinewidth": 1,
             "tickcolor": "rgb(36,36,36)",
             "ticks": "outside"
            },
            "colorscale": [
             [
              0,
              "#440154"
             ],
             [
              0.1111111111111111,
              "#482878"
             ],
             [
              0.2222222222222222,
              "#3e4989"
             ],
             [
              0.3333333333333333,
              "#31688e"
             ],
             [
              0.4444444444444444,
              "#26828e"
             ],
             [
              0.5555555555555556,
              "#1f9e89"
             ],
             [
              0.6666666666666666,
              "#35b779"
             ],
             [
              0.7777777777777778,
              "#6ece58"
             ],
             [
              0.8888888888888888,
              "#b5de2b"
             ],
             [
              1,
              "#fde725"
             ]
            ],
            "type": "histogram2d"
           }
          ],
          "histogram2dcontour": [
           {
            "colorbar": {
             "outlinewidth": 1,
             "tickcolor": "rgb(36,36,36)",
             "ticks": "outside"
            },
            "colorscale": [
             [
              0,
              "#440154"
             ],
             [
              0.1111111111111111,
              "#482878"
             ],
             [
              0.2222222222222222,
              "#3e4989"
             ],
             [
              0.3333333333333333,
              "#31688e"
             ],
             [
              0.4444444444444444,
              "#26828e"
             ],
             [
              0.5555555555555556,
              "#1f9e89"
             ],
             [
              0.6666666666666666,
              "#35b779"
             ],
             [
              0.7777777777777778,
              "#6ece58"
             ],
             [
              0.8888888888888888,
              "#b5de2b"
             ],
             [
              1,
              "#fde725"
             ]
            ],
            "type": "histogram2dcontour"
           }
          ],
          "mesh3d": [
           {
            "colorbar": {
             "outlinewidth": 1,
             "tickcolor": "rgb(36,36,36)",
             "ticks": "outside"
            },
            "type": "mesh3d"
           }
          ],
          "parcoords": [
           {
            "line": {
             "colorbar": {
              "outlinewidth": 1,
              "tickcolor": "rgb(36,36,36)",
              "ticks": "outside"
             }
            },
            "type": "parcoords"
           }
          ],
          "pie": [
           {
            "automargin": true,
            "type": "pie"
           }
          ],
          "scatter": [
           {
            "fillpattern": {
             "fillmode": "overlay",
             "size": 10,
             "solidity": 0.2
            },
            "type": "scatter"
           }
          ],
          "scatter3d": [
           {
            "line": {
             "colorbar": {
              "outlinewidth": 1,
              "tickcolor": "rgb(36,36,36)",
              "ticks": "outside"
             }
            },
            "marker": {
             "colorbar": {
              "outlinewidth": 1,
              "tickcolor": "rgb(36,36,36)",
              "ticks": "outside"
             }
            },
            "type": "scatter3d"
           }
          ],
          "scattercarpet": [
           {
            "marker": {
             "colorbar": {
              "outlinewidth": 1,
              "tickcolor": "rgb(36,36,36)",
              "ticks": "outside"
             }
            },
            "type": "scattercarpet"
           }
          ],
          "scattergeo": [
           {
            "marker": {
             "colorbar": {
              "outlinewidth": 1,
              "tickcolor": "rgb(36,36,36)",
              "ticks": "outside"
             }
            },
            "type": "scattergeo"
           }
          ],
          "scattergl": [
           {
            "marker": {
             "colorbar": {
              "outlinewidth": 1,
              "tickcolor": "rgb(36,36,36)",
              "ticks": "outside"
             }
            },
            "type": "scattergl"
           }
          ],
          "scattermapbox": [
           {
            "marker": {
             "colorbar": {
              "outlinewidth": 1,
              "tickcolor": "rgb(36,36,36)",
              "ticks": "outside"
             }
            },
            "type": "scattermapbox"
           }
          ],
          "scatterpolar": [
           {
            "marker": {
             "colorbar": {
              "outlinewidth": 1,
              "tickcolor": "rgb(36,36,36)",
              "ticks": "outside"
             }
            },
            "type": "scatterpolar"
           }
          ],
          "scatterpolargl": [
           {
            "marker": {
             "colorbar": {
              "outlinewidth": 1,
              "tickcolor": "rgb(36,36,36)",
              "ticks": "outside"
             }
            },
            "type": "scatterpolargl"
           }
          ],
          "scatterternary": [
           {
            "marker": {
             "colorbar": {
              "outlinewidth": 1,
              "tickcolor": "rgb(36,36,36)",
              "ticks": "outside"
             }
            },
            "type": "scatterternary"
           }
          ],
          "surface": [
           {
            "colorbar": {
             "outlinewidth": 1,
             "tickcolor": "rgb(36,36,36)",
             "ticks": "outside"
            },
            "colorscale": [
             [
              0,
              "#440154"
             ],
             [
              0.1111111111111111,
              "#482878"
             ],
             [
              0.2222222222222222,
              "#3e4989"
             ],
             [
              0.3333333333333333,
              "#31688e"
             ],
             [
              0.4444444444444444,
              "#26828e"
             ],
             [
              0.5555555555555556,
              "#1f9e89"
             ],
             [
              0.6666666666666666,
              "#35b779"
             ],
             [
              0.7777777777777778,
              "#6ece58"
             ],
             [
              0.8888888888888888,
              "#b5de2b"
             ],
             [
              1,
              "#fde725"
             ]
            ],
            "type": "surface"
           }
          ],
          "table": [
           {
            "cells": {
             "fill": {
              "color": "rgb(237,237,237)"
             },
             "line": {
              "color": "white"
             }
            },
            "header": {
             "fill": {
              "color": "rgb(217,217,217)"
             },
             "line": {
              "color": "white"
             }
            },
            "type": "table"
           }
          ]
         },
         "layout": {
          "annotationdefaults": {
           "arrowhead": 0,
           "arrowwidth": 1
          },
          "autotypenumbers": "strict",
          "coloraxis": {
           "colorbar": {
            "outlinewidth": 1,
            "tickcolor": "rgb(36,36,36)",
            "ticks": "outside"
           }
          },
          "colorscale": {
           "diverging": [
            [
             0,
             "rgb(103,0,31)"
            ],
            [
             0.1,
             "rgb(178,24,43)"
            ],
            [
             0.2,
             "rgb(214,96,77)"
            ],
            [
             0.3,
             "rgb(244,165,130)"
            ],
            [
             0.4,
             "rgb(253,219,199)"
            ],
            [
             0.5,
             "rgb(247,247,247)"
            ],
            [
             0.6,
             "rgb(209,229,240)"
            ],
            [
             0.7,
             "rgb(146,197,222)"
            ],
            [
             0.8,
             "rgb(67,147,195)"
            ],
            [
             0.9,
             "rgb(33,102,172)"
            ],
            [
             1,
             "rgb(5,48,97)"
            ]
           ],
           "sequential": [
            [
             0,
             "#440154"
            ],
            [
             0.1111111111111111,
             "#482878"
            ],
            [
             0.2222222222222222,
             "#3e4989"
            ],
            [
             0.3333333333333333,
             "#31688e"
            ],
            [
             0.4444444444444444,
             "#26828e"
            ],
            [
             0.5555555555555556,
             "#1f9e89"
            ],
            [
             0.6666666666666666,
             "#35b779"
            ],
            [
             0.7777777777777778,
             "#6ece58"
            ],
            [
             0.8888888888888888,
             "#b5de2b"
            ],
            [
             1,
             "#fde725"
            ]
           ],
           "sequentialminus": [
            [
             0,
             "#440154"
            ],
            [
             0.1111111111111111,
             "#482878"
            ],
            [
             0.2222222222222222,
             "#3e4989"
            ],
            [
             0.3333333333333333,
             "#31688e"
            ],
            [
             0.4444444444444444,
             "#26828e"
            ],
            [
             0.5555555555555556,
             "#1f9e89"
            ],
            [
             0.6666666666666666,
             "#35b779"
            ],
            [
             0.7777777777777778,
             "#6ece58"
            ],
            [
             0.8888888888888888,
             "#b5de2b"
            ],
            [
             1,
             "#fde725"
            ]
           ]
          },
          "colorway": [
           "#1F77B4",
           "#FF7F0E",
           "#2CA02C",
           "#D62728",
           "#9467BD",
           "#8C564B",
           "#E377C2",
           "#7F7F7F",
           "#BCBD22",
           "#17BECF"
          ],
          "font": {
           "color": "rgb(36,36,36)"
          },
          "geo": {
           "bgcolor": "white",
           "lakecolor": "white",
           "landcolor": "white",
           "showlakes": true,
           "showland": true,
           "subunitcolor": "white"
          },
          "hoverlabel": {
           "align": "left"
          },
          "hovermode": "closest",
          "mapbox": {
           "style": "light"
          },
          "paper_bgcolor": "white",
          "plot_bgcolor": "white",
          "polar": {
           "angularaxis": {
            "gridcolor": "rgb(232,232,232)",
            "linecolor": "rgb(36,36,36)",
            "showgrid": false,
            "showline": true,
            "ticks": "outside"
           },
           "bgcolor": "white",
           "radialaxis": {
            "gridcolor": "rgb(232,232,232)",
            "linecolor": "rgb(36,36,36)",
            "showgrid": false,
            "showline": true,
            "ticks": "outside"
           }
          },
          "scene": {
           "xaxis": {
            "backgroundcolor": "white",
            "gridcolor": "rgb(232,232,232)",
            "gridwidth": 2,
            "linecolor": "rgb(36,36,36)",
            "showbackground": true,
            "showgrid": false,
            "showline": true,
            "ticks": "outside",
            "zeroline": false,
            "zerolinecolor": "rgb(36,36,36)"
           },
           "yaxis": {
            "backgroundcolor": "white",
            "gridcolor": "rgb(232,232,232)",
            "gridwidth": 2,
            "linecolor": "rgb(36,36,36)",
            "showbackground": true,
            "showgrid": false,
            "showline": true,
            "ticks": "outside",
            "zeroline": false,
            "zerolinecolor": "rgb(36,36,36)"
           },
           "zaxis": {
            "backgroundcolor": "white",
            "gridcolor": "rgb(232,232,232)",
            "gridwidth": 2,
            "linecolor": "rgb(36,36,36)",
            "showbackground": true,
            "showgrid": false,
            "showline": true,
            "ticks": "outside",
            "zeroline": false,
            "zerolinecolor": "rgb(36,36,36)"
           }
          },
          "shapedefaults": {
           "fillcolor": "black",
           "line": {
            "width": 0
           },
           "opacity": 0.3
          },
          "ternary": {
           "aaxis": {
            "gridcolor": "rgb(232,232,232)",
            "linecolor": "rgb(36,36,36)",
            "showgrid": false,
            "showline": true,
            "ticks": "outside"
           },
           "baxis": {
            "gridcolor": "rgb(232,232,232)",
            "linecolor": "rgb(36,36,36)",
            "showgrid": false,
            "showline": true,
            "ticks": "outside"
           },
           "bgcolor": "white",
           "caxis": {
            "gridcolor": "rgb(232,232,232)",
            "linecolor": "rgb(36,36,36)",
            "showgrid": false,
            "showline": true,
            "ticks": "outside"
           }
          },
          "title": {
           "x": 0.05
          },
          "xaxis": {
           "automargin": true,
           "gridcolor": "rgb(232,232,232)",
           "linecolor": "rgb(36,36,36)",
           "showgrid": false,
           "showline": true,
           "ticks": "outside",
           "title": {
            "standoff": 15
           },
           "zeroline": false,
           "zerolinecolor": "rgb(36,36,36)"
          },
          "yaxis": {
           "automargin": true,
           "gridcolor": "rgb(232,232,232)",
           "linecolor": "rgb(36,36,36)",
           "showgrid": false,
           "showline": true,
           "ticks": "outside",
           "title": {
            "standoff": 15
           },
           "zeroline": false,
           "zerolinecolor": "rgb(36,36,36)"
          }
         }
        },
        "title": {
         "text": "Housing Distribution by Credit Risk and Sex"
        }
       }
      }
     },
     "metadata": {},
     "output_type": "display_data"
    }
   ],
   "source": [
    "# Calculate value counts for each housing type and credit risk for good credit\n",
    "df_good = df_credit[df_credit['Risk'] == 'good']\n",
    "good_counts = df_good.groupby(['Housing', 'Sex']).size().reset_index(name='count')\n",
    "\n",
    "# Calculate value counts for each housing type and credit risk for bad credit\n",
    "df_bad = df_credit[df_credit['Risk'] == 'bad']\n",
    "bad_counts = df_bad.groupby(['Housing', 'Sex']).size().reset_index(name='count')\n",
    "\n",
    "# Create the bar charts\n",
    "trace0 = go.Bar(\n",
    "    x=good_counts[good_counts['Sex'] == 'male']['Housing'],\n",
    "    y=good_counts[good_counts['Sex'] == 'male']['count'],\n",
    "    name='Good (male)',\n",
    "    marker_color='blue'\n",
    ")\n",
    "trace1 = go.Bar(\n",
    "    x=good_counts[good_counts['Sex'] == 'female']['Housing'],\n",
    "    y=good_counts[good_counts['Sex'] == 'female']['count'],\n",
    "    name='Good (female)',\n",
    "    marker_color='lightblue'\n",
    ")\n",
    "trace2 = go.Bar(\n",
    "    x=bad_counts[bad_counts['Sex'] == 'male']['Housing'],\n",
    "    y=bad_counts[bad_counts['Sex'] == 'male']['count'],\n",
    "    name='Bad (male)',\n",
    "    marker_color='red'\n",
    ")\n",
    "trace3 = go.Bar(\n",
    "    x=bad_counts[bad_counts['Sex'] == 'female']['Housing'],\n",
    "    y=bad_counts[bad_counts['Sex'] == 'female']['count'],\n",
    "    name='Bad (female)',\n",
    "    marker_color='lightcoral'\n",
    ")\n",
    "\n",
    "# Create the figure\n",
    "data = [trace0, trace1, trace2, trace3]\n",
    "\n",
    "layout = go.Layout(\n",
    "    title='Housing Distribution by Credit Risk and Sex',\n",
    "    template=\"simple_white\"\n",
    ")\n",
    "\n",
    "fig = go.Figure(data=data, layout=layout)\n",
    "fig.show()\n"
   ]
  },
  {
   "cell_type": "code",
   "execution_count": 17,
   "metadata": {},
   "outputs": [
    {
     "name": "stdout",
     "output_type": "stream",
     "text": [
      "Chi-squared test statistic: 5.35\n",
      "P-value: 0.02\n",
      "Expected frequencies:\n",
      "[[ 93. 217.]\n",
      " [207. 483.]]\n",
      "female and bad: 109 (expected 93.00)\n",
      "female and good: 201 (expected 217.00)\n",
      "male and bad: 191 (expected 207.00)\n",
      "male and good: 499 (expected 483.00)\n"
     ]
    }
   ],
   "source": [
    "from scipy.stats import chi2_contingency\n",
    "\n",
    "# Create a contingency table of 'Sex' and 'Risk'\n",
    "contingency_table = pd.crosstab(df_credit['Sex'], df_credit['Risk'])\n",
    "\n",
    "# Perform chi-squared test\n",
    "chi2_stat, p_val, dof, expected = chi2_contingency(contingency_table)\n",
    "\n",
    "# Display results\n",
    "print(f\"Chi-squared test statistic: {chi2_stat:.2f}\")\n",
    "print(f\"P-value: {p_val:.2f}\")\n",
    "print(\"Expected frequencies:\")\n",
    "print(expected)\n",
    "\n",
    "# Display dependencies between subclasses\n",
    "for sex in contingency_table.index:\n",
    "    for risk in contingency_table.columns:\n",
    "        expected_count = expected[contingency_table.index.get_loc(sex)][contingency_table.columns.get_loc(risk)]\n",
    "        observed_count = contingency_table.loc[sex, risk]\n",
    "        print(f\"{sex} and {risk}: {observed_count} (expected {expected_count:.2f})\")\n"
   ]
  },
  {
   "cell_type": "markdown",
   "metadata": {},
   "source": [
    "The results of the chi-squared test show that there is a statistically significant association between the variables 'Sex' and 'Risk' (chi-squared test statistic = 5.35, p-value = 0.02). This suggests that the likelihood of having good or bad credit is dependent of the individual's sex.\n",
    "\n",
    "The expected frequencies table shows the expected number of individuals in each category under the assumption of independence between the variables 'Sex' and 'Risk'. The observed frequencies table shows the actual number of individuals in each category. By comparing the observed and expected frequencies, we can see that there are some notable differences.\n",
    "\n",
    "The dependencies between subclasses show the observed and expected frequencies for each combination of 'Sex' and 'Risk'. For example, we can see that there were 109 females with bad credit (observed count), whereas the expected count based on the assumption of independence was 93. Similarly, there were 499 males with good credit (observed count), whereas the expected count based on the assumption of independence was 483.\n",
    "\n",
    "Overall, these results suggest that there is a relationship between an individual's sex and their likelihood of having good or bad credit, which is not accounted for by chance alone. However, further analysis would be required to determine the nature and strength of this relationship.\n",
    "_______________________"
   ]
  }
 ],
 "metadata": {
  "kernelspec": {
   "display_name": "Python 3 (ipykernel)",
   "language": "python",
   "name": "python3"
  },
  "language_info": {
   "codemirror_mode": {
    "name": "ipython",
    "version": 3
   },
   "file_extension": ".py",
   "mimetype": "text/x-python",
   "name": "python",
   "nbconvert_exporter": "python",
   "pygments_lexer": "ipython3",
   "version": "3.11.5"
  }
 },
 "nbformat": 4,
 "nbformat_minor": 2
}
