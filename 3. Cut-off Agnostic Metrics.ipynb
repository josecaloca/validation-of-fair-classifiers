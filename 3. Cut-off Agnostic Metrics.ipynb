{
 "cells": [
  {
   "attachments": {},
   "cell_type": "markdown",
   "metadata": {},
   "source": [
    "Author: Jose Caloca\n",
    "\n",
    "\n",
    "Date: 21/04/2023"
   ]
  },
  {
   "cell_type": "code",
   "execution_count": null,
   "metadata": {},
   "outputs": [],
   "source": [
    "import pandas as pd\n",
    "import numpy as np\n",
    "import seaborn as sns\n",
    "import matplotlib.pyplot as plt #to plot some parameters in seaborn\n",
    "from scipy.stats import ttest_ind, f_oneway, anderson_ksamp, ks_2samp, linregress\n",
    "from utils.fairness_functions import *\n",
    "\n",
    "import warnings\n",
    "warnings.filterwarnings('ignore')"
   ]
  },
  {
   "cell_type": "code",
   "execution_count": null,
   "metadata": {},
   "outputs": [],
   "source": [
    "biased_model = True"
   ]
  },
  {
   "cell_type": "code",
   "execution_count": null,
   "metadata": {},
   "outputs": [],
   "source": [
    "if biased_model == True:\n",
    "    path=\"./data/model_output_biased.csv\"\n",
    "else:\n",
    "    path=\"./data/model_output_unbiased.csv\"\n",
    "    \n",
    "df = pd.read_csv(path)\n",
    "df.head()"
   ]
  },
  {
   "cell_type": "markdown",
   "metadata": {},
   "source": [
    "# Central tendency comparison: T-test & F-test"
   ]
  },
  {
   "cell_type": "code",
   "execution_count": null,
   "metadata": {},
   "outputs": [],
   "source": [
    "# plot the density plot\n",
    "sns.kdeplot(df.loc[df['Sex']=='male', 'Prob_default'], shade=True, label='Male')\n",
    "sns.kdeplot(df.loc[df['Sex']=='female', 'Prob_default'], shade=True, label='Female')\n",
    "\n",
    "# add red dotted line at 0.21930892990126283\n",
    "plt.axvline(x=0.21930892990126283, color='r', linestyle='--', label='Decision cut-off')\n",
    "\n",
    "# add legend and title\n",
    "plt.legend()\n",
    "plt.title('Probability of default by Sex')\n",
    "\n",
    "# display the plot\n",
    "plt.show()\n"
   ]
  },
  {
   "cell_type": "code",
   "execution_count": null,
   "metadata": {},
   "outputs": [],
   "source": [
    "# separate the male and female groups\n",
    "male = df[df['Sex'] == 'male']['Prob_default'].sort_values()\n",
    "female = df[df['Sex'] == 'female']['Prob_default'].sort_values()"
   ]
  },
  {
   "cell_type": "code",
   "execution_count": null,
   "metadata": {},
   "outputs": [],
   "source": [
    "# perform t-test\n",
    "t_stat, p_value = ttest_ind(male, female)\n",
    "ttest_results = pd.DataFrame({'Statistic': t_stat, 'P-value': p_value}, index=['T-test'])\n",
    "\n",
    "# perform f-test (one-way ANOVA)\n",
    "f_stat, p_value = f_oneway(male, female)\n",
    "anova_results = pd.DataFrame({'Statistic': f_stat, 'P-value': p_value}, index=['F-test'])\n",
    "\n",
    "# combine the results into a single table\n",
    "results_table = pd.concat([ttest_results, anova_results])"
   ]
  },
  {
   "cell_type": "code",
   "execution_count": null,
   "metadata": {},
   "outputs": [],
   "source": [
    "results_table"
   ]
  },
  {
   "cell_type": "markdown",
   "metadata": {},
   "source": [
    "# Distance between distributions"
   ]
  },
  {
   "cell_type": "code",
   "execution_count": null,
   "metadata": {},
   "outputs": [],
   "source": [
    "mean1 = np.mean(male)\n",
    "mean2 = np.mean(female)\n",
    "std1 = np.std(male, ddof=1)  # use ddof=1 for sample standard deviation\n",
    "std2 = np.std(female, ddof=1)\n",
    "\n",
    "# calculate Cohen's d\n",
    "d = (mean2 - mean1) / np.sqrt((std1 ** 2 + std2 ** 2) / 2)\n",
    "\n",
    "print(\"Cohen's d:\", d)"
   ]
  },
  {
   "cell_type": "code",
   "execution_count": null,
   "metadata": {},
   "outputs": [],
   "source": [
    "# plot the density plot\n",
    "\n",
    "sns.kdeplot(df.loc[df['Sex']=='male', 'Prob_default'], shade=True, label='Male')\n",
    "sns.kdeplot(df.loc[df['Sex']=='female', 'Prob_default'], shade=True, label='Female')\n",
    "\n",
    "# add Cohen's d as a horizontal line\n",
    "plt.axvline(x=mean1, label = \"Mean male\", color='blue', linestyle='--')\n",
    "plt.axvline(x=mean2, label = \"Mean female\", color='orange', linestyle='--')\n",
    "\n",
    "# add legend and title\n",
    "plt.legend()\n",
    "plt.title('Probability of default by Sex')\n",
    "plt.figtext(0, -0.05, f'The distribution of Male and Female is {round(d, 2)} std away from each other')\n",
    "\n",
    "# display the plot\n",
    "plt.show()\n"
   ]
  },
  {
   "cell_type": "markdown",
   "metadata": {},
   "source": [
    "# Cumulative distribution comparison"
   ]
  },
  {
   "cell_type": "code",
   "execution_count": null,
   "metadata": {},
   "outputs": [],
   "source": [
    "male, cdf_male = cdf(male) \n",
    "female, cdf_female = cdf(female)\n",
    "\n",
    "# Perform KS test\n",
    "ks_stat, ks_pvalue = ks_2samp(male, female)\n",
    "\n",
    "# Perform Anderson-Darling test\n",
    "ad_stat, ad_crit_vals, ad_sig_level = anderson_ksamp([male, female])\n",
    "ad_pvalue = 1 - ad_sig_level\n",
    "\n",
    "# Create DataFrame with test results\n",
    "results = pd.DataFrame({\n",
    "    'Test': ['KS test', 'Anderson-Darling test'],\n",
    "    'Statistic': [ks_stat, ad_stat],\n",
    "    'P-value': [ks_pvalue, ad_pvalue]\n",
    "})"
   ]
  },
  {
   "cell_type": "code",
   "execution_count": null,
   "metadata": {},
   "outputs": [],
   "source": [
    "results"
   ]
  },
  {
   "cell_type": "code",
   "execution_count": null,
   "metadata": {},
   "outputs": [],
   "source": [
    "# Visualize CDF for each protected sub-sample\n",
    "plt.plot(male, cdf_male, color = \"#fea049\", label=\"Male CDF\")\n",
    "plt.plot(female, cdf_female, color = \"#4470ff\", label=\"Female CDF\")\n",
    "plt.axvline(ks_stat, 0, 1, color=\"green\", linestyle=\"dashed\", label='Max distance')\n",
    "plt.axvline(x=0.21930892990126283, color='r', linestyle='--', label='Decision cut-off')\n",
    "plt.legend()\n",
    "plt.title(\"Kolmogorov-Smirnov Test\")\n",
    "plt.xlabel(\"Scores\")\n",
    "plt.ylabel(\"Probability\")\n",
    "plt.show()"
   ]
  },
  {
   "cell_type": "markdown",
   "metadata": {},
   "source": [
    "### Integral difference"
   ]
  },
  {
   "cell_type": "code",
   "execution_count": null,
   "metadata": {},
   "outputs": [],
   "source": [
    "np.trapz(y=cdf_male, x=male) - np.trapz(y=cdf_female, x=female)"
   ]
  },
  {
   "cell_type": "markdown",
   "metadata": {},
   "source": [
    "# Decile comparison in scores: PSI and Average Score Difference"
   ]
  },
  {
   "cell_type": "code",
   "execution_count": null,
   "metadata": {},
   "outputs": [],
   "source": [
    "df['Decile_rank'] = add_decile(df, 'Prob_default')\n",
    "df['unique_key'] = range(0, len(df))\n",
    "male_df =  df[df['Sex'] == 'male']\n",
    "female_df =  df[df['Sex'] == 'female']"
   ]
  },
  {
   "cell_type": "code",
   "execution_count": null,
   "metadata": {},
   "outputs": [],
   "source": [
    "results_psi = PSI(male_df, female_df, 'Prob_default', 'unique_key')\n",
    "results_psi"
   ]
  },
  {
   "cell_type": "code",
   "execution_count": null,
   "metadata": {},
   "outputs": [],
   "source": [
    "results_psi['PSI'].sum()"
   ]
  },
  {
   "cell_type": "code",
   "execution_count": null,
   "metadata": {},
   "outputs": [],
   "source": [
    "df_pct, linear_regression_result = score_percentile_comparison(\n",
    "    df, \n",
    "    protected_variable = 'Sex', \n",
    "    score = 'Prob_default', \n",
    "    favoured_class='male', \n",
    "    deprived_class='female', \n",
    "    plot = True\n",
    ")"
   ]
  },
  {
   "cell_type": "code",
   "execution_count": null,
   "metadata": {},
   "outputs": [],
   "source": [
    "df_pct"
   ]
  },
  {
   "cell_type": "code",
   "execution_count": null,
   "metadata": {},
   "outputs": [],
   "source": [
    "linear_regression_result"
   ]
  },
  {
   "cell_type": "markdown",
   "metadata": {},
   "source": [
    "Interpretation: On average, the percentage difference in the percentile scores of the probability of default between the favoured and deprived group is 11.7%"
   ]
  },
  {
   "cell_type": "code",
   "execution_count": null,
   "metadata": {},
   "outputs": [],
   "source": [
    "# df_pct.to_excel(\"./data/pct_score_difference.xlsx\", index=False)"
   ]
  }
 ],
 "metadata": {
  "kernelspec": {
   "display_name": "Python 3 (ipykernel)",
   "language": "python",
   "name": "python3"
  },
  "language_info": {
   "codemirror_mode": {
    "name": "ipython",
    "version": 3
   },
   "file_extension": ".py",
   "mimetype": "text/x-python",
   "name": "python",
   "nbconvert_exporter": "python",
   "pygments_lexer": "ipython3",
   "version": "3.9.15"
  }
 },
 "nbformat": 4,
 "nbformat_minor": 2
}
