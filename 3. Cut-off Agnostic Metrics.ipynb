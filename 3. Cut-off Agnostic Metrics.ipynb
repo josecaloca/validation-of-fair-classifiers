{
 "cells": [
  {
   "cell_type": "code",
   "execution_count": 1,
   "metadata": {},
   "outputs": [],
   "source": [
    "import pandas as pd\n",
    "import numpy as np\n",
    "import seaborn as sns\n",
    "import matplotlib.pyplot as plt #to plot some parameters in seaborn\n",
    "from scipy.stats import ttest_ind, f_oneway, anderson_ksamp, ks_2samp, linregress\n",
    "from utils.fairness_functions import *\n",
    "\n",
    "import warnings\n",
    "warnings.filterwarnings('ignore')"
   ]
  },
  {
   "cell_type": "code",
   "execution_count": 2,
   "metadata": {},
   "outputs": [],
   "source": [
    "biased_model = True"
   ]
  },
  {
   "cell_type": "code",
   "execution_count": 3,
   "metadata": {},
   "outputs": [
    {
     "data": {
      "text/html": [
       "<div>\n",
       "<style scoped>\n",
       "    .dataframe tbody tr th:only-of-type {\n",
       "        vertical-align: middle;\n",
       "    }\n",
       "\n",
       "    .dataframe tbody tr th {\n",
       "        vertical-align: top;\n",
       "    }\n",
       "\n",
       "    .dataframe thead th {\n",
       "        text-align: right;\n",
       "    }\n",
       "</style>\n",
       "<table border=\"1\" class=\"dataframe\">\n",
       "  <thead>\n",
       "    <tr style=\"text-align: right;\">\n",
       "      <th></th>\n",
       "      <th>Sex</th>\n",
       "      <th>Prob_default</th>\n",
       "      <th>Predicted_default</th>\n",
       "      <th>Realised_default</th>\n",
       "    </tr>\n",
       "  </thead>\n",
       "  <tbody>\n",
       "    <tr>\n",
       "      <th>0</th>\n",
       "      <td>male</td>\n",
       "      <td>0.085109</td>\n",
       "      <td>0</td>\n",
       "      <td>0</td>\n",
       "    </tr>\n",
       "    <tr>\n",
       "      <th>1</th>\n",
       "      <td>female</td>\n",
       "      <td>0.621278</td>\n",
       "      <td>1</td>\n",
       "      <td>1</td>\n",
       "    </tr>\n",
       "    <tr>\n",
       "      <th>2</th>\n",
       "      <td>male</td>\n",
       "      <td>0.072370</td>\n",
       "      <td>0</td>\n",
       "      <td>0</td>\n",
       "    </tr>\n",
       "    <tr>\n",
       "      <th>3</th>\n",
       "      <td>male</td>\n",
       "      <td>0.650876</td>\n",
       "      <td>1</td>\n",
       "      <td>0</td>\n",
       "    </tr>\n",
       "    <tr>\n",
       "      <th>4</th>\n",
       "      <td>male</td>\n",
       "      <td>0.506724</td>\n",
       "      <td>1</td>\n",
       "      <td>1</td>\n",
       "    </tr>\n",
       "  </tbody>\n",
       "</table>\n",
       "</div>"
      ],
      "text/plain": [
       "      Sex  Prob_default  Predicted_default  Realised_default\n",
       "0    male      0.085109                  0                 0\n",
       "1  female      0.621278                  1                 1\n",
       "2    male      0.072370                  0                 0\n",
       "3    male      0.650876                  1                 0\n",
       "4    male      0.506724                  1                 1"
      ]
     },
     "execution_count": 3,
     "metadata": {},
     "output_type": "execute_result"
    }
   ],
   "source": [
    "if biased_model == True:\n",
    "    path=\"./data/model_output_biased.csv\"\n",
    "else:\n",
    "    path=\"./data/model_output_unbiased.csv\"\n",
    "    \n",
    "df = pd.read_csv(path)\n",
    "df.head()"
   ]
  },
  {
   "cell_type": "markdown",
   "metadata": {},
   "source": [
    "# Central tendency comparison: T-test & F-test"
   ]
  },
  {
   "cell_type": "code",
   "execution_count": 4,
   "metadata": {},
   "outputs": [
    {
     "data": {
      "image/png": "[encoded data removed]",
      "text/plain": [
       "<Figure size 432x288 with 1 Axes>"
      ]
     },
     "metadata": {
      "needs_background": "light"
     },
     "output_type": "display_data"
    }
   ],
   "source": [
    "# plot the density plot\n",
    "sns.kdeplot(df.loc[df['Sex']=='male', 'Prob_default'], shade=True, label='Male')\n",
    "sns.kdeplot(df.loc[df['Sex']=='female', 'Prob_default'], shade=True, label='Female')\n",
    "\n",
    "# add red dotted line at 0.21930892990126283\n",
    "plt.axvline(x=0.21930892990126283, color='r', linestyle='--', label='Decision cut-off')\n",
    "\n",
    "# add legend and title\n",
    "plt.legend()\n",
    "plt.title('Probability of default by Sex')\n",
    "\n",
    "# display the plot\n",
    "plt.show()\n"
   ]
  },
  {
   "cell_type": "code",
   "execution_count": 5,
   "metadata": {},
   "outputs": [],
   "source": [
    "# separate the male and female groups\n",
    "male = df[df['Sex'] == 'male']['Prob_default'].sort_values()\n",
    "female = df[df['Sex'] == 'female']['Prob_default'].sort_values()"
   ]
  },
  {
   "cell_type": "code",
   "execution_count": 6,
   "metadata": {},
   "outputs": [],
   "source": [
    "# perform t-test\n",
    "t_stat, p_value = ttest_ind(male, female)\n",
    "ttest_results = pd.DataFrame({'Statistic': t_stat, 'P-value': p_value}, index=['T-test'])\n",
    "\n",
    "# perform f-test (one-way ANOVA)\n",
    "f_stat, p_value = f_oneway(male, female)\n",
    "anova_results = pd.DataFrame({'Statistic': f_stat, 'P-value': p_value}, index=['F-test'])\n",
    "\n",
    "# combine the results into a single table\n",
    "results_table = pd.concat([ttest_results, anova_results])"
   ]
  },
  {
   "cell_type": "code",
   "execution_count": 7,
   "metadata": {},
   "outputs": [
    {
     "data": {
      "text/html": [
       "<div>\n",
       "<style scoped>\n",
       "    .dataframe tbody tr th:only-of-type {\n",
       "        vertical-align: middle;\n",
       "    }\n",
       "\n",
       "    .dataframe tbody tr th {\n",
       "        vertical-align: top;\n",
       "    }\n",
       "\n",
       "    .dataframe thead th {\n",
       "        text-align: right;\n",
       "    }\n",
       "</style>\n",
       "<table border=\"1\" class=\"dataframe\">\n",
       "  <thead>\n",
       "    <tr style=\"text-align: right;\">\n",
       "      <th></th>\n",
       "      <th>Statistic</th>\n",
       "      <th>P-value</th>\n",
       "    </tr>\n",
       "  </thead>\n",
       "  <tbody>\n",
       "    <tr>\n",
       "      <th>T-test</th>\n",
       "      <td>-1.906243</td>\n",
       "      <td>0.056906</td>\n",
       "    </tr>\n",
       "    <tr>\n",
       "      <th>F-test</th>\n",
       "      <td>3.633762</td>\n",
       "      <td>0.056906</td>\n",
       "    </tr>\n",
       "  </tbody>\n",
       "</table>\n",
       "</div>"
      ],
      "text/plain": [
       "        Statistic   P-value\n",
       "T-test  -1.906243  0.056906\n",
       "F-test   3.633762  0.056906"
      ]
     },
     "execution_count": 7,
     "metadata": {},
     "output_type": "execute_result"
    }
   ],
   "source": [
    "results_table"
   ]
  },
  {
   "cell_type": "markdown",
   "metadata": {},
   "source": [
    "# Distance between distributions"
   ]
  },
  {
   "cell_type": "code",
   "execution_count": 8,
   "metadata": {},
   "outputs": [
    {
     "name": "stdout",
     "output_type": "stream",
     "text": [
      "Cohen's d: 0.13041623416047163\n"
     ]
    }
   ],
   "source": [
    "mean1 = np.mean(male)\n",
    "mean2 = np.mean(female)\n",
    "std1 = np.std(male, ddof=1)  # use ddof=1 for sample standard deviation\n",
    "std2 = np.std(female, ddof=1)\n",
    "\n",
    "# calculate Cohen's d\n",
    "d = (mean2 - mean1) / np.sqrt((std1 ** 2 + std2 ** 2) / 2)\n",
    "\n",
    "print(\"Cohen's d:\", d)"
   ]
  },
  {
   "cell_type": "code",
   "execution_count": 9,
   "metadata": {},
   "outputs": [
    {
     "data": {
      "image/png": "[encoded data removed]",
      "text/plain": [
       "<Figure size 432x288 with 1 Axes>"
      ]
     },
     "metadata": {
      "needs_background": "light"
     },
     "output_type": "display_data"
    }
   ],
   "source": [
    "# plot the density plot\n",
    "\n",
    "sns.kdeplot(df.loc[df['Sex']=='male', 'Prob_default'], shade=True, label='Male')\n",
    "sns.kdeplot(df.loc[df['Sex']=='female', 'Prob_default'], shade=True, label='Female')\n",
    "\n",
    "# add Cohen's d as a horizontal line\n",
    "plt.axvline(x=mean1, label = \"Mean male\", color='blue', linestyle='--')\n",
    "plt.axvline(x=mean2, label = \"Mean female\", color='orange', linestyle='--')\n",
    "\n",
    "# add legend and title\n",
    "plt.legend()\n",
    "plt.title('Probability of default by Sex')\n",
    "plt.figtext(0, -0.05, f'The distribution of Male and Female is {round(d, 2)} std away from each other')\n",
    "\n",
    "# display the plot\n",
    "plt.show()\n"
   ]
  },
  {
   "cell_type": "markdown",
   "metadata": {},
   "source": [
    "# Cumulative distribution comparison"
   ]
  },
  {
   "cell_type": "code",
   "execution_count": 10,
   "metadata": {},
   "outputs": [],
   "source": [
    "male, cdf_male = cdf(male) \n",
    "female, cdf_female = cdf(female)\n",
    "\n",
    "# Perform KS test\n",
    "ks_stat, ks_pvalue = ks_2samp(male, female)\n",
    "\n",
    "# Perform Anderson-Darling test\n",
    "ad_stat, ad_crit_vals, ad_sig_level = anderson_ksamp([male, female])\n",
    "ad_pvalue = 1 - ad_sig_level\n",
    "\n",
    "# Create DataFrame with test results\n",
    "results = pd.DataFrame({\n",
    "    'Test': ['KS test', 'Anderson-Darling test'],\n",
    "    'Statistic': [ks_stat, ad_stat],\n",
    "    'P-value': [ks_pvalue, ad_pvalue]\n",
    "})"
   ]
  },
  {
   "cell_type": "code",
   "execution_count": 11,
   "metadata": {},
   "outputs": [
    {
     "data": {
      "text/html": [
       "<div>\n",
       "<style scoped>\n",
       "    .dataframe tbody tr th:only-of-type {\n",
       "        vertical-align: middle;\n",
       "    }\n",
       "\n",
       "    .dataframe tbody tr th {\n",
       "        vertical-align: top;\n",
       "    }\n",
       "\n",
       "    .dataframe thead th {\n",
       "        text-align: right;\n",
       "    }\n",
       "</style>\n",
       "<table border=\"1\" class=\"dataframe\">\n",
       "  <thead>\n",
       "    <tr style=\"text-align: right;\">\n",
       "      <th></th>\n",
       "      <th>Test</th>\n",
       "      <th>Statistic</th>\n",
       "      <th>P-value</th>\n",
       "    </tr>\n",
       "  </thead>\n",
       "  <tbody>\n",
       "    <tr>\n",
       "      <th>0</th>\n",
       "      <td>KS test</td>\n",
       "      <td>0.086396</td>\n",
       "      <td>0.076441</td>\n",
       "    </tr>\n",
       "    <tr>\n",
       "      <th>1</th>\n",
       "      <td>Anderson-Darling test</td>\n",
       "      <td>2.119915</td>\n",
       "      <td>0.956428</td>\n",
       "    </tr>\n",
       "  </tbody>\n",
       "</table>\n",
       "</div>"
      ],
      "text/plain": [
       "                    Test  Statistic   P-value\n",
       "0                KS test   0.086396  0.076441\n",
       "1  Anderson-Darling test   2.119915  0.956428"
      ]
     },
     "execution_count": 11,
     "metadata": {},
     "output_type": "execute_result"
    }
   ],
   "source": [
    "results"
   ]
  },
  {
   "cell_type": "code",
   "execution_count": 12,
   "metadata": {},
   "outputs": [
    {
     "data": {
      "image/png": "[encoded data removed]",
      "text/plain": [
       "<Figure size 432x288 with 1 Axes>"
      ]
     },
     "metadata": {
      "needs_background": "light"
     },
     "output_type": "display_data"
    }
   ],
   "source": [
    "# Visualize CDF for each protected sub-sample\n",
    "plt.plot(male, cdf_male, color = \"#fea049\", label=\"Male CDF\")\n",
    "plt.plot(female, cdf_female, color = \"#4470ff\", label=\"Female CDF\")\n",
    "plt.axvline(ks_stat, 0, 1, color=\"green\", linestyle=\"dashed\", label='Max distance')\n",
    "plt.axvline(x=0.21930892990126283, color='r', linestyle='--', label='Decision cut-off')\n",
    "plt.legend()\n",
    "plt.title(\"Kolmogorov-Smirnov Test\")\n",
    "plt.xlabel(\"Scores\")\n",
    "plt.ylabel(\"Probability\")\n",
    "plt.show()"
   ]
  },
  {
   "cell_type": "markdown",
   "metadata": {},
   "source": [
    "### Integral difference"
   ]
  },
  {
   "cell_type": "code",
   "execution_count": 13,
   "metadata": {},
   "outputs": [
    {
     "data": {
      "text/plain": [
       "0.05101075924437293"
      ]
     },
     "execution_count": 13,
     "metadata": {},
     "output_type": "execute_result"
    }
   ],
   "source": [
    "np.trapz(y=cdf_male, x=male) - np.trapz(y=cdf_female, x=female)"
   ]
  },
  {
   "cell_type": "markdown",
   "metadata": {},
   "source": [
    "# Decile comparison in scores: PSI and Average Score Difference"
   ]
  },
  {
   "cell_type": "code",
   "execution_count": 14,
   "metadata": {},
   "outputs": [],
   "source": [
    "df['Decile_rank'] = add_decile(df, 'Prob_default')\n",
    "df['unique_key'] = range(0, len(df))\n",
    "male_df =  df[df['Sex'] == 'male']\n",
    "female_df =  df[df['Sex'] == 'female']"
   ]
  },
  {
   "cell_type": "code",
   "execution_count": 15,
   "metadata": {},
   "outputs": [
    {
     "data": {
      "text/html": [
       "<div>\n",
       "<style scoped>\n",
       "    .dataframe tbody tr th:only-of-type {\n",
       "        vertical-align: middle;\n",
       "    }\n",
       "\n",
       "    .dataframe tbody tr th {\n",
       "        vertical-align: top;\n",
       "    }\n",
       "\n",
       "    .dataframe thead tr th {\n",
       "        text-align: left;\n",
       "    }\n",
       "\n",
       "    .dataframe thead tr:last-of-type th {\n",
       "        text-align: right;\n",
       "    }\n",
       "</style>\n",
       "<table border=\"1\" class=\"dataframe\">\n",
       "  <thead>\n",
       "    <tr>\n",
       "      <th></th>\n",
       "      <th colspan=\"3\" halign=\"left\">Prob_default_x</th>\n",
       "      <th>unique_key_x</th>\n",
       "      <th>perc_x</th>\n",
       "      <th colspan=\"3\" halign=\"left\">Prob_default_y</th>\n",
       "      <th>unique_key_y</th>\n",
       "      <th>perc_y</th>\n",
       "      <th>PSI</th>\n",
       "    </tr>\n",
       "    <tr>\n",
       "      <th></th>\n",
       "      <th>mean</th>\n",
       "      <th>min</th>\n",
       "      <th>max</th>\n",
       "      <th>count</th>\n",
       "      <th></th>\n",
       "      <th>mean</th>\n",
       "      <th>min</th>\n",
       "      <th>max</th>\n",
       "      <th>count</th>\n",
       "      <th></th>\n",
       "      <th></th>\n",
       "    </tr>\n",
       "    <tr>\n",
       "      <th>Decile_rank</th>\n",
       "      <th></th>\n",
       "      <th></th>\n",
       "      <th></th>\n",
       "      <th></th>\n",
       "      <th></th>\n",
       "      <th></th>\n",
       "      <th></th>\n",
       "      <th></th>\n",
       "      <th></th>\n",
       "      <th></th>\n",
       "      <th></th>\n",
       "    </tr>\n",
       "  </thead>\n",
       "  <tbody>\n",
       "    <tr>\n",
       "      <th>0</th>\n",
       "      <td>0.052878</td>\n",
       "      <td>0.024592</td>\n",
       "      <td>0.073733</td>\n",
       "      <td>76</td>\n",
       "      <td>0.110145</td>\n",
       "      <td>0.054064</td>\n",
       "      <td>0.027013</td>\n",
       "      <td>0.073598</td>\n",
       "      <td>24</td>\n",
       "      <td>0.077419</td>\n",
       "      <td>0.011538</td>\n",
       "    </tr>\n",
       "    <tr>\n",
       "      <th>1</th>\n",
       "      <td>0.088435</td>\n",
       "      <td>0.073869</td>\n",
       "      <td>0.107319</td>\n",
       "      <td>74</td>\n",
       "      <td>0.107246</td>\n",
       "      <td>0.089608</td>\n",
       "      <td>0.073779</td>\n",
       "      <td>0.106927</td>\n",
       "      <td>26</td>\n",
       "      <td>0.083871</td>\n",
       "      <td>0.005747</td>\n",
       "    </tr>\n",
       "    <tr>\n",
       "      <th>2</th>\n",
       "      <td>0.127385</td>\n",
       "      <td>0.108335</td>\n",
       "      <td>0.151700</td>\n",
       "      <td>70</td>\n",
       "      <td>0.101449</td>\n",
       "      <td>0.125575</td>\n",
       "      <td>0.107532</td>\n",
       "      <td>0.150048</td>\n",
       "      <td>30</td>\n",
       "      <td>0.096774</td>\n",
       "      <td>0.000221</td>\n",
       "    </tr>\n",
       "    <tr>\n",
       "      <th>3</th>\n",
       "      <td>0.177023</td>\n",
       "      <td>0.152389</td>\n",
       "      <td>0.208031</td>\n",
       "      <td>60</td>\n",
       "      <td>0.086957</td>\n",
       "      <td>0.182678</td>\n",
       "      <td>0.152377</td>\n",
       "      <td>0.208495</td>\n",
       "      <td>40</td>\n",
       "      <td>0.129032</td>\n",
       "      <td>0.016605</td>\n",
       "    </tr>\n",
       "    <tr>\n",
       "      <th>4</th>\n",
       "      <td>0.238192</td>\n",
       "      <td>0.210715</td>\n",
       "      <td>0.269685</td>\n",
       "      <td>78</td>\n",
       "      <td>0.113043</td>\n",
       "      <td>0.237026</td>\n",
       "      <td>0.210032</td>\n",
       "      <td>0.269881</td>\n",
       "      <td>22</td>\n",
       "      <td>0.070968</td>\n",
       "      <td>0.019588</td>\n",
       "    </tr>\n",
       "    <tr>\n",
       "      <th>5</th>\n",
       "      <td>0.307611</td>\n",
       "      <td>0.270972</td>\n",
       "      <td>0.339993</td>\n",
       "      <td>72</td>\n",
       "      <td>0.104348</td>\n",
       "      <td>0.300750</td>\n",
       "      <td>0.273950</td>\n",
       "      <td>0.327223</td>\n",
       "      <td>28</td>\n",
       "      <td>0.090323</td>\n",
       "      <td>0.002024</td>\n",
       "    </tr>\n",
       "    <tr>\n",
       "      <th>6</th>\n",
       "      <td>0.372275</td>\n",
       "      <td>0.340205</td>\n",
       "      <td>0.402361</td>\n",
       "      <td>64</td>\n",
       "      <td>0.092754</td>\n",
       "      <td>0.373371</td>\n",
       "      <td>0.344832</td>\n",
       "      <td>0.402826</td>\n",
       "      <td>36</td>\n",
       "      <td>0.116129</td>\n",
       "      <td>0.005254</td>\n",
       "    </tr>\n",
       "    <tr>\n",
       "      <th>7</th>\n",
       "      <td>0.443464</td>\n",
       "      <td>0.403607</td>\n",
       "      <td>0.480862</td>\n",
       "      <td>68</td>\n",
       "      <td>0.098551</td>\n",
       "      <td>0.437485</td>\n",
       "      <td>0.402891</td>\n",
       "      <td>0.467843</td>\n",
       "      <td>32</td>\n",
       "      <td>0.103226</td>\n",
       "      <td>0.000217</td>\n",
       "    </tr>\n",
       "    <tr>\n",
       "      <th>8</th>\n",
       "      <td>0.532328</td>\n",
       "      <td>0.486986</td>\n",
       "      <td>0.588708</td>\n",
       "      <td>64</td>\n",
       "      <td>0.092754</td>\n",
       "      <td>0.540549</td>\n",
       "      <td>0.481183</td>\n",
       "      <td>0.589346</td>\n",
       "      <td>36</td>\n",
       "      <td>0.116129</td>\n",
       "      <td>0.005254</td>\n",
       "    </tr>\n",
       "    <tr>\n",
       "      <th>9</th>\n",
       "      <td>0.679975</td>\n",
       "      <td>0.589520</td>\n",
       "      <td>0.822259</td>\n",
       "      <td>64</td>\n",
       "      <td>0.092754</td>\n",
       "      <td>0.654282</td>\n",
       "      <td>0.589432</td>\n",
       "      <td>0.795941</td>\n",
       "      <td>36</td>\n",
       "      <td>0.116129</td>\n",
       "      <td>0.005254</td>\n",
       "    </tr>\n",
       "  </tbody>\n",
       "</table>\n",
       "</div>"
      ],
      "text/plain": [
       "            Prob_default_x                     unique_key_x    perc_x  \\\n",
       "                      mean       min       max        count             \n",
       "Decile_rank                                                             \n",
       "0                 0.052878  0.024592  0.073733           76  0.110145   \n",
       "1                 0.088435  0.073869  0.107319           74  0.107246   \n",
       "2                 0.127385  0.108335  0.151700           70  0.101449   \n",
       "3                 0.177023  0.152389  0.208031           60  0.086957   \n",
       "4                 0.238192  0.210715  0.269685           78  0.113043   \n",
       "5                 0.307611  0.270972  0.339993           72  0.104348   \n",
       "6                 0.372275  0.340205  0.402361           64  0.092754   \n",
       "7                 0.443464  0.403607  0.480862           68  0.098551   \n",
       "8                 0.532328  0.486986  0.588708           64  0.092754   \n",
       "9                 0.679975  0.589520  0.822259           64  0.092754   \n",
       "\n",
       "            Prob_default_y                     unique_key_y    perc_y  \\\n",
       "                      mean       min       max        count             \n",
       "Decile_rank                                                             \n",
       "0                 0.054064  0.027013  0.073598           24  0.077419   \n",
       "1                 0.089608  0.073779  0.106927           26  0.083871   \n",
       "2                 0.125575  0.107532  0.150048           30  0.096774   \n",
       "3                 0.182678  0.152377  0.208495           40  0.129032   \n",
       "4                 0.237026  0.210032  0.269881           22  0.070968   \n",
       "5                 0.300750  0.273950  0.327223           28  0.090323   \n",
       "6                 0.373371  0.344832  0.402826           36  0.116129   \n",
       "7                 0.437485  0.402891  0.467843           32  0.103226   \n",
       "8                 0.540549  0.481183  0.589346           36  0.116129   \n",
       "9                 0.654282  0.589432  0.795941           36  0.116129   \n",
       "\n",
       "                  PSI  \n",
       "                       \n",
       "Decile_rank            \n",
       "0            0.011538  \n",
       "1            0.005747  \n",
       "2            0.000221  \n",
       "3            0.016605  \n",
       "4            0.019588  \n",
       "5            0.002024  \n",
       "6            0.005254  \n",
       "7            0.000217  \n",
       "8            0.005254  \n",
       "9            0.005254  "
      ]
     },
     "execution_count": 15,
     "metadata": {},
     "output_type": "execute_result"
    }
   ],
   "source": [
    "results_psi = PSI(male_df, female_df, 'Prob_default', 'unique_key')\n",
    "results_psi"
   ]
  },
  {
   "cell_type": "code",
   "execution_count": 16,
   "metadata": {},
   "outputs": [
    {
     "data": {
      "text/plain": [
       "0.07170107266699434"
      ]
     },
     "execution_count": 16,
     "metadata": {},
     "output_type": "execute_result"
    }
   ],
   "source": [
    "results_psi['PSI'].sum()"
   ]
  },
  {
   "cell_type": "code",
   "execution_count": 17,
   "metadata": {},
   "outputs": [
    {
     "data": {
      "image/png": "[encoded data removed]",
      "text/plain": [
       "<Figure size 576x576 with 1 Axes>"
      ]
     },
     "metadata": {
      "needs_background": "light"
     },
     "output_type": "display_data"
    }
   ],
   "source": [
    "df_pct, linear_regression_result = score_percentile_comparison(\n",
    "    df, \n",
    "    protected_variable = 'Sex', \n",
    "    score = 'Prob_default', \n",
    "    favoured_class='male', \n",
    "    deprived_class='female', \n",
    "    plot = True\n",
    ")"
   ]
  },
  {
   "cell_type": "code",
   "execution_count": 18,
   "metadata": {},
   "outputs": [
    {
     "data": {
      "text/html": [
       "<div>\n",
       "<style scoped>\n",
       "    .dataframe tbody tr th:only-of-type {\n",
       "        vertical-align: middle;\n",
       "    }\n",
       "\n",
       "    .dataframe tbody tr th {\n",
       "        vertical-align: top;\n",
       "    }\n",
       "\n",
       "    .dataframe thead th {\n",
       "        text-align: right;\n",
       "    }\n",
       "</style>\n",
       "<table border=\"1\" class=\"dataframe\">\n",
       "  <thead>\n",
       "    <tr style=\"text-align: right;\">\n",
       "      <th></th>\n",
       "      <th>q_deprived</th>\n",
       "      <th>q_favoured</th>\n",
       "      <th>difference</th>\n",
       "    </tr>\n",
       "  </thead>\n",
       "  <tbody>\n",
       "    <tr>\n",
       "      <th>0</th>\n",
       "      <td>0.027013</td>\n",
       "      <td>0.024592</td>\n",
       "      <td>-0.002420</td>\n",
       "    </tr>\n",
       "    <tr>\n",
       "      <th>1</th>\n",
       "      <td>0.039023</td>\n",
       "      <td>0.032067</td>\n",
       "      <td>-0.006956</td>\n",
       "    </tr>\n",
       "    <tr>\n",
       "      <th>2</th>\n",
       "      <td>0.043775</td>\n",
       "      <td>0.039015</td>\n",
       "      <td>-0.004760</td>\n",
       "    </tr>\n",
       "    <tr>\n",
       "      <th>3</th>\n",
       "      <td>0.049879</td>\n",
       "      <td>0.044121</td>\n",
       "      <td>-0.005757</td>\n",
       "    </tr>\n",
       "    <tr>\n",
       "      <th>4</th>\n",
       "      <td>0.053484</td>\n",
       "      <td>0.047700</td>\n",
       "      <td>-0.005784</td>\n",
       "    </tr>\n",
       "    <tr>\n",
       "      <th>...</th>\n",
       "      <td>...</td>\n",
       "      <td>...</td>\n",
       "      <td>...</td>\n",
       "    </tr>\n",
       "    <tr>\n",
       "      <th>95</th>\n",
       "      <td>0.664903</td>\n",
       "      <td>0.653506</td>\n",
       "      <td>-0.011396</td>\n",
       "    </tr>\n",
       "    <tr>\n",
       "      <th>96</th>\n",
       "      <td>0.672749</td>\n",
       "      <td>0.684883</td>\n",
       "      <td>0.012134</td>\n",
       "    </tr>\n",
       "    <tr>\n",
       "      <th>97</th>\n",
       "      <td>0.682232</td>\n",
       "      <td>0.701658</td>\n",
       "      <td>0.019426</td>\n",
       "    </tr>\n",
       "    <tr>\n",
       "      <th>98</th>\n",
       "      <td>0.702324</td>\n",
       "      <td>0.729191</td>\n",
       "      <td>0.026867</td>\n",
       "    </tr>\n",
       "    <tr>\n",
       "      <th>99</th>\n",
       "      <td>0.727565</td>\n",
       "      <td>0.771064</td>\n",
       "      <td>0.043499</td>\n",
       "    </tr>\n",
       "  </tbody>\n",
       "</table>\n",
       "<p>100 rows × 3 columns</p>\n",
       "</div>"
      ],
      "text/plain": [
       "    q_deprived  q_favoured  difference\n",
       "0     0.027013    0.024592   -0.002420\n",
       "1     0.039023    0.032067   -0.006956\n",
       "2     0.043775    0.039015   -0.004760\n",
       "3     0.049879    0.044121   -0.005757\n",
       "4     0.053484    0.047700   -0.005784\n",
       "..         ...         ...         ...\n",
       "95    0.664903    0.653506   -0.011396\n",
       "96    0.672749    0.684883    0.012134\n",
       "97    0.682232    0.701658    0.019426\n",
       "98    0.702324    0.729191    0.026867\n",
       "99    0.727565    0.771064    0.043499\n",
       "\n",
       "[100 rows x 3 columns]"
      ]
     },
     "execution_count": 18,
     "metadata": {},
     "output_type": "execute_result"
    }
   ],
   "source": [
    "df_pct"
   ]
  },
  {
   "cell_type": "code",
   "execution_count": 19,
   "metadata": {},
   "outputs": [
    {
     "data": {
      "text/html": [
       "<div>\n",
       "<style scoped>\n",
       "    .dataframe tbody tr th:only-of-type {\n",
       "        vertical-align: middle;\n",
       "    }\n",
       "\n",
       "    .dataframe tbody tr th {\n",
       "        vertical-align: top;\n",
       "    }\n",
       "\n",
       "    .dataframe thead th {\n",
       "        text-align: right;\n",
       "    }\n",
       "</style>\n",
       "<table border=\"1\" class=\"dataframe\">\n",
       "  <thead>\n",
       "    <tr style=\"text-align: right;\">\n",
       "      <th></th>\n",
       "      <th>slope</th>\n",
       "      <th>intercept</th>\n",
       "      <th>p_value</th>\n",
       "    </tr>\n",
       "  </thead>\n",
       "  <tbody>\n",
       "    <tr>\n",
       "      <th>0</th>\n",
       "      <td>0.995079</td>\n",
       "      <td>0.026906</td>\n",
       "      <td>6.266081e-104</td>\n",
       "    </tr>\n",
       "  </tbody>\n",
       "</table>\n",
       "</div>"
      ],
      "text/plain": [
       "      slope  intercept        p_value\n",
       "0  0.995079   0.026906  6.266081e-104"
      ]
     },
     "execution_count": 19,
     "metadata": {},
     "output_type": "execute_result"
    }
   ],
   "source": [
    "linear_regression_result"
   ]
  },
  {
   "cell_type": "markdown",
   "metadata": {},
   "source": [
    "Interpretation: On average, the percentage difference in the percentile scores of the probability of default between the favoured and deprived group is 11.7%"
   ]
  },
  {
   "cell_type": "code",
   "execution_count": 20,
   "metadata": {},
   "outputs": [],
   "source": [
    "# df_pct.to_excel(\"./data/pct_score_difference.xlsx\", index=False)"
   ]
  }
 ],
 "metadata": {
  "kernelspec": {
   "display_name": "Python 3 (ipykernel)",
   "language": "python",
   "name": "python3"
  },
  "language_info": {
   "codemirror_mode": {
    "name": "ipython",
    "version": 3
   },
   "file_extension": ".py",
   "mimetype": "text/x-python",
   "name": "python",
   "nbconvert_exporter": "python",
   "pygments_lexer": "ipython3",
   "version": "3.9.12"
  }
 },
 "nbformat": 4,
 "nbformat_minor": 2
}
